{
 "cells": [
  {
   "cell_type": "markdown",
   "id": "54f38d62-6b32-4a99-96e3-7afb67cdb674",
   "metadata": {},
   "source": [
    "# Project Outline:\n",
    "1. Evaluate goals: \n",
    "    - Find drivers for customer churn at Telcho. Why are customers churning?\n",
    "    - Construct a ML classificatoin model that accurately predicts customer churn.\n",
    "    - Present your process and findings to the lead data scientist.\n",
    "2. Data Acquistion\n",
    "    - Aquire the data from the telco data set\n",
    "3. Data Preperation\n",
    "    - Clean the data: \n",
    "        - remove columns\n",
    "        - encode dummies\n",
    "        - create new features\n",
    "        - fix datatypes\n",
    "4. Exploratory data analysis and Hypothesis testing\n",
    "    - explore the univariate, bivariate, and multivariate variables to create hypothesis\n",
    "    - test the hypothesis with proper statistical tests\n",
    "5. Modeling:\n",
    "    - do some preprocessing\n",
    "    - find the best model for selected features out of:\n",
    "        - Decision tree\n",
    "        - Random forest\n",
    "        - KNN\n",
    "        - Logistic regression\n",
    "    - Complete train, validate, test\n",
    "6. Create Report"
   ]
  },
  {
   "cell_type": "markdown",
   "id": "b48c68f5-05a6-4e3f-8051-0685255911dc",
   "metadata": {},
   "source": [
    "# Imports\n",
    "Lets grab the important libraies and functions"
   ]
  },
  {
   "cell_type": "code",
   "execution_count": 1,
   "id": "077592f4-e674-4cf9-814f-d2b6eeaf95f1",
   "metadata": {
    "tags": []
   },
   "outputs": [],
   "source": [
    "# base imports\n",
    "import pandas as pd\n",
    "import numpy as np\n",
    "\n",
    "# functions\n",
    "import wrangle as wr\n",
    "\n",
    "# vizualizations\n",
    "import matplotlib.pyplot as plt\n",
    "import seaborn as sns\n",
    "from scipy import stats\n",
    "from sklearn.model_selection import train_test_split\n",
    "\n",
    "# imports for modeling\n",
    "from sklearn.model_selection import train_test_split\n",
    "from sklearn.impute import SimpleImputer\n",
    "from sklearn.tree import DecisionTreeClassifier\n",
    "from sklearn.tree import export_graphviz\n",
    "from sklearn.ensemble import RandomForestClassifier\n",
    "from sklearn.neighbors import KNeighborsClassifier\n",
    "from sklearn.linear_model import LogisticRegression\n",
    "from sklearn.metrics import classification_report\n",
    "from sklearn.metrics import confusion_matrix\n",
    "from sklearn.metrics import precision_recall_fscore_support\n",
    "from sklearn.metrics import ConfusionMatrixDisplay\n",
    "\n",
    "# for knn\n",
    "from sklearn.neighbors import KNeighborsClassifier\n",
    "\n",
    "# for decision tree\n",
    "from sklearn.tree import DecisionTreeClassifier\n",
    "from sklearn.tree import plot_tree\n",
    "\n",
    "# for random forest\n",
    "from sklearn.ensemble import RandomForestClassifier\n",
    "\n",
    "# for logistic regression\n",
    "from sklearn.linear_model import LogisticRegression\n",
    "\n",
    "# we dont like warnings\n",
    "import warnings\n",
    "warnings.filterwarnings(\"ignore\")"
   ]
  },
  {
   "cell_type": "markdown",
   "id": "98ef4ecf-6d8c-4101-b8f2-7cb8913ca752",
   "metadata": {},
   "source": [
    "# Data Aquisition: \n",
    "We need to grab our data from the `telco` data set. To do this we need these functions: \n",
    "- `get_db_rul` will take in sql credentials from a private enviornment file to make a connection url\n",
    "- `new_telco_data` will use the connection url to provide a telco data set given by a specific sql query\n",
    "- `get_telco_data` will get the telco data from a csv if it exists on the computer. If not it will encode one"
   ]
  },
  {
   "cell_type": "code",
   "execution_count": 2,
   "id": "d5feeb86-2a5d-4efe-8113-47f4c9ace6a8",
   "metadata": {
    "tags": []
   },
   "outputs": [
    {
     "data": {
      "text/html": [
       "<div>\n",
       "<style scoped>\n",
       "    .dataframe tbody tr th:only-of-type {\n",
       "        vertical-align: middle;\n",
       "    }\n",
       "\n",
       "    .dataframe tbody tr th {\n",
       "        vertical-align: top;\n",
       "    }\n",
       "\n",
       "    .dataframe thead th {\n",
       "        text-align: right;\n",
       "    }\n",
       "</style>\n",
       "<table border=\"1\" class=\"dataframe\">\n",
       "  <thead>\n",
       "    <tr style=\"text-align: right;\">\n",
       "      <th></th>\n",
       "      <th>payment_type_id</th>\n",
       "      <th>internet_service_type_id</th>\n",
       "      <th>contract_type_id</th>\n",
       "      <th>customer_id</th>\n",
       "      <th>gender</th>\n",
       "      <th>senior_citizen</th>\n",
       "      <th>partner</th>\n",
       "      <th>dependents</th>\n",
       "      <th>tenure</th>\n",
       "      <th>phone_service</th>\n",
       "      <th>...</th>\n",
       "      <th>tech_support</th>\n",
       "      <th>streaming_tv</th>\n",
       "      <th>streaming_movies</th>\n",
       "      <th>paperless_billing</th>\n",
       "      <th>monthly_charges</th>\n",
       "      <th>total_charges</th>\n",
       "      <th>churn</th>\n",
       "      <th>contract_type</th>\n",
       "      <th>internet_service_type</th>\n",
       "      <th>payment_type</th>\n",
       "    </tr>\n",
       "  </thead>\n",
       "  <tbody>\n",
       "    <tr>\n",
       "      <th>0</th>\n",
       "      <td>2</td>\n",
       "      <td>1</td>\n",
       "      <td>2</td>\n",
       "      <td>0002-ORFBO</td>\n",
       "      <td>Female</td>\n",
       "      <td>0</td>\n",
       "      <td>Yes</td>\n",
       "      <td>Yes</td>\n",
       "      <td>9</td>\n",
       "      <td>Yes</td>\n",
       "      <td>...</td>\n",
       "      <td>Yes</td>\n",
       "      <td>Yes</td>\n",
       "      <td>No</td>\n",
       "      <td>Yes</td>\n",
       "      <td>65.6</td>\n",
       "      <td>593.3</td>\n",
       "      <td>No</td>\n",
       "      <td>One year</td>\n",
       "      <td>DSL</td>\n",
       "      <td>Mailed check</td>\n",
       "    </tr>\n",
       "    <tr>\n",
       "      <th>1</th>\n",
       "      <td>2</td>\n",
       "      <td>1</td>\n",
       "      <td>1</td>\n",
       "      <td>0003-MKNFE</td>\n",
       "      <td>Male</td>\n",
       "      <td>0</td>\n",
       "      <td>No</td>\n",
       "      <td>No</td>\n",
       "      <td>9</td>\n",
       "      <td>Yes</td>\n",
       "      <td>...</td>\n",
       "      <td>No</td>\n",
       "      <td>No</td>\n",
       "      <td>Yes</td>\n",
       "      <td>No</td>\n",
       "      <td>59.9</td>\n",
       "      <td>542.4</td>\n",
       "      <td>No</td>\n",
       "      <td>Month-to-month</td>\n",
       "      <td>DSL</td>\n",
       "      <td>Mailed check</td>\n",
       "    </tr>\n",
       "    <tr>\n",
       "      <th>2</th>\n",
       "      <td>1</td>\n",
       "      <td>2</td>\n",
       "      <td>1</td>\n",
       "      <td>0004-TLHLJ</td>\n",
       "      <td>Male</td>\n",
       "      <td>0</td>\n",
       "      <td>No</td>\n",
       "      <td>No</td>\n",
       "      <td>4</td>\n",
       "      <td>Yes</td>\n",
       "      <td>...</td>\n",
       "      <td>No</td>\n",
       "      <td>No</td>\n",
       "      <td>No</td>\n",
       "      <td>Yes</td>\n",
       "      <td>73.9</td>\n",
       "      <td>280.85</td>\n",
       "      <td>Yes</td>\n",
       "      <td>Month-to-month</td>\n",
       "      <td>Fiber optic</td>\n",
       "      <td>Electronic check</td>\n",
       "    </tr>\n",
       "    <tr>\n",
       "      <th>3</th>\n",
       "      <td>1</td>\n",
       "      <td>2</td>\n",
       "      <td>1</td>\n",
       "      <td>0011-IGKFF</td>\n",
       "      <td>Male</td>\n",
       "      <td>1</td>\n",
       "      <td>Yes</td>\n",
       "      <td>No</td>\n",
       "      <td>13</td>\n",
       "      <td>Yes</td>\n",
       "      <td>...</td>\n",
       "      <td>No</td>\n",
       "      <td>Yes</td>\n",
       "      <td>Yes</td>\n",
       "      <td>Yes</td>\n",
       "      <td>98.0</td>\n",
       "      <td>1237.85</td>\n",
       "      <td>Yes</td>\n",
       "      <td>Month-to-month</td>\n",
       "      <td>Fiber optic</td>\n",
       "      <td>Electronic check</td>\n",
       "    </tr>\n",
       "    <tr>\n",
       "      <th>4</th>\n",
       "      <td>2</td>\n",
       "      <td>2</td>\n",
       "      <td>1</td>\n",
       "      <td>0013-EXCHZ</td>\n",
       "      <td>Female</td>\n",
       "      <td>1</td>\n",
       "      <td>Yes</td>\n",
       "      <td>No</td>\n",
       "      <td>3</td>\n",
       "      <td>Yes</td>\n",
       "      <td>...</td>\n",
       "      <td>Yes</td>\n",
       "      <td>Yes</td>\n",
       "      <td>No</td>\n",
       "      <td>Yes</td>\n",
       "      <td>83.9</td>\n",
       "      <td>267.4</td>\n",
       "      <td>Yes</td>\n",
       "      <td>Month-to-month</td>\n",
       "      <td>Fiber optic</td>\n",
       "      <td>Mailed check</td>\n",
       "    </tr>\n",
       "  </tbody>\n",
       "</table>\n",
       "<p>5 rows × 24 columns</p>\n",
       "</div>"
      ],
      "text/plain": [
       "   payment_type_id  internet_service_type_id  contract_type_id customer_id  \\\n",
       "0                2                         1                 2  0002-ORFBO   \n",
       "1                2                         1                 1  0003-MKNFE   \n",
       "2                1                         2                 1  0004-TLHLJ   \n",
       "3                1                         2                 1  0011-IGKFF   \n",
       "4                2                         2                 1  0013-EXCHZ   \n",
       "\n",
       "   gender  senior_citizen partner dependents  tenure phone_service  ...  \\\n",
       "0  Female               0     Yes        Yes       9           Yes  ...   \n",
       "1    Male               0      No         No       9           Yes  ...   \n",
       "2    Male               0      No         No       4           Yes  ...   \n",
       "3    Male               1     Yes         No      13           Yes  ...   \n",
       "4  Female               1     Yes         No       3           Yes  ...   \n",
       "\n",
       "  tech_support streaming_tv streaming_movies paperless_billing  \\\n",
       "0          Yes          Yes               No               Yes   \n",
       "1           No           No              Yes                No   \n",
       "2           No           No               No               Yes   \n",
       "3           No          Yes              Yes               Yes   \n",
       "4          Yes          Yes               No               Yes   \n",
       "\n",
       "  monthly_charges total_charges churn   contract_type  internet_service_type  \\\n",
       "0            65.6         593.3    No        One year                    DSL   \n",
       "1            59.9         542.4    No  Month-to-month                    DSL   \n",
       "2            73.9        280.85   Yes  Month-to-month            Fiber optic   \n",
       "3            98.0       1237.85   Yes  Month-to-month            Fiber optic   \n",
       "4            83.9         267.4   Yes  Month-to-month            Fiber optic   \n",
       "\n",
       "       payment_type  \n",
       "0      Mailed check  \n",
       "1      Mailed check  \n",
       "2  Electronic check  \n",
       "3  Electronic check  \n",
       "4      Mailed check  \n",
       "\n",
       "[5 rows x 24 columns]"
      ]
     },
     "execution_count": 2,
     "metadata": {},
     "output_type": "execute_result"
    }
   ],
   "source": [
    "# since there is already a telco.cvs, I will go ahead and pull it\n",
    "telco = wr.get_telco_data()\n",
    "telco.head()"
   ]
  },
  {
   "cell_type": "markdown",
   "id": "b52a5bca-0681-4177-b8b8-372caa4401db",
   "metadata": {},
   "source": [
    "# Data Preperation:\n",
    "Well would you look at that, the data is messy! Lets stress clean it up!\n",
    "1. I need to remove the duplicate columns\n",
    "2. Change a nasty data type. There were no nulls, but blank spaces.\n",
    "3. Split my data"
   ]
  },
  {
   "cell_type": "code",
   "execution_count": 3,
   "id": "462785dd-8af0-40ae-b45a-53f19cf0897d",
   "metadata": {
    "tags": []
   },
   "outputs": [
    {
     "name": "stdout",
     "output_type": "stream",
     "text": [
      "<class 'pandas.core.frame.DataFrame'>\n",
      "Int64Index: 7043 entries, 0 to 7042\n",
      "Data columns (total 24 columns):\n",
      " #   Column                    Non-Null Count  Dtype  \n",
      "---  ------                    --------------  -----  \n",
      " 0   payment_type_id           7043 non-null   int64  \n",
      " 1   internet_service_type_id  7043 non-null   int64  \n",
      " 2   contract_type_id          7043 non-null   int64  \n",
      " 3   customer_id               7043 non-null   object \n",
      " 4   gender                    7043 non-null   object \n",
      " 5   senior_citizen            7043 non-null   int64  \n",
      " 6   partner                   7043 non-null   object \n",
      " 7   dependents                7043 non-null   object \n",
      " 8   tenure                    7043 non-null   int64  \n",
      " 9   phone_service             7043 non-null   object \n",
      " 10  multiple_lines            7043 non-null   object \n",
      " 11  online_security           7043 non-null   object \n",
      " 12  online_backup             7043 non-null   object \n",
      " 13  device_protection         7043 non-null   object \n",
      " 14  tech_support              7043 non-null   object \n",
      " 15  streaming_tv              7043 non-null   object \n",
      " 16  streaming_movies          7043 non-null   object \n",
      " 17  paperless_billing         7043 non-null   object \n",
      " 18  monthly_charges           7043 non-null   float64\n",
      " 19  total_charges             7043 non-null   object \n",
      " 20  churn                     7043 non-null   object \n",
      " 21  contract_type             7043 non-null   object \n",
      " 22  internet_service_type     7043 non-null   object \n",
      " 23  payment_type              7043 non-null   object \n",
      "dtypes: float64(1), int64(5), object(18)\n",
      "memory usage: 1.3+ MB\n"
     ]
    }
   ],
   "source": [
    "# lets first get a glance:\n",
    "telco.info()"
   ]
  },
  {
   "cell_type": "code",
   "execution_count": 4,
   "id": "cad750cf-1361-44ab-b177-ec8f098ebed7",
   "metadata": {
    "tags": []
   },
   "outputs": [
    {
     "data": {
      "text/html": [
       "<div>\n",
       "<style scoped>\n",
       "    .dataframe tbody tr th:only-of-type {\n",
       "        vertical-align: middle;\n",
       "    }\n",
       "\n",
       "    .dataframe tbody tr th {\n",
       "        vertical-align: top;\n",
       "    }\n",
       "\n",
       "    .dataframe thead th {\n",
       "        text-align: right;\n",
       "    }\n",
       "</style>\n",
       "<table border=\"1\" class=\"dataframe\">\n",
       "  <thead>\n",
       "    <tr style=\"text-align: right;\">\n",
       "      <th>contract_type</th>\n",
       "      <th>Month-to-month</th>\n",
       "      <th>One year</th>\n",
       "      <th>Two year</th>\n",
       "    </tr>\n",
       "    <tr>\n",
       "      <th>contract_type_id</th>\n",
       "      <th></th>\n",
       "      <th></th>\n",
       "      <th></th>\n",
       "    </tr>\n",
       "  </thead>\n",
       "  <tbody>\n",
       "    <tr>\n",
       "      <th>1</th>\n",
       "      <td>3875</td>\n",
       "      <td>0</td>\n",
       "      <td>0</td>\n",
       "    </tr>\n",
       "    <tr>\n",
       "      <th>2</th>\n",
       "      <td>0</td>\n",
       "      <td>1473</td>\n",
       "      <td>0</td>\n",
       "    </tr>\n",
       "    <tr>\n",
       "      <th>3</th>\n",
       "      <td>0</td>\n",
       "      <td>0</td>\n",
       "      <td>1695</td>\n",
       "    </tr>\n",
       "  </tbody>\n",
       "</table>\n",
       "</div>"
      ],
      "text/plain": [
       "contract_type     Month-to-month  One year  Two year\n",
       "contract_type_id                                    \n",
       "1                           3875         0         0\n",
       "2                              0      1473         0\n",
       "3                              0         0      1695"
      ]
     },
     "execution_count": 4,
     "metadata": {},
     "output_type": "execute_result"
    }
   ],
   "source": [
    "# how do i know which colums are duplicate?\n",
    "pd.crosstab(telco.contract_type_id, telco.contract_type)"
   ]
  },
  {
   "cell_type": "code",
   "execution_count": 5,
   "id": "1aa46378-9f77-4548-bd58-5ff2fe68e333",
   "metadata": {
    "tags": []
   },
   "outputs": [
    {
     "data": {
      "text/html": [
       "<div>\n",
       "<style scoped>\n",
       "    .dataframe tbody tr th:only-of-type {\n",
       "        vertical-align: middle;\n",
       "    }\n",
       "\n",
       "    .dataframe tbody tr th {\n",
       "        vertical-align: top;\n",
       "    }\n",
       "\n",
       "    .dataframe thead th {\n",
       "        text-align: right;\n",
       "    }\n",
       "</style>\n",
       "<table border=\"1\" class=\"dataframe\">\n",
       "  <thead>\n",
       "    <tr style=\"text-align: right;\">\n",
       "      <th></th>\n",
       "      <th>payment_type_id</th>\n",
       "      <th>internet_service_type_id</th>\n",
       "      <th>contract_type_id</th>\n",
       "      <th>senior_citizen</th>\n",
       "      <th>tenure</th>\n",
       "      <th>monthly_charges</th>\n",
       "    </tr>\n",
       "  </thead>\n",
       "  <tbody>\n",
       "    <tr>\n",
       "      <th>count</th>\n",
       "      <td>7043.000000</td>\n",
       "      <td>7043.000000</td>\n",
       "      <td>7043.000000</td>\n",
       "      <td>7043.000000</td>\n",
       "      <td>7043.000000</td>\n",
       "      <td>7043.000000</td>\n",
       "    </tr>\n",
       "    <tr>\n",
       "      <th>mean</th>\n",
       "      <td>2.315633</td>\n",
       "      <td>1.872923</td>\n",
       "      <td>1.690473</td>\n",
       "      <td>0.162147</td>\n",
       "      <td>32.371149</td>\n",
       "      <td>64.761692</td>\n",
       "    </tr>\n",
       "    <tr>\n",
       "      <th>std</th>\n",
       "      <td>1.148907</td>\n",
       "      <td>0.737796</td>\n",
       "      <td>0.833755</td>\n",
       "      <td>0.368612</td>\n",
       "      <td>24.559481</td>\n",
       "      <td>30.090047</td>\n",
       "    </tr>\n",
       "    <tr>\n",
       "      <th>min</th>\n",
       "      <td>1.000000</td>\n",
       "      <td>1.000000</td>\n",
       "      <td>1.000000</td>\n",
       "      <td>0.000000</td>\n",
       "      <td>0.000000</td>\n",
       "      <td>18.250000</td>\n",
       "    </tr>\n",
       "    <tr>\n",
       "      <th>25%</th>\n",
       "      <td>1.000000</td>\n",
       "      <td>1.000000</td>\n",
       "      <td>1.000000</td>\n",
       "      <td>0.000000</td>\n",
       "      <td>9.000000</td>\n",
       "      <td>35.500000</td>\n",
       "    </tr>\n",
       "    <tr>\n",
       "      <th>50%</th>\n",
       "      <td>2.000000</td>\n",
       "      <td>2.000000</td>\n",
       "      <td>1.000000</td>\n",
       "      <td>0.000000</td>\n",
       "      <td>29.000000</td>\n",
       "      <td>70.350000</td>\n",
       "    </tr>\n",
       "    <tr>\n",
       "      <th>75%</th>\n",
       "      <td>3.000000</td>\n",
       "      <td>2.000000</td>\n",
       "      <td>2.000000</td>\n",
       "      <td>0.000000</td>\n",
       "      <td>55.000000</td>\n",
       "      <td>89.850000</td>\n",
       "    </tr>\n",
       "    <tr>\n",
       "      <th>max</th>\n",
       "      <td>4.000000</td>\n",
       "      <td>3.000000</td>\n",
       "      <td>3.000000</td>\n",
       "      <td>1.000000</td>\n",
       "      <td>72.000000</td>\n",
       "      <td>118.750000</td>\n",
       "    </tr>\n",
       "  </tbody>\n",
       "</table>\n",
       "</div>"
      ],
      "text/plain": [
       "       payment_type_id  internet_service_type_id  contract_type_id  \\\n",
       "count      7043.000000               7043.000000       7043.000000   \n",
       "mean          2.315633                  1.872923          1.690473   \n",
       "std           1.148907                  0.737796          0.833755   \n",
       "min           1.000000                  1.000000          1.000000   \n",
       "25%           1.000000                  1.000000          1.000000   \n",
       "50%           2.000000                  2.000000          1.000000   \n",
       "75%           3.000000                  2.000000          2.000000   \n",
       "max           4.000000                  3.000000          3.000000   \n",
       "\n",
       "       senior_citizen       tenure  monthly_charges  \n",
       "count     7043.000000  7043.000000      7043.000000  \n",
       "mean         0.162147    32.371149        64.761692  \n",
       "std          0.368612    24.559481        30.090047  \n",
       "min          0.000000     0.000000        18.250000  \n",
       "25%          0.000000     9.000000        35.500000  \n",
       "50%          0.000000    29.000000        70.350000  \n",
       "75%          0.000000    55.000000        89.850000  \n",
       "max          1.000000    72.000000       118.750000  "
      ]
     },
     "execution_count": 5,
     "metadata": {},
     "output_type": "execute_result"
    }
   ],
   "source": [
    "telco.describe()"
   ]
  },
  {
   "cell_type": "markdown",
   "id": "9e28e49c-6e06-45cd-88c7-dc3105e1f68d",
   "metadata": {
    "tags": []
   },
   "source": [
    "## Lets make this easy. How? Functions!\n",
    "- `clean_telco_data` is a function that drops the duplicate columns and also encodes my total charges as a float!\n",
    "- `split_telco_data` will run clean telco, and then split the data into train, validate, and test"
   ]
  },
  {
   "cell_type": "code",
   "execution_count": 6,
   "id": "6e2d40e8-baf3-4ad9-9241-de72146a2ee9",
   "metadata": {
    "tags": []
   },
   "outputs": [
    {
     "data": {
      "text/html": [
       "<div>\n",
       "<style scoped>\n",
       "    .dataframe tbody tr th:only-of-type {\n",
       "        vertical-align: middle;\n",
       "    }\n",
       "\n",
       "    .dataframe tbody tr th {\n",
       "        vertical-align: top;\n",
       "    }\n",
       "\n",
       "    .dataframe thead th {\n",
       "        text-align: right;\n",
       "    }\n",
       "</style>\n",
       "<table border=\"1\" class=\"dataframe\">\n",
       "  <thead>\n",
       "    <tr style=\"text-align: right;\">\n",
       "      <th></th>\n",
       "      <th>customer_id</th>\n",
       "      <th>gender</th>\n",
       "      <th>senior_citizen</th>\n",
       "      <th>partner</th>\n",
       "      <th>dependents</th>\n",
       "      <th>tenure</th>\n",
       "      <th>phone_service</th>\n",
       "      <th>multiple_lines</th>\n",
       "      <th>online_security</th>\n",
       "      <th>online_backup</th>\n",
       "      <th>...</th>\n",
       "      <th>streaming_tv</th>\n",
       "      <th>streaming_movies</th>\n",
       "      <th>paperless_billing</th>\n",
       "      <th>monthly_charges</th>\n",
       "      <th>total_charges</th>\n",
       "      <th>churn</th>\n",
       "      <th>contract_type</th>\n",
       "      <th>internet_service_type</th>\n",
       "      <th>payment_type</th>\n",
       "      <th>did_churn</th>\n",
       "    </tr>\n",
       "  </thead>\n",
       "  <tbody>\n",
       "    <tr>\n",
       "      <th>84</th>\n",
       "      <td>0135-NMXAP</td>\n",
       "      <td>Female</td>\n",
       "      <td>0</td>\n",
       "      <td>No</td>\n",
       "      <td>No</td>\n",
       "      <td>12</td>\n",
       "      <td>Yes</td>\n",
       "      <td>Yes</td>\n",
       "      <td>No</td>\n",
       "      <td>Yes</td>\n",
       "      <td>...</td>\n",
       "      <td>Yes</td>\n",
       "      <td>No</td>\n",
       "      <td>Yes</td>\n",
       "      <td>89.75</td>\n",
       "      <td>1052.40</td>\n",
       "      <td>Yes</td>\n",
       "      <td>Month-to-month</td>\n",
       "      <td>Fiber optic</td>\n",
       "      <td>Bank transfer (automatic)</td>\n",
       "      <td>1</td>\n",
       "    </tr>\n",
       "    <tr>\n",
       "      <th>5021</th>\n",
       "      <td>7055-JCGNI</td>\n",
       "      <td>Female</td>\n",
       "      <td>0</td>\n",
       "      <td>No</td>\n",
       "      <td>No</td>\n",
       "      <td>70</td>\n",
       "      <td>Yes</td>\n",
       "      <td>Yes</td>\n",
       "      <td>Yes</td>\n",
       "      <td>Yes</td>\n",
       "      <td>...</td>\n",
       "      <td>Yes</td>\n",
       "      <td>Yes</td>\n",
       "      <td>Yes</td>\n",
       "      <td>111.95</td>\n",
       "      <td>7795.95</td>\n",
       "      <td>No</td>\n",
       "      <td>Two year</td>\n",
       "      <td>Fiber optic</td>\n",
       "      <td>Credit card (automatic)</td>\n",
       "      <td>0</td>\n",
       "    </tr>\n",
       "    <tr>\n",
       "      <th>1577</th>\n",
       "      <td>2296-DKZFP</td>\n",
       "      <td>Female</td>\n",
       "      <td>0</td>\n",
       "      <td>Yes</td>\n",
       "      <td>No</td>\n",
       "      <td>65</td>\n",
       "      <td>Yes</td>\n",
       "      <td>No</td>\n",
       "      <td>Yes</td>\n",
       "      <td>Yes</td>\n",
       "      <td>...</td>\n",
       "      <td>No</td>\n",
       "      <td>Yes</td>\n",
       "      <td>No</td>\n",
       "      <td>71.00</td>\n",
       "      <td>4386.20</td>\n",
       "      <td>No</td>\n",
       "      <td>Two year</td>\n",
       "      <td>DSL</td>\n",
       "      <td>Bank transfer (automatic)</td>\n",
       "      <td>0</td>\n",
       "    </tr>\n",
       "    <tr>\n",
       "      <th>6366</th>\n",
       "      <td>9025-AOMKI</td>\n",
       "      <td>Female</td>\n",
       "      <td>0</td>\n",
       "      <td>No</td>\n",
       "      <td>No</td>\n",
       "      <td>6</td>\n",
       "      <td>Yes</td>\n",
       "      <td>Yes</td>\n",
       "      <td>No</td>\n",
       "      <td>No</td>\n",
       "      <td>...</td>\n",
       "      <td>Yes</td>\n",
       "      <td>Yes</td>\n",
       "      <td>Yes</td>\n",
       "      <td>93.55</td>\n",
       "      <td>536.40</td>\n",
       "      <td>Yes</td>\n",
       "      <td>Month-to-month</td>\n",
       "      <td>Fiber optic</td>\n",
       "      <td>Bank transfer (automatic)</td>\n",
       "      <td>1</td>\n",
       "    </tr>\n",
       "    <tr>\n",
       "      <th>3387</th>\n",
       "      <td>4817-VYYWS</td>\n",
       "      <td>Female</td>\n",
       "      <td>0</td>\n",
       "      <td>No</td>\n",
       "      <td>No</td>\n",
       "      <td>30</td>\n",
       "      <td>Yes</td>\n",
       "      <td>Yes</td>\n",
       "      <td>No</td>\n",
       "      <td>Yes</td>\n",
       "      <td>...</td>\n",
       "      <td>Yes</td>\n",
       "      <td>Yes</td>\n",
       "      <td>Yes</td>\n",
       "      <td>100.20</td>\n",
       "      <td>2983.80</td>\n",
       "      <td>Yes</td>\n",
       "      <td>Month-to-month</td>\n",
       "      <td>Fiber optic</td>\n",
       "      <td>Electronic check</td>\n",
       "      <td>1</td>\n",
       "    </tr>\n",
       "  </tbody>\n",
       "</table>\n",
       "<p>5 rows × 22 columns</p>\n",
       "</div>"
      ],
      "text/plain": [
       "     customer_id  gender  senior_citizen partner dependents  tenure  \\\n",
       "84    0135-NMXAP  Female               0      No         No      12   \n",
       "5021  7055-JCGNI  Female               0      No         No      70   \n",
       "1577  2296-DKZFP  Female               0     Yes         No      65   \n",
       "6366  9025-AOMKI  Female               0      No         No       6   \n",
       "3387  4817-VYYWS  Female               0      No         No      30   \n",
       "\n",
       "     phone_service multiple_lines online_security online_backup  ...  \\\n",
       "84             Yes            Yes              No           Yes  ...   \n",
       "5021           Yes            Yes             Yes           Yes  ...   \n",
       "1577           Yes             No             Yes           Yes  ...   \n",
       "6366           Yes            Yes              No            No  ...   \n",
       "3387           Yes            Yes              No           Yes  ...   \n",
       "\n",
       "     streaming_tv streaming_movies paperless_billing monthly_charges  \\\n",
       "84            Yes               No               Yes           89.75   \n",
       "5021          Yes              Yes               Yes          111.95   \n",
       "1577           No              Yes                No           71.00   \n",
       "6366          Yes              Yes               Yes           93.55   \n",
       "3387          Yes              Yes               Yes          100.20   \n",
       "\n",
       "     total_charges  churn   contract_type internet_service_type  \\\n",
       "84         1052.40    Yes  Month-to-month           Fiber optic   \n",
       "5021       7795.95     No        Two year           Fiber optic   \n",
       "1577       4386.20     No        Two year                   DSL   \n",
       "6366        536.40    Yes  Month-to-month           Fiber optic   \n",
       "3387       2983.80    Yes  Month-to-month           Fiber optic   \n",
       "\n",
       "                   payment_type did_churn  \n",
       "84    Bank transfer (automatic)         1  \n",
       "5021    Credit card (automatic)         0  \n",
       "1577  Bank transfer (automatic)         0  \n",
       "6366  Bank transfer (automatic)         1  \n",
       "3387           Electronic check         1  \n",
       "\n",
       "[5 rows x 22 columns]"
      ]
     },
     "execution_count": 6,
     "metadata": {},
     "output_type": "execute_result"
    }
   ],
   "source": [
    "# call the function: \n",
    "train, val, test = wr.split_telco_data(telco)\n",
    "train.head()"
   ]
  },
  {
   "cell_type": "markdown",
   "id": "330aa417-aa66-453b-b01d-51dbe602e32c",
   "metadata": {
    "tags": []
   },
   "source": [
    "# Exploratory Analysis:\n",
    "1. Have to do some preprocessing\n",
    "2. Have to look at Univariate stats: Numerical and Categorical Variables\n",
    "3. Have to look at Bivariate stats\n",
    "4. Have to look at Multivariate stats"
   ]
  },
  {
   "cell_type": "markdown",
   "id": "924e86fa-a749-4e4b-8251-e814b69aca20",
   "metadata": {
    "tags": []
   },
   "source": [
    "### Preprocessing: \n",
    "I made a dummy column for churn (aka 0 = No and 1 = Yes) <br>\n",
    "I had to make numerical and categorical columns first, and this is what i got! <Br>\n",
    "- `cat_cols` = ['gender',\n",
    " 'senior_citizen',\n",
    " 'partner',\n",
    " 'dependents',\n",
    " 'phone_service',\n",
    " 'multiple_lines',\n",
    " 'online_security',\n",
    " 'online_backup',\n",
    " 'device_protection',\n",
    " 'tech_support',\n",
    " 'streaming_tv',\n",
    " 'streaming_movies',\n",
    " 'paperless_billing',\n",
    " 'churn',\n",
    " 'contract_type',\n",
    " 'internet_service_type',\n",
    " 'payment_type',\n",
    " 'did_churn']\n",
    "- `num_cols` = ['tenure', 'monthly_charges', 'total_charges']\n"
   ]
  },
  {
   "cell_type": "code",
   "execution_count": 7,
   "id": "11fedc55-ce3c-42d4-98de-29f3a6e7ebe3",
   "metadata": {
    "tags": []
   },
   "outputs": [
    {
     "data": {
      "text/html": [
       "<div>\n",
       "<style scoped>\n",
       "    .dataframe tbody tr th:only-of-type {\n",
       "        vertical-align: middle;\n",
       "    }\n",
       "\n",
       "    .dataframe tbody tr th {\n",
       "        vertical-align: top;\n",
       "    }\n",
       "\n",
       "    .dataframe thead th {\n",
       "        text-align: right;\n",
       "    }\n",
       "</style>\n",
       "<table border=\"1\" class=\"dataframe\">\n",
       "  <thead>\n",
       "    <tr style=\"text-align: right;\">\n",
       "      <th></th>\n",
       "      <th>customer_id</th>\n",
       "      <th>gender</th>\n",
       "      <th>senior_citizen</th>\n",
       "      <th>partner</th>\n",
       "      <th>dependents</th>\n",
       "      <th>tenure</th>\n",
       "      <th>phone_service</th>\n",
       "      <th>multiple_lines</th>\n",
       "      <th>online_security</th>\n",
       "      <th>online_backup</th>\n",
       "      <th>...</th>\n",
       "      <th>streaming_tv</th>\n",
       "      <th>streaming_movies</th>\n",
       "      <th>paperless_billing</th>\n",
       "      <th>monthly_charges</th>\n",
       "      <th>total_charges</th>\n",
       "      <th>churn</th>\n",
       "      <th>contract_type</th>\n",
       "      <th>internet_service_type</th>\n",
       "      <th>payment_type</th>\n",
       "      <th>did_churn</th>\n",
       "    </tr>\n",
       "  </thead>\n",
       "  <tbody>\n",
       "    <tr>\n",
       "      <th>84</th>\n",
       "      <td>0135-NMXAP</td>\n",
       "      <td>Female</td>\n",
       "      <td>0</td>\n",
       "      <td>No</td>\n",
       "      <td>No</td>\n",
       "      <td>12</td>\n",
       "      <td>Yes</td>\n",
       "      <td>Yes</td>\n",
       "      <td>No</td>\n",
       "      <td>Yes</td>\n",
       "      <td>...</td>\n",
       "      <td>Yes</td>\n",
       "      <td>No</td>\n",
       "      <td>Yes</td>\n",
       "      <td>89.75</td>\n",
       "      <td>1052.40</td>\n",
       "      <td>Yes</td>\n",
       "      <td>Month-to-month</td>\n",
       "      <td>Fiber optic</td>\n",
       "      <td>Bank transfer (automatic)</td>\n",
       "      <td>1</td>\n",
       "    </tr>\n",
       "    <tr>\n",
       "      <th>5021</th>\n",
       "      <td>7055-JCGNI</td>\n",
       "      <td>Female</td>\n",
       "      <td>0</td>\n",
       "      <td>No</td>\n",
       "      <td>No</td>\n",
       "      <td>70</td>\n",
       "      <td>Yes</td>\n",
       "      <td>Yes</td>\n",
       "      <td>Yes</td>\n",
       "      <td>Yes</td>\n",
       "      <td>...</td>\n",
       "      <td>Yes</td>\n",
       "      <td>Yes</td>\n",
       "      <td>Yes</td>\n",
       "      <td>111.95</td>\n",
       "      <td>7795.95</td>\n",
       "      <td>No</td>\n",
       "      <td>Two year</td>\n",
       "      <td>Fiber optic</td>\n",
       "      <td>Credit card (automatic)</td>\n",
       "      <td>0</td>\n",
       "    </tr>\n",
       "    <tr>\n",
       "      <th>1577</th>\n",
       "      <td>2296-DKZFP</td>\n",
       "      <td>Female</td>\n",
       "      <td>0</td>\n",
       "      <td>Yes</td>\n",
       "      <td>No</td>\n",
       "      <td>65</td>\n",
       "      <td>Yes</td>\n",
       "      <td>No</td>\n",
       "      <td>Yes</td>\n",
       "      <td>Yes</td>\n",
       "      <td>...</td>\n",
       "      <td>No</td>\n",
       "      <td>Yes</td>\n",
       "      <td>No</td>\n",
       "      <td>71.00</td>\n",
       "      <td>4386.20</td>\n",
       "      <td>No</td>\n",
       "      <td>Two year</td>\n",
       "      <td>DSL</td>\n",
       "      <td>Bank transfer (automatic)</td>\n",
       "      <td>0</td>\n",
       "    </tr>\n",
       "    <tr>\n",
       "      <th>6366</th>\n",
       "      <td>9025-AOMKI</td>\n",
       "      <td>Female</td>\n",
       "      <td>0</td>\n",
       "      <td>No</td>\n",
       "      <td>No</td>\n",
       "      <td>6</td>\n",
       "      <td>Yes</td>\n",
       "      <td>Yes</td>\n",
       "      <td>No</td>\n",
       "      <td>No</td>\n",
       "      <td>...</td>\n",
       "      <td>Yes</td>\n",
       "      <td>Yes</td>\n",
       "      <td>Yes</td>\n",
       "      <td>93.55</td>\n",
       "      <td>536.40</td>\n",
       "      <td>Yes</td>\n",
       "      <td>Month-to-month</td>\n",
       "      <td>Fiber optic</td>\n",
       "      <td>Bank transfer (automatic)</td>\n",
       "      <td>1</td>\n",
       "    </tr>\n",
       "    <tr>\n",
       "      <th>3387</th>\n",
       "      <td>4817-VYYWS</td>\n",
       "      <td>Female</td>\n",
       "      <td>0</td>\n",
       "      <td>No</td>\n",
       "      <td>No</td>\n",
       "      <td>30</td>\n",
       "      <td>Yes</td>\n",
       "      <td>Yes</td>\n",
       "      <td>No</td>\n",
       "      <td>Yes</td>\n",
       "      <td>...</td>\n",
       "      <td>Yes</td>\n",
       "      <td>Yes</td>\n",
       "      <td>Yes</td>\n",
       "      <td>100.20</td>\n",
       "      <td>2983.80</td>\n",
       "      <td>Yes</td>\n",
       "      <td>Month-to-month</td>\n",
       "      <td>Fiber optic</td>\n",
       "      <td>Electronic check</td>\n",
       "      <td>1</td>\n",
       "    </tr>\n",
       "  </tbody>\n",
       "</table>\n",
       "<p>5 rows × 22 columns</p>\n",
       "</div>"
      ],
      "text/plain": [
       "     customer_id  gender  senior_citizen partner dependents  tenure  \\\n",
       "84    0135-NMXAP  Female               0      No         No      12   \n",
       "5021  7055-JCGNI  Female               0      No         No      70   \n",
       "1577  2296-DKZFP  Female               0     Yes         No      65   \n",
       "6366  9025-AOMKI  Female               0      No         No       6   \n",
       "3387  4817-VYYWS  Female               0      No         No      30   \n",
       "\n",
       "     phone_service multiple_lines online_security online_backup  ...  \\\n",
       "84             Yes            Yes              No           Yes  ...   \n",
       "5021           Yes            Yes             Yes           Yes  ...   \n",
       "1577           Yes             No             Yes           Yes  ...   \n",
       "6366           Yes            Yes              No            No  ...   \n",
       "3387           Yes            Yes              No           Yes  ...   \n",
       "\n",
       "     streaming_tv streaming_movies paperless_billing monthly_charges  \\\n",
       "84            Yes               No               Yes           89.75   \n",
       "5021          Yes              Yes               Yes          111.95   \n",
       "1577           No              Yes                No           71.00   \n",
       "6366          Yes              Yes               Yes           93.55   \n",
       "3387          Yes              Yes               Yes          100.20   \n",
       "\n",
       "     total_charges  churn   contract_type internet_service_type  \\\n",
       "84         1052.40    Yes  Month-to-month           Fiber optic   \n",
       "5021       7795.95     No        Two year           Fiber optic   \n",
       "1577       4386.20     No        Two year                   DSL   \n",
       "6366        536.40    Yes  Month-to-month           Fiber optic   \n",
       "3387       2983.80    Yes  Month-to-month           Fiber optic   \n",
       "\n",
       "                   payment_type did_churn  \n",
       "84    Bank transfer (automatic)         1  \n",
       "5021    Credit card (automatic)         0  \n",
       "1577  Bank transfer (automatic)         0  \n",
       "6366  Bank transfer (automatic)         1  \n",
       "3387           Electronic check         1  \n",
       "\n",
       "[5 rows x 22 columns]"
      ]
     },
     "execution_count": 7,
     "metadata": {},
     "output_type": "execute_result"
    }
   ],
   "source": [
    "train.head()"
   ]
  },
  {
   "cell_type": "code",
   "execution_count": 8,
   "id": "4d35ca9a-368e-4893-a7ff-72739cb572cc",
   "metadata": {
    "tags": []
   },
   "outputs": [
    {
     "data": {
      "image/png": "[encoded data removed]",
      "text/plain": [
       "<Figure size 1500x1200 with 4 Axes>"
      ]
     },
     "metadata": {},
     "output_type": "display_data"
    }
   ],
   "source": [
    "# lets take a look: \n",
    "wr.visualize_univariate_cat_final(train)"
   ]
  },
  {
   "cell_type": "markdown",
   "id": "0831012f-fee0-4e2d-ab32-96a8c16375c1",
   "metadata": {},
   "source": [
    "<div class=\"alert alert-success\" role=\"alert\">\n",
    "\n",
    "Univariate stats: Takeaways: <br>\n",
    "    \n",
    "    \n",
    "Numerical Variables: \n",
    "- None of the data is normally distributed, mann_whitney test.\n",
    "\n",
    "<br>\n",
    "Categorical Variables: <br>\n",
    "- Why dont we take a look? <br>\n",
    "- Some take aways not here: There seem to be a high ration of people who do not use the services that telco provides:<br>\n",
    "        - online security <br>\n",
    "        - online backup <br>\n",
    "        - device protection <br>\n",
    "        - tech support <br>\n",
    "        - streaming tv <br>\n",
    "        - streaming movies <br>"
   ]
  },
  {
   "cell_type": "code",
   "execution_count": 9,
   "id": "705e894b-bc47-4b4e-85a0-bd2bee49a2f7",
   "metadata": {
    "tags": []
   },
   "outputs": [
    {
     "data": {
      "image/png": "[encoded data removed]",
      "text/plain": [
       "<Figure size 1500x1200 with 4 Axes>"
      ]
     },
     "metadata": {},
     "output_type": "display_data"
    }
   ],
   "source": [
    "# look at specific barplots for bivariate for categorical\n",
    "target = 'did_churn'\n",
    "wr.create_subplots_barplots_categorical_vs_target(train, target)"
   ]
  },
  {
   "cell_type": "code",
   "execution_count": 15,
   "id": "98446f8f-f154-455c-a9a4-5219f2bffa92",
   "metadata": {
    "tags": []
   },
   "outputs": [
    {
     "ename": "TypeError",
     "evalue": "'Axes' object is not subscriptable",
     "output_type": "error",
     "traceback": [
      "\u001b[0;31m---------------------------------------------------------------------------\u001b[0m",
      "\u001b[0;31mTypeError\u001b[0m                                 Traceback (most recent call last)",
      "Cell \u001b[0;32mIn[15], line 2\u001b[0m\n\u001b[1;32m      1\u001b[0m target \u001b[38;5;241m=\u001b[39m \u001b[38;5;124m'\u001b[39m\u001b[38;5;124mdid_churn\u001b[39m\u001b[38;5;124m'\u001b[39m\n\u001b[0;32m----> 2\u001b[0m wr\u001b[38;5;241m.\u001b[39mcreate_subplots_barplots_with_mean(train, target)\n",
      "File \u001b[0;32m~/Documents/codeup-data-science/Classification/classification_telco_project/wrangle.py:288\u001b[0m, in \u001b[0;36mcreate_subplots_barplots_with_mean\u001b[0;34m(data, target, num_cols, num_cols_per_row, figsize)\u001b[0m\n\u001b[1;32m    286\u001b[0m row \u001b[38;5;241m=\u001b[39m i \u001b[38;5;241m/\u001b[39m\u001b[38;5;241m/\u001b[39m num_cols_per_row\n\u001b[1;32m    287\u001b[0m col_num \u001b[38;5;241m=\u001b[39m i \u001b[38;5;241m%\u001b[39m num_cols_per_row\n\u001b[0;32m--> 288\u001b[0m ax \u001b[38;5;241m=\u001b[39m axes[row, col_num]\n\u001b[1;32m    290\u001b[0m ax\u001b[38;5;241m.\u001b[39mset_title(\u001b[38;5;124mf\u001b[39m\u001b[38;5;124m'\u001b[39m\u001b[38;5;124mGraph of \u001b[39m\u001b[38;5;132;01m{\u001b[39;00mcol\u001b[38;5;132;01m}\u001b[39;00m\u001b[38;5;124m'\u001b[39m)\n\u001b[1;32m    291\u001b[0m sns\u001b[38;5;241m.\u001b[39mbarplot(x\u001b[38;5;241m=\u001b[39mtarget, y\u001b[38;5;241m=\u001b[39mcol, data\u001b[38;5;241m=\u001b[39mdata, palette\u001b[38;5;241m=\u001b[39m\u001b[38;5;124m'\u001b[39m\u001b[38;5;124mmako\u001b[39m\u001b[38;5;124m'\u001b[39m, ax\u001b[38;5;241m=\u001b[39max)\n",
      "\u001b[0;31mTypeError\u001b[0m: 'Axes' object is not subscriptable"
     ]
    },
    {
     "data": {
      "image/png": "[encoded data removed]",
      "text/plain": [
       "<Figure size 1500x1200 with 1 Axes>"
      ]
     },
     "metadata": {},
     "output_type": "display_data"
    }
   ],
   "source": [
    "target = 'did_churn'\n",
    "wr.create_subplots_barplots_with_mean(train, target)"
   ]
  },
  {
   "cell_type": "code",
   "execution_count": 14,
   "id": "01c7008f-f89e-4ed2-a94f-486677a24571",
   "metadata": {
    "tags": []
   },
   "outputs": [
    {
     "data": {
      "image/png": "[encoded data removed]",
      "text/plain": [
       "<Figure size 640x480 with 1 Axes>"
      ]
     },
     "metadata": {},
     "output_type": "display_data"
    }
   ],
   "source": [
    "# lets look at bivaraite numerical comparison\n",
    "target = 'did_churn'\n",
    "sns.barplot(data= train, y = 'monthly_charges', x = target, color = 'lightgreen')\n",
    "plt.title('Monthly charges by did churn')\n",
    "plt.show()"
   ]
  },
  {
   "cell_type": "markdown",
   "id": "8002ce19-9b19-400e-9684-2d4d6a6ce854",
   "metadata": {},
   "source": [
    "<div class=\"alert alert-success\" role=\"alert\">\n",
    "Bivariate Takeaways: <br>\n",
    "- Monthly_Charges is an important feature to have to look at <br>\n",
    "    \n",
    "- Look into senior citizen, contract type, internet service type, and payment type"
   ]
  },
  {
   "cell_type": "markdown",
   "id": "a10c9db6-c857-4d21-bce3-e99e97b581e0",
   "metadata": {},
   "source": [
    "## Hypothesis testing: \n",
    "- I initally created 5 hypothesis. I listed 4 of them here. They all are categorical vs categorical, so they must undergo a chi2 test. The 5th one that is not listed is a categorical vs continous. To test that a mann-whitney test was run to find the data not normally distributed and then a spearmens test was run to find thre relationship. "
   ]
  },
  {
   "cell_type": "markdown",
   "id": "1ef161c8-048b-45f8-8be6-fc4bdbd5e8f2",
   "metadata": {
    "tags": []
   },
   "source": [
    "### Hypothesis 1:\n",
    "1. Are customers more likley to churn if they are a senior citizen <br>\n",
    "$H_0$: Senior citizen and churn are independent of each other <br>\n",
    "$H_a$: Senior citizen and churn are dependent on each other <br>"
   ]
  },
  {
   "cell_type": "code",
   "execution_count": null,
   "id": "746f9f92-b13d-4518-894b-7a87fca19885",
   "metadata": {
    "tags": []
   },
   "outputs": [],
   "source": [
    "# create null and alternative\n",
    "null_hypothesis = 'Senior citizen and churn are independent of each other.'\n",
    "alternative_hypothesis = 'Senior citizen and churn are dependent on each other.'\n",
    "# run a crosstab\n",
    "observed = pd.crosstab(train.senior_citizen, train[target])\n",
    "observed"
   ]
  },
  {
   "cell_type": "code",
   "execution_count": null,
   "id": "c935ce6c-17f0-4ae7-9b6a-df740b9eb5d4",
   "metadata": {
    "tags": []
   },
   "outputs": [],
   "source": [
    "# calculate chi2\n",
    "chi2, p, degf, expected = stats.chi2_contingency(observed)\n",
    "alpha = 0.05\n",
    "# print out if the null is rejected or not\n",
    "if p < alpha:\n",
    "    print(f\"We reject the null hypothesis: {null_hypothesis}\")\n",
    "    print(f\"Therefore: {alternative_hypothesis}\")\n",
    "else:\n",
    "    print(f\"We fail to reject the null, therefore: {null_hypothesis}\")\n",
    "    print(f\"P-value: {p}\")"
   ]
  },
  {
   "cell_type": "markdown",
   "id": "3c71619a-93a8-43d8-8f3d-bbeccbf62d7e",
   "metadata": {},
   "source": [
    "### Hyothesis 2: \n",
    "1. Are customers more likley to churn due to contract type? <br>\n",
    "$H_0$: Contract type and churn are independent of each other. <br>\n",
    "$H_a$: Contract type and churn are dependent on each other. <br>"
   ]
  },
  {
   "cell_type": "code",
   "execution_count": null,
   "id": "ada2c9bc-5070-463b-907f-a8f3b84516cd",
   "metadata": {
    "tags": []
   },
   "outputs": [],
   "source": [
    "# create null and alternative\n",
    "null_hypothesis = 'Contract type and churn are independent of each other.'\n",
    "alternative_hypothesis = 'Contract type and churn are dependent on each other.'\n",
    "# print out if the null is rejected or not\n",
    "observed = pd.crosstab(train.contract_type, train[target])\n",
    "observed"
   ]
  },
  {
   "cell_type": "code",
   "execution_count": null,
   "id": "36c228d3-a690-4b26-b1c6-f2be0be0abfd",
   "metadata": {
    "tags": []
   },
   "outputs": [],
   "source": [
    "# calculate chi2\n",
    "chi2, p, degf, expected = stats.chi2_contingency(observed)\n",
    "alpha = 0.05\n",
    "# print out if the null is rejected or not\n",
    "if p < alpha:\n",
    "    print(f\"We reject the null hypothesis: {null_hypothesis}\")\n",
    "    print(f\"Therefore: {alternative_hypothesis}\")\n",
    "else:\n",
    "    print(f\"We fail to reject the null, therefore: {null_hypothesis}\")\n",
    "    print(f\"P-value: {p}\")"
   ]
  },
  {
   "cell_type": "markdown",
   "id": "346a900f-aaf6-421e-9fdd-2fb34c716b3c",
   "metadata": {
    "tags": []
   },
   "source": [
    "### Hypothesis 3: \n",
    "2. Are customer more likley to churn due to payment type? <br>\n",
    "$H_0$: Payment type and churn are independent of each other. <br>\n",
    "$H_a$: Payment type and churn are dependent on each other. <br>"
   ]
  },
  {
   "cell_type": "code",
   "execution_count": null,
   "id": "bcb02c6c-e439-4830-941b-25e2a86b9c5b",
   "metadata": {
    "tags": []
   },
   "outputs": [],
   "source": [
    "# create hypothesis variables\n",
    "null_hypothesis = 'Payment type and churn are independent of each other.'\n",
    "alternative_hypothesis = 'Payment type and churn are dependent on each other.'\n",
    "# make crosstable\n",
    "observed = pd.crosstab(train.payment_type, train[target])\n",
    "observed"
   ]
  },
  {
   "cell_type": "code",
   "execution_count": null,
   "id": "42132dbc-3c05-40fd-adb1-ce78c3deda52",
   "metadata": {
    "tags": []
   },
   "outputs": [],
   "source": [
    "# function to see if we reject null or not\n",
    "wr.perform_chi_squared_test(observed, null_hypothesis, alternative_hypothesis)"
   ]
  },
  {
   "cell_type": "markdown",
   "id": "de927061-5f0a-4766-9ec0-13507b3f972e",
   "metadata": {},
   "source": [
    "### Hypothesis 4: \n",
    "2. Are customer more likley to churn due to internet service type? <br>\n",
    "$H_0$: Internet type and churn are independent of each other. <br>\n",
    "$H_a$: Internet type and churn are dependent on each other. <br>"
   ]
  },
  {
   "cell_type": "code",
   "execution_count": null,
   "id": "9ea54ab0-11ce-4dc4-b7a8-694fef829b37",
   "metadata": {
    "tags": []
   },
   "outputs": [],
   "source": [
    "# hypothesis varibles\n",
    "null_hypothesis = 'Internet type and churn are independent of each other.'\n",
    "alternative_hypothesis = 'Internet type and churn are dependent on each other.'\n",
    "# create crosstab\n",
    "observed = pd.crosstab(train.internet_service_type, train[target])\n",
    "observed"
   ]
  },
  {
   "cell_type": "code",
   "execution_count": null,
   "id": "d8b83436-33e9-445c-b39b-33fe6706e9f4",
   "metadata": {
    "tags": []
   },
   "outputs": [],
   "source": [
    "# preform the test\n",
    "wr.perform_chi_squared_test(observed, null_hypothesis, alternative_hypothesis)"
   ]
  },
  {
   "cell_type": "markdown",
   "id": "de1163ac-9140-48bd-96d6-426428a79fc1",
   "metadata": {},
   "source": [
    "# Modeling!\n",
    "- We have our features:\n",
    "    - senior citizen\n",
    "    - monthly charge\n",
    "    - contract type\n",
    "    - internet type\n",
    "    - payment type\n",
    "- I have already found my best models: \n",
    "    - I did this by analysis train and validate to see if accuracy dropped of my model was overfit\n",
    "    - Decision Tree\n",
    "    - Random Forest\n",
    "    - Logistic Regression"
   ]
  },
  {
   "cell_type": "markdown",
   "id": "c5cf835b-1f1a-4d24-bfeb-b7a57bc82d9b",
   "metadata": {},
   "source": [
    "Positive = no_churn or 0 <br>\n",
    "Negavite = churn or 1\n",
    "\n",
    "|                   | Predicted Positive (no_churn) | Predicted Negative (churn) |\n",
    "|-------------------|-------------------------------|-----------------------------|\n",
    "| Actual Positive   | True Positive (TP)            | False Negative (FN)        |\n",
    "|                   | Predited no_chun, actual no churn| Predicted churn, actual no churn|\n",
    "|\n",
    "| Actual Negative   | False Positive (FP)           | True Negative (TN)         |\n",
    "|                   | predicted no churn, actual churn| predicted churn, actual churn\n",
    "\n",
    "False Positive is Worse! If the graph predicts that the don't churn but they do we might cause the company to lose money!"
   ]
  },
  {
   "cell_type": "markdown",
   "id": "d2a6825b-2c73-4fe1-97cc-6cf67f0a7b64",
   "metadata": {},
   "source": [
    "#### Lets first preprocess:\n",
    "- I created a new function to clean the telco data specifically for modeling. \n",
    "- `create_dummy_columns` = will code dummy columns\n",
    "- `train, validate, split` = will make train, val, split\n",
    "- `drop coloumns` = will drop columns i dont want"
   ]
  },
  {
   "cell_type": "code",
   "execution_count": null,
   "id": "53cec23c-13ff-43e2-a782-909a0bec93f3",
   "metadata": {
    "tags": []
   },
   "outputs": [],
   "source": [
    "# get data:\n",
    "telco = wr.new_telco_data()\n",
    "telco.head()"
   ]
  },
  {
   "cell_type": "code",
   "execution_count": null,
   "id": "d4ce04f6-ff61-432b-a32a-aa37d698a7c4",
   "metadata": {
    "tags": []
   },
   "outputs": [],
   "source": [
    "#clean the model\n",
    "telco  = wr.clean_telco_model()\n",
    "telco.head()"
   ]
  },
  {
   "cell_type": "code",
   "execution_count": null,
   "id": "cf409d5f-e89d-45ac-866d-48079054f48f",
   "metadata": {
    "tags": []
   },
   "outputs": [],
   "source": [
    "#create dummies\n",
    "telco = wr.create_dummy_columns(telco)"
   ]
  },
  {
   "cell_type": "code",
   "execution_count": null,
   "id": "0a9515f6-a802-4e00-94b1-0d4a0e047c29",
   "metadata": {},
   "outputs": [],
   "source": [
    "# create the train, val, split\n",
    "train, val, test = wr.train_validate_test(telco)\n",
    "train.head()"
   ]
  },
  {
   "cell_type": "code",
   "execution_count": null,
   "id": "cc174eab-e334-4b55-88dd-0d653dddeed4",
   "metadata": {
    "tags": []
   },
   "outputs": [],
   "source": [
    "# drop columns\n",
    "train, val , test = wr.drop_columns(train, val, test)\n",
    "train.head()"
   ]
  },
  {
   "cell_type": "markdown",
   "id": "cae5b298-0da6-4a8a-92ae-5255b71938f7",
   "metadata": {},
   "source": [
    "### Steps:\n",
    "1. Baseline\n",
    "2. Variables\n",
    "3. Choose: Validate\n",
    "4. Model test!"
   ]
  },
  {
   "cell_type": "code",
   "execution_count": null,
   "id": "8572ae85-bfff-468e-a61c-ad6ec3bd2739",
   "metadata": {
    "tags": []
   },
   "outputs": [],
   "source": [
    "#what is out baseline?\n",
    "# create baseline\n",
    "baseline_accuracy = (train.did_churn == 0).mean()\n",
    "baseline_accuracy"
   ]
  },
  {
   "cell_type": "code",
   "execution_count": null,
   "id": "951e513a-8532-42c6-9d55-c10cc797d803",
   "metadata": {
    "tags": []
   },
   "outputs": [],
   "source": [
    "# features we are looking at: payment\n",
    "# create x and y\n",
    "features = ['senior_citizen_1', 'contract_type_One year', 'contract_type_Two year', \n",
    "            'internet_service_type_Fiber optic', 'internet_service_type_None',\n",
    "           'monthly_charges',\n",
    "            'payment_type_Credit card (automatic)','payment_type_Electronic check','payment_type_Mailed check']\n",
    "\n",
    "X_train = train[features]\n",
    "y_train = train.did_churn\n",
    "\n",
    "X_val = val[features]\n",
    "y_val = val.did_churn\n",
    "\n",
    "X_test = test[features]\n",
    "y_test = test.did_churn"
   ]
  },
  {
   "cell_type": "code",
   "execution_count": null,
   "id": "9de65019-4ed1-4f8f-a4ac-a54f202767d9",
   "metadata": {
    "tags": []
   },
   "outputs": [],
   "source": [
    "X_train.head()"
   ]
  },
  {
   "cell_type": "markdown",
   "id": "b89d3199-ee08-437d-ba98-15d589bbf34c",
   "metadata": {},
   "source": [
    "#### Decision Tree: "
   ]
  },
  {
   "cell_type": "code",
   "execution_count": null,
   "id": "f4711689-5d91-475b-9995-d6527239f509",
   "metadata": {
    "tags": []
   },
   "outputs": [],
   "source": [
    "# Create the object\n",
    "clf = DecisionTreeClassifier(max_depth=7, random_state=123)"
   ]
  },
  {
   "cell_type": "code",
   "execution_count": null,
   "id": "d9927d52-f62e-4faa-84cc-33edaaf820e9",
   "metadata": {
    "tags": []
   },
   "outputs": [],
   "source": [
    "#fit the object\n",
    "clf = clf.fit(X_train, y_train)"
   ]
  },
  {
   "cell_type": "code",
   "execution_count": null,
   "id": "e6f793b7-16fe-4e7d-a407-2555ebf8d5b8",
   "metadata": {
    "tags": []
   },
   "outputs": [],
   "source": [
    "# use the object \n",
    "clf.predict(X_train)"
   ]
  },
  {
   "cell_type": "code",
   "execution_count": null,
   "id": "77f5d3dc-3cc9-4ab8-93e0-f58087729470",
   "metadata": {
    "tags": []
   },
   "outputs": [],
   "source": [
    "ConfusionMatrixDisplay.from_estimator(clf, X_train, y_train);"
   ]
  },
  {
   "cell_type": "code",
   "execution_count": null,
   "id": "463f8d39-9b92-4707-87bb-6ecf3304a0aa",
   "metadata": {
    "tags": []
   },
   "outputs": [],
   "source": [
    "# predictions:\n",
    "y_pred = clf.predict(X_train)\n",
    "conf = confusion_matrix(y_train, y_pred)\n",
    "TN, FP, FN, TP = conf.ravel()\n",
    "wr.calculate_classification_metrics(TN, FP, FN, TP )"
   ]
  },
  {
   "cell_type": "code",
   "execution_count": null,
   "id": "472357af-1ebf-4e91-896f-0859aca96dfe",
   "metadata": {},
   "outputs": [],
   "source": [
    "# validate: \n",
    "y_pred_val = clf.predict(X_val)\n",
    "conf = confusion_matrix(y_val, y_pred_val)\n",
    "clf.score(X_val, y_val)\n",
    "TN, FP, FN, TP = conf.ravel()\n",
    "wr.calculate_classification_metrics(TN, FP, FN, TP )"
   ]
  },
  {
   "cell_type": "code",
   "execution_count": null,
   "id": "7d438e60-3b9d-45c1-8670-59ab1d2be734",
   "metadata": {
    "tags": []
   },
   "outputs": [],
   "source": [
    "conf.ravel()"
   ]
  },
  {
   "cell_type": "code",
   "execution_count": null,
   "id": "30ae6dd6-0202-488c-86d5-405fc504c11f",
   "metadata": {
    "tags": []
   },
   "outputs": [],
   "source": [
    "#double checking my confusion matrix\n",
    "y_train_df = pd.Series(y_train)\n",
    "labels = sorted(y_train_df.unique())\n",
    "pd.DataFrame(conf,\n",
    "            index=[str(label) + '_actual'for label in labels],\n",
    "            columns=[str(label) + '_predict'for label in labels])"
   ]
  },
  {
   "cell_type": "markdown",
   "id": "38b25906-f118-4dd6-ac65-8ba9a8d6e974",
   "metadata": {},
   "source": [
    "#### Random Forest:"
   ]
  },
  {
   "cell_type": "code",
   "execution_count": null,
   "id": "b212c4d0-dddf-44d1-aae5-705619fcc9eb",
   "metadata": {
    "tags": []
   },
   "outputs": [],
   "source": [
    "#best model with info:\n",
    "# Make the model\n",
    "forest = RandomForestClassifier(max_depth=7, min_samples_leaf = 7, random_state=124)\n",
    "\n",
    "# Fit the model (on train and only train)\n",
    "forest.fit(X_train, y_train)\n",
    "\n",
    "# Use the model\n",
    "y_pred = forest.predict(X_train)"
   ]
  },
  {
   "cell_type": "code",
   "execution_count": null,
   "id": "0704d2bf-4ab8-4fef-8782-eeed80219fbb",
   "metadata": {
    "tags": []
   },
   "outputs": [],
   "source": [
    "ConfusionMatrixDisplay.from_estimator(forest, X_train, y_train);"
   ]
  },
  {
   "cell_type": "code",
   "execution_count": null,
   "id": "12c7d3d7-a21a-4833-ba83-d2361c780b3e",
   "metadata": {
    "tags": []
   },
   "outputs": [],
   "source": [
    "# calculate with predictions\n",
    "conf = confusion_matrix(y_train, y_pred)\n",
    "TN, FP, FN, TP = conf.ravel()\n",
    "wr.calculate_classification_metrics(TN, FP, FN, TP )"
   ]
  },
  {
   "cell_type": "code",
   "execution_count": null,
   "id": "f4be5351-4c4f-44e1-9321-127116dc608f",
   "metadata": {},
   "outputs": [],
   "source": [
    "# validate: \n",
    "y_pred_val = forest.predict(X_val)\n",
    "conf = confusion_matrix(y_val, y_pred_val)\n",
    "forest.score(X_val, y_val)\n",
    "TN, FP, FN, TP = conf.ravel()\n",
    "wr.calculate_classification_metrics(TN, FP, FN, TP )"
   ]
  },
  {
   "cell_type": "markdown",
   "id": "7fb385b6-e4d6-4d5a-9df1-bcb593fa6d59",
   "metadata": {},
   "source": [
    "#### Logistic Regression: "
   ]
  },
  {
   "cell_type": "code",
   "execution_count": null,
   "id": "7328b7b1-35f6-46b7-8ee3-d12d221e13dd",
   "metadata": {
    "tags": []
   },
   "outputs": [],
   "source": [
    "# create object\n",
    "logit = LogisticRegression(C = 0.0541, random_state=123)"
   ]
  },
  {
   "cell_type": "code",
   "execution_count": null,
   "id": "7fa4a24d-62b6-4b56-bdfb-b5270af0fe0a",
   "metadata": {
    "tags": []
   },
   "outputs": [],
   "source": [
    "#fit it\n",
    "logit.fit(X_train, y_train)"
   ]
  },
  {
   "cell_type": "code",
   "execution_count": null,
   "id": "848747be-563b-407e-95ca-205c9b3007a6",
   "metadata": {
    "tags": []
   },
   "outputs": [],
   "source": [
    "ConfusionMatrixDisplay.from_estimator(logit, X_train, y_train);"
   ]
  },
  {
   "cell_type": "code",
   "execution_count": null,
   "id": "6eca011e-4a66-4916-8585-e2d6eb1be355",
   "metadata": {
    "tags": []
   },
   "outputs": [],
   "source": [
    "# make predictions\n",
    "y_pred = logit.predict(X_train)\n",
    "logit.score(X_train, y_train)\n",
    "TN, FP, FN, TP = conf.ravel()\n",
    "wr.calculate_classification_metrics(TN, FP, FN, TP )"
   ]
  },
  {
   "cell_type": "code",
   "execution_count": null,
   "id": "bc6437d7-1719-4e27-9ed6-84e215f7ecfd",
   "metadata": {
    "tags": []
   },
   "outputs": [],
   "source": [
    "# validate: \n",
    "y_pred_val = logit.predict(X_val)\n",
    "conf = confusion_matrix(y_val, y_pred_val)\n",
    "logit.score(X_val, y_val)\n",
    "TN, FP, FN, TP = conf.ravel()\n",
    "wr.calculate_classification_metrics(TN, FP, FN, TP )"
   ]
  },
  {
   "cell_type": "markdown",
   "id": "4e044470-5416-4d89-b8e6-db9479716e60",
   "metadata": {},
   "source": [
    "### Validate: \n",
    "1. Decision Tree:\n",
    "    - Train Accuracy: 0.7879786964240426\n",
    "    - Train Percision: 0.6143790849673203\n",
    "2. Random Forest:\n",
    "    - Train Accuracy: 0.7806238904387522\n",
    "    - Train Percision: 0.6189224704336399\n",
    "3. Logistic Regression: \n",
    "    - Train Accuracy: 0.7806238904387522\n",
    "    - Train Percision: 0.6189224704336399"
   ]
  },
  {
   "cell_type": "markdown",
   "id": "a14d5eee-aeca-4a50-b4db-a8b2969eaf2e",
   "metadata": {},
   "source": [
    "# TEST MODEL:\n",
    "- I went with the random forest: Due to the accuracy being relatively the same but the random forest and logitstic regression had similiar percision."
   ]
  },
  {
   "cell_type": "code",
   "execution_count": null,
   "id": "d712dbb5-34b6-4e33-b43e-3060907cf8c3",
   "metadata": {
    "tags": []
   },
   "outputs": [],
   "source": [
    "#best model with info:\n",
    "# Make the model\n",
    "forest2 = RandomForestClassifier(max_depth=7, min_samples_leaf = 7, random_state=124)\n",
    "\n",
    "# Fit the model (on train and only train)\n",
    "forest2.fit(X_test, y_test)\n",
    "\n",
    "# Use the model\n",
    "y_pred = forest.predict(X_test)\n",
    "\n",
    "#graph the model\n",
    "ConfusionMatrixDisplay.from_estimator(forest2, X_train, y_train);"
   ]
  },
  {
   "cell_type": "code",
   "execution_count": null,
   "id": "4f809b7a-a910-4bd1-8f5c-f66a026680f2",
   "metadata": {
    "tags": []
   },
   "outputs": [],
   "source": [
    "X_test.head()"
   ]
  },
  {
   "cell_type": "code",
   "execution_count": null,
   "id": "edf832a1-9753-4b40-bc4c-8e8f2a336e7b",
   "metadata": {
    "tags": []
   },
   "outputs": [],
   "source": [
    "# calculate with predictions\n",
    "conf = confusion_matrix(y_test, y_pred)\n",
    "TN, FP, FN, TP = conf.ravel()\n",
    "wr.calculate_classification_metrics(TN, FP, FN, TP )\n",
    "wr.get_metrics(forest2, X_test, y_test, test)"
   ]
  },
  {
   "cell_type": "markdown",
   "id": "af8a4f25-eed1-484f-b397-87d9d3658375",
   "metadata": {},
   "source": [
    "# Conclusions\n",
    "\n",
    "1. Summary: Based on everything I looked at I would recomend:\n",
    "    - How often do people churn: Not often, in the data about 73 percent of customer do not churn.\n",
    "    - Is churn impacted by type of service: Fiber churns more often compared to other.\n",
    "    - Is churn impacted by finalnical features: Churn is mostly impacted by montly charges compared to tenure and total charges.\n",
    "    - Interesting things found in the data: Services are not utilized often. \n",
    "    \n",
    "2. Recomendations:\n",
    "\n",
    "    - Figuring out a way to make services such as streaming more desirable. They could lead to even more profit. \n",
    "    - Looking at making servcies such as online protection, and tech support, more avaliable or more advertising.\n",
    "    - Talk to senior citizens and disccuss methods that could make options to stay at telco easier. Maybe they are getting overwhelmed by tecnology or don't understand how to properly work with the services provided by Telco.<br>\n",
    "    - Try lowering the cost of Fiber, it may be to expensive month to month which is why people may be churning. \n",
    "    - Advertise the other contracts with incentives or deals to make them more appeling to lower the amount of customers that use month to month service.<br>\n",
    "\n",
    "3. Next steps:\n",
    "    - Improving functions to make work flow smoother\n",
    "    - Try to combinded functions\n",
    "    - Look a combined varibles in hypothesis testing\n",
    "    - Senior Citizen: How old are these individuals? Can we make an age column\n",
    "    - What do streaming services provide? Why do customers decline?"
   ]
  },
  {
   "cell_type": "markdown",
   "id": "5092d2ba-97a8-42d3-9319-df848122c5ff",
   "metadata": {},
   "source": [
    "## Lets make predictions on the entire data set and make it into a csv"
   ]
  },
  {
   "cell_type": "code",
   "execution_count": null,
   "id": "ccb3b0fc-c8b0-4869-9f09-534caa4946b3",
   "metadata": {},
   "outputs": [],
   "source": [
    "train.head()"
   ]
  },
  {
   "cell_type": "code",
   "execution_count": null,
   "id": "10c9cfe5-b9da-4f74-a684-bec5ddb50c67",
   "metadata": {
    "tags": []
   },
   "outputs": [],
   "source": [
    "# add them back togther\n",
    "df_telco = pd.concat([train, val, test], axis=0)"
   ]
  },
  {
   "cell_type": "code",
   "execution_count": null,
   "id": "df044863-7e1a-4d23-8c7b-b8781b6e1805",
   "metadata": {
    "tags": []
   },
   "outputs": [],
   "source": [
    "df_telco.head(1)"
   ]
  },
  {
   "cell_type": "code",
   "execution_count": null,
   "id": "49f5a45f-06ae-4ccb-babc-b0df7fda81af",
   "metadata": {
    "tags": []
   },
   "outputs": [],
   "source": [
    "# make the features the same \n",
    "df_telco_data = df_telco[features]\n",
    "df_telco_target = df_telco.did_churn\n",
    "customer_ids = telco['customer_id']"
   ]
  },
  {
   "cell_type": "code",
   "execution_count": null,
   "id": "4360abd8-6ea8-4ee7-bff4-3c2248d06191",
   "metadata": {
    "tags": []
   },
   "outputs": [],
   "source": [
    "# predicts the churn\n",
    "prediction_of_churn = pd.DataFrame({'churn_prediction' : forest2.predict(df_telco_data[features])})\n",
    "# predicts the probabtility \n",
    "churn_probability = pd.DataFrame({'churn_probability': forest2.predict_proba(df_telco_data)[:,1]})\n",
    "data = [customer_ids, churn_probability, prediction_of_churn]\n",
    "customer_churn = pd.concat(data, axis=1)\n",
    "customer_churn.to_csv(r'customer_churn.csv', index = False)"
   ]
  },
  {
   "cell_type": "code",
   "execution_count": null,
   "id": "3fc7ba90-0b4f-4fb4-977e-59885979ad15",
   "metadata": {
    "tags": []
   },
   "outputs": [],
   "source": [
    "#read the csv: \n",
    "df = pd.read_csv('customer_churn.csv')\n",
    "df"
   ]
  }
 ],
 "metadata": {
  "kernelspec": {
   "display_name": "Python 3 (ipykernel)",
   "language": "python",
   "name": "python3"
  },
  "language_info": {
   "codemirror_mode": {
    "name": "ipython",
    "version": 3
   },
   "file_extension": ".py",
   "mimetype": "text/x-python",
   "name": "python",
   "nbconvert_exporter": "python",
   "pygments_lexer": "ipython3",
   "version": "3.11.4"
  }
 },
 "nbformat": 4,
 "nbformat_minor": 5
}
