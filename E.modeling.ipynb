{
 "cells": [
  {
   "cell_type": "markdown",
   "id": "fb2b0e05-ad0f-4267-b65e-8f6c8e1c79ca",
   "metadata": {},
   "source": [
    "# Modeling: \n",
    "1. Create a decision tree:\n",
    "2. Random Forest\n",
    "3. KNN\n",
    "4. Logistic Regression"
   ]
  },
  {
   "cell_type": "code",
   "execution_count": 1,
   "id": "658b8183-9f5e-44f3-82d4-7d189816d6f9",
   "metadata": {
    "tags": []
   },
   "outputs": [],
   "source": [
    "import warnings\n",
    "warnings.filterwarnings(\"ignore\")\n",
    "import wrangle as wr\n",
    "\n",
    "#new imports\n",
    "import math\n",
    "import pandas as pd\n",
    "import numpy as np\n",
    "import seaborn as sns\n",
    "import matplotlib.pyplot as plt\n",
    "\n",
    "# imports for modeling\n",
    "from sklearn.metrics import accuracy_score\n",
    "from sklearn.metrics import f1_score\n",
    "from sklearn.metrics import confusion_matrix\n",
    "from sklearn.metrics import classification_report\n",
    "from sklearn.metrics import ConfusionMatrixDisplay\n",
    "\n",
    "# for knn\n",
    "from sklearn.neighbors import KNeighborsClassifier\n",
    "\n",
    "# for decision tree\n",
    "from sklearn.tree import DecisionTreeClassifier\n",
    "from sklearn.tree import plot_tree\n",
    "\n",
    "# for random forest\n",
    "from sklearn.ensemble import RandomForestClassifier\n",
    "\n",
    "# for logistic regression\n",
    "from sklearn.linear_model import LogisticRegression"
   ]
  },
  {
   "cell_type": "code",
   "execution_count": 2,
   "id": "1f86dbce-db0c-4e74-b58c-e7c6661de073",
   "metadata": {
    "tags": []
   },
   "outputs": [
    {
     "data": {
      "text/html": [
       "<div>\n",
       "<style scoped>\n",
       "    .dataframe tbody tr th:only-of-type {\n",
       "        vertical-align: middle;\n",
       "    }\n",
       "\n",
       "    .dataframe tbody tr th {\n",
       "        vertical-align: top;\n",
       "    }\n",
       "\n",
       "    .dataframe thead th {\n",
       "        text-align: right;\n",
       "    }\n",
       "</style>\n",
       "<table border=\"1\" class=\"dataframe\">\n",
       "  <thead>\n",
       "    <tr style=\"text-align: right;\">\n",
       "      <th></th>\n",
       "      <th>payment_type_id</th>\n",
       "      <th>internet_service_type_id</th>\n",
       "      <th>contract_type_id</th>\n",
       "      <th>customer_id</th>\n",
       "      <th>gender</th>\n",
       "      <th>senior_citizen</th>\n",
       "      <th>partner</th>\n",
       "      <th>dependents</th>\n",
       "      <th>tenure</th>\n",
       "      <th>phone_service</th>\n",
       "      <th>...</th>\n",
       "      <th>tech_support</th>\n",
       "      <th>streaming_tv</th>\n",
       "      <th>streaming_movies</th>\n",
       "      <th>paperless_billing</th>\n",
       "      <th>monthly_charges</th>\n",
       "      <th>total_charges</th>\n",
       "      <th>churn</th>\n",
       "      <th>contract_type</th>\n",
       "      <th>internet_service_type</th>\n",
       "      <th>payment_type</th>\n",
       "    </tr>\n",
       "  </thead>\n",
       "  <tbody>\n",
       "    <tr>\n",
       "      <th>0</th>\n",
       "      <td>2</td>\n",
       "      <td>1</td>\n",
       "      <td>2</td>\n",
       "      <td>0002-ORFBO</td>\n",
       "      <td>Female</td>\n",
       "      <td>0</td>\n",
       "      <td>Yes</td>\n",
       "      <td>Yes</td>\n",
       "      <td>9</td>\n",
       "      <td>Yes</td>\n",
       "      <td>...</td>\n",
       "      <td>Yes</td>\n",
       "      <td>Yes</td>\n",
       "      <td>No</td>\n",
       "      <td>Yes</td>\n",
       "      <td>65.6</td>\n",
       "      <td>593.3</td>\n",
       "      <td>No</td>\n",
       "      <td>One year</td>\n",
       "      <td>DSL</td>\n",
       "      <td>Mailed check</td>\n",
       "    </tr>\n",
       "    <tr>\n",
       "      <th>1</th>\n",
       "      <td>2</td>\n",
       "      <td>1</td>\n",
       "      <td>1</td>\n",
       "      <td>0003-MKNFE</td>\n",
       "      <td>Male</td>\n",
       "      <td>0</td>\n",
       "      <td>No</td>\n",
       "      <td>No</td>\n",
       "      <td>9</td>\n",
       "      <td>Yes</td>\n",
       "      <td>...</td>\n",
       "      <td>No</td>\n",
       "      <td>No</td>\n",
       "      <td>Yes</td>\n",
       "      <td>No</td>\n",
       "      <td>59.9</td>\n",
       "      <td>542.4</td>\n",
       "      <td>No</td>\n",
       "      <td>Month-to-month</td>\n",
       "      <td>DSL</td>\n",
       "      <td>Mailed check</td>\n",
       "    </tr>\n",
       "    <tr>\n",
       "      <th>2</th>\n",
       "      <td>1</td>\n",
       "      <td>2</td>\n",
       "      <td>1</td>\n",
       "      <td>0004-TLHLJ</td>\n",
       "      <td>Male</td>\n",
       "      <td>0</td>\n",
       "      <td>No</td>\n",
       "      <td>No</td>\n",
       "      <td>4</td>\n",
       "      <td>Yes</td>\n",
       "      <td>...</td>\n",
       "      <td>No</td>\n",
       "      <td>No</td>\n",
       "      <td>No</td>\n",
       "      <td>Yes</td>\n",
       "      <td>73.9</td>\n",
       "      <td>280.85</td>\n",
       "      <td>Yes</td>\n",
       "      <td>Month-to-month</td>\n",
       "      <td>Fiber optic</td>\n",
       "      <td>Electronic check</td>\n",
       "    </tr>\n",
       "    <tr>\n",
       "      <th>3</th>\n",
       "      <td>1</td>\n",
       "      <td>2</td>\n",
       "      <td>1</td>\n",
       "      <td>0011-IGKFF</td>\n",
       "      <td>Male</td>\n",
       "      <td>1</td>\n",
       "      <td>Yes</td>\n",
       "      <td>No</td>\n",
       "      <td>13</td>\n",
       "      <td>Yes</td>\n",
       "      <td>...</td>\n",
       "      <td>No</td>\n",
       "      <td>Yes</td>\n",
       "      <td>Yes</td>\n",
       "      <td>Yes</td>\n",
       "      <td>98.0</td>\n",
       "      <td>1237.85</td>\n",
       "      <td>Yes</td>\n",
       "      <td>Month-to-month</td>\n",
       "      <td>Fiber optic</td>\n",
       "      <td>Electronic check</td>\n",
       "    </tr>\n",
       "    <tr>\n",
       "      <th>4</th>\n",
       "      <td>2</td>\n",
       "      <td>2</td>\n",
       "      <td>1</td>\n",
       "      <td>0013-EXCHZ</td>\n",
       "      <td>Female</td>\n",
       "      <td>1</td>\n",
       "      <td>Yes</td>\n",
       "      <td>No</td>\n",
       "      <td>3</td>\n",
       "      <td>Yes</td>\n",
       "      <td>...</td>\n",
       "      <td>Yes</td>\n",
       "      <td>Yes</td>\n",
       "      <td>No</td>\n",
       "      <td>Yes</td>\n",
       "      <td>83.9</td>\n",
       "      <td>267.4</td>\n",
       "      <td>Yes</td>\n",
       "      <td>Month-to-month</td>\n",
       "      <td>Fiber optic</td>\n",
       "      <td>Mailed check</td>\n",
       "    </tr>\n",
       "  </tbody>\n",
       "</table>\n",
       "<p>5 rows × 24 columns</p>\n",
       "</div>"
      ],
      "text/plain": [
       "   payment_type_id  internet_service_type_id  contract_type_id customer_id  \\\n",
       "0                2                         1                 2  0002-ORFBO   \n",
       "1                2                         1                 1  0003-MKNFE   \n",
       "2                1                         2                 1  0004-TLHLJ   \n",
       "3                1                         2                 1  0011-IGKFF   \n",
       "4                2                         2                 1  0013-EXCHZ   \n",
       "\n",
       "   gender  senior_citizen partner dependents  tenure phone_service  ...  \\\n",
       "0  Female               0     Yes        Yes       9           Yes  ...   \n",
       "1    Male               0      No         No       9           Yes  ...   \n",
       "2    Male               0      No         No       4           Yes  ...   \n",
       "3    Male               1     Yes         No      13           Yes  ...   \n",
       "4  Female               1     Yes         No       3           Yes  ...   \n",
       "\n",
       "  tech_support streaming_tv streaming_movies paperless_billing  \\\n",
       "0          Yes          Yes               No               Yes   \n",
       "1           No           No              Yes                No   \n",
       "2           No           No               No               Yes   \n",
       "3           No          Yes              Yes               Yes   \n",
       "4          Yes          Yes               No               Yes   \n",
       "\n",
       "  monthly_charges total_charges churn   contract_type  internet_service_type  \\\n",
       "0            65.6         593.3    No        One year                    DSL   \n",
       "1            59.9         542.4    No  Month-to-month                    DSL   \n",
       "2            73.9        280.85   Yes  Month-to-month            Fiber optic   \n",
       "3            98.0       1237.85   Yes  Month-to-month            Fiber optic   \n",
       "4            83.9         267.4   Yes  Month-to-month            Fiber optic   \n",
       "\n",
       "       payment_type  \n",
       "0      Mailed check  \n",
       "1      Mailed check  \n",
       "2  Electronic check  \n",
       "3  Electronic check  \n",
       "4      Mailed check  \n",
       "\n",
       "[5 rows x 24 columns]"
      ]
     },
     "execution_count": 2,
     "metadata": {},
     "output_type": "execute_result"
    }
   ],
   "source": [
    "telco = wr.new_telco_data()\n",
    "telco.head()"
   ]
  },
  {
   "cell_type": "code",
   "execution_count": 3,
   "id": "3b04ef9a-3dda-4474-9563-45e71c3538ca",
   "metadata": {
    "tags": []
   },
   "outputs": [],
   "source": [
    "telco  = wr.clean_telco_model()"
   ]
  },
  {
   "cell_type": "code",
   "execution_count": 4,
   "id": "a273e3d8-3176-452d-9e5e-4635056cae16",
   "metadata": {},
   "outputs": [],
   "source": [
    "telco = wr.create_dummy_columns(telco)"
   ]
  },
  {
   "cell_type": "code",
   "execution_count": 5,
   "id": "040171c5-cc58-49d1-8463-423c5e615c00",
   "metadata": {
    "tags": []
   },
   "outputs": [
    {
     "data": {
      "text/html": [
       "<div>\n",
       "<style scoped>\n",
       "    .dataframe tbody tr th:only-of-type {\n",
       "        vertical-align: middle;\n",
       "    }\n",
       "\n",
       "    .dataframe tbody tr th {\n",
       "        vertical-align: top;\n",
       "    }\n",
       "\n",
       "    .dataframe thead th {\n",
       "        text-align: right;\n",
       "    }\n",
       "</style>\n",
       "<table border=\"1\" class=\"dataframe\">\n",
       "  <thead>\n",
       "    <tr style=\"text-align: right;\">\n",
       "      <th></th>\n",
       "      <th>customer_id</th>\n",
       "      <th>gender</th>\n",
       "      <th>senior_citizen</th>\n",
       "      <th>partner</th>\n",
       "      <th>dependents</th>\n",
       "      <th>tenure</th>\n",
       "      <th>phone_service</th>\n",
       "      <th>multiple_lines</th>\n",
       "      <th>online_security</th>\n",
       "      <th>online_backup</th>\n",
       "      <th>...</th>\n",
       "      <th>streaming_movies_No internet service</th>\n",
       "      <th>streaming_movies_Yes</th>\n",
       "      <th>paperless_billing_Yes</th>\n",
       "      <th>contract_type_One year</th>\n",
       "      <th>contract_type_Two year</th>\n",
       "      <th>internet_service_type_Fiber optic</th>\n",
       "      <th>internet_service_type_None</th>\n",
       "      <th>payment_type_Credit card (automatic)</th>\n",
       "      <th>payment_type_Electronic check</th>\n",
       "      <th>payment_type_Mailed check</th>\n",
       "    </tr>\n",
       "  </thead>\n",
       "  <tbody>\n",
       "    <tr>\n",
       "      <th>448</th>\n",
       "      <td>0661-KBKPA</td>\n",
       "      <td>Male</td>\n",
       "      <td>0</td>\n",
       "      <td>Yes</td>\n",
       "      <td>Yes</td>\n",
       "      <td>53</td>\n",
       "      <td>Yes</td>\n",
       "      <td>Yes</td>\n",
       "      <td>No</td>\n",
       "      <td>No</td>\n",
       "      <td>...</td>\n",
       "      <td>0</td>\n",
       "      <td>1</td>\n",
       "      <td>1</td>\n",
       "      <td>1</td>\n",
       "      <td>0</td>\n",
       "      <td>0</td>\n",
       "      <td>0</td>\n",
       "      <td>0</td>\n",
       "      <td>0</td>\n",
       "      <td>1</td>\n",
       "    </tr>\n",
       "    <tr>\n",
       "      <th>168</th>\n",
       "      <td>0269-XFESX</td>\n",
       "      <td>Male</td>\n",
       "      <td>0</td>\n",
       "      <td>Yes</td>\n",
       "      <td>Yes</td>\n",
       "      <td>23</td>\n",
       "      <td>Yes</td>\n",
       "      <td>Yes</td>\n",
       "      <td>No internet service</td>\n",
       "      <td>No internet service</td>\n",
       "      <td>...</td>\n",
       "      <td>1</td>\n",
       "      <td>0</td>\n",
       "      <td>0</td>\n",
       "      <td>1</td>\n",
       "      <td>0</td>\n",
       "      <td>0</td>\n",
       "      <td>1</td>\n",
       "      <td>0</td>\n",
       "      <td>0</td>\n",
       "      <td>1</td>\n",
       "    </tr>\n",
       "    <tr>\n",
       "      <th>1718</th>\n",
       "      <td>2506-CLAKW</td>\n",
       "      <td>Female</td>\n",
       "      <td>0</td>\n",
       "      <td>No</td>\n",
       "      <td>No</td>\n",
       "      <td>6</td>\n",
       "      <td>Yes</td>\n",
       "      <td>No</td>\n",
       "      <td>Yes</td>\n",
       "      <td>Yes</td>\n",
       "      <td>...</td>\n",
       "      <td>0</td>\n",
       "      <td>1</td>\n",
       "      <td>1</td>\n",
       "      <td>0</td>\n",
       "      <td>0</td>\n",
       "      <td>1</td>\n",
       "      <td>0</td>\n",
       "      <td>0</td>\n",
       "      <td>0</td>\n",
       "      <td>0</td>\n",
       "    </tr>\n",
       "    <tr>\n",
       "      <th>6600</th>\n",
       "      <td>9381-NDKME</td>\n",
       "      <td>Female</td>\n",
       "      <td>1</td>\n",
       "      <td>Yes</td>\n",
       "      <td>No</td>\n",
       "      <td>24</td>\n",
       "      <td>No</td>\n",
       "      <td>No phone service</td>\n",
       "      <td>No</td>\n",
       "      <td>No</td>\n",
       "      <td>...</td>\n",
       "      <td>0</td>\n",
       "      <td>1</td>\n",
       "      <td>1</td>\n",
       "      <td>0</td>\n",
       "      <td>0</td>\n",
       "      <td>0</td>\n",
       "      <td>0</td>\n",
       "      <td>1</td>\n",
       "      <td>0</td>\n",
       "      <td>0</td>\n",
       "    </tr>\n",
       "    <tr>\n",
       "      <th>4033</th>\n",
       "      <td>5687-DKDTV</td>\n",
       "      <td>Female</td>\n",
       "      <td>0</td>\n",
       "      <td>No</td>\n",
       "      <td>No</td>\n",
       "      <td>4</td>\n",
       "      <td>Yes</td>\n",
       "      <td>No</td>\n",
       "      <td>No internet service</td>\n",
       "      <td>No internet service</td>\n",
       "      <td>...</td>\n",
       "      <td>1</td>\n",
       "      <td>0</td>\n",
       "      <td>0</td>\n",
       "      <td>0</td>\n",
       "      <td>0</td>\n",
       "      <td>0</td>\n",
       "      <td>1</td>\n",
       "      <td>0</td>\n",
       "      <td>0</td>\n",
       "      <td>1</td>\n",
       "    </tr>\n",
       "  </tbody>\n",
       "</table>\n",
       "<p>5 rows × 49 columns</p>\n",
       "</div>"
      ],
      "text/plain": [
       "     customer_id  gender  senior_citizen partner dependents  tenure  \\\n",
       "448   0661-KBKPA    Male               0     Yes        Yes      53   \n",
       "168   0269-XFESX    Male               0     Yes        Yes      23   \n",
       "1718  2506-CLAKW  Female               0      No         No       6   \n",
       "6600  9381-NDKME  Female               1     Yes         No      24   \n",
       "4033  5687-DKDTV  Female               0      No         No       4   \n",
       "\n",
       "     phone_service    multiple_lines      online_security  \\\n",
       "448            Yes               Yes                   No   \n",
       "168            Yes               Yes  No internet service   \n",
       "1718           Yes                No                  Yes   \n",
       "6600            No  No phone service                   No   \n",
       "4033           Yes                No  No internet service   \n",
       "\n",
       "            online_backup  ... streaming_movies_No internet service  \\\n",
       "448                    No  ...                                    0   \n",
       "168   No internet service  ...                                    1   \n",
       "1718                  Yes  ...                                    0   \n",
       "6600                   No  ...                                    0   \n",
       "4033  No internet service  ...                                    1   \n",
       "\n",
       "     streaming_movies_Yes paperless_billing_Yes contract_type_One year  \\\n",
       "448                     1                     1                      1   \n",
       "168                     0                     0                      1   \n",
       "1718                    1                     1                      0   \n",
       "6600                    1                     1                      0   \n",
       "4033                    0                     0                      0   \n",
       "\n",
       "     contract_type_Two year  internet_service_type_Fiber optic  \\\n",
       "448                       0                                  0   \n",
       "168                       0                                  0   \n",
       "1718                      0                                  1   \n",
       "6600                      0                                  0   \n",
       "4033                      0                                  0   \n",
       "\n",
       "      internet_service_type_None payment_type_Credit card (automatic)  \\\n",
       "448                            0                                    0   \n",
       "168                            1                                    0   \n",
       "1718                           0                                    0   \n",
       "6600                           0                                    1   \n",
       "4033                           1                                    0   \n",
       "\n",
       "     payment_type_Electronic check payment_type_Mailed check  \n",
       "448                              0                         1  \n",
       "168                              0                         1  \n",
       "1718                             0                         0  \n",
       "6600                             0                         0  \n",
       "4033                             0                         1  \n",
       "\n",
       "[5 rows x 49 columns]"
      ]
     },
     "execution_count": 5,
     "metadata": {},
     "output_type": "execute_result"
    }
   ],
   "source": [
    "train, val, test = wr.train_validate_test(telco)\n",
    "train.head()"
   ]
  },
  {
   "cell_type": "markdown",
   "id": "bfb08427-6af0-4c34-8a6b-db3cf6bb8f47",
   "metadata": {},
   "source": [
    "### baseline: "
   ]
  },
  {
   "cell_type": "code",
   "execution_count": 6,
   "id": "d9f08c7a-c94e-4116-8591-27caecbb6bf2",
   "metadata": {},
   "outputs": [],
   "source": [
    "# note to self:\n",
    "# positive : no_churn\n",
    "# negative: churn"
   ]
  },
  {
   "cell_type": "code",
   "execution_count": 7,
   "id": "2c955ebe-8011-4bc3-a58f-f9f7da614dcc",
   "metadata": {
    "tags": []
   },
   "outputs": [
    {
     "data": {
      "text/plain": [
       "0.7347197565305605"
      ]
     },
     "execution_count": 7,
     "metadata": {},
     "output_type": "execute_result"
    }
   ],
   "source": [
    "# create baseline\n",
    "baseline_accuracy = (train.did_churn == 0).mean()\n",
    "baseline_accuracy"
   ]
  },
  {
   "cell_type": "markdown",
   "id": "56feb456-2bff-4695-b75f-4fd5de68fd16",
   "metadata": {},
   "source": [
    "### split data in x and y"
   ]
  },
  {
   "cell_type": "code",
   "execution_count": 8,
   "id": "98c9b42f-1feb-4af1-9ee2-f2cce837d869",
   "metadata": {
    "tags": []
   },
   "outputs": [],
   "source": [
    "# need to drop non dummy columns\n",
    "def drop_columns(train, val, test):\n",
    "    train.set_index('customer_id', inplace=True)\n",
    "    \n",
    "    \n",
    "    val.set_index('customer_id', inplace=True)\n",
    "    \n",
    "    \n",
    "    test.set_index('customer_id', inplace=True)\n",
    "\n",
    "    \n",
    "    dropcols = ['gender',\n",
    "                'senior_citizen',\n",
    "                'partner',\n",
    "                'dependents',\n",
    "                'phone_service',\n",
    "                'multiple_lines',\n",
    "                'online_security',\n",
    "                'online_backup',\n",
    "                'device_protection',\n",
    "                'tech_support',\n",
    "                'streaming_tv',\n",
    "                'streaming_movies',\n",
    "                'paperless_billing',\n",
    "                'contract_type',\n",
    "                'internet_service_type',\n",
    "                'payment_type',\n",
    "               'churn']\n",
    "    train.drop(columns = dropcols, inplace = True)\n",
    "    val.drop(columns = dropcols, inplace=True)\n",
    "    test.drop(columns = dropcols, inplace=True)\n",
    "    return train, val, test"
   ]
  },
  {
   "cell_type": "code",
   "execution_count": 9,
   "id": "af02f97f-5ac9-4027-97d6-c90d9bf43405",
   "metadata": {
    "tags": []
   },
   "outputs": [],
   "source": [
    "train, val ,test = drop_columns(train, val, test)"
   ]
  },
  {
   "cell_type": "code",
   "execution_count": 10,
   "id": "828687aa-b70b-4128-a15d-c2cf07f2e6c7",
   "metadata": {
    "tags": []
   },
   "outputs": [
    {
     "data": {
      "text/html": [
       "<div>\n",
       "<style scoped>\n",
       "    .dataframe tbody tr th:only-of-type {\n",
       "        vertical-align: middle;\n",
       "    }\n",
       "\n",
       "    .dataframe tbody tr th {\n",
       "        vertical-align: top;\n",
       "    }\n",
       "\n",
       "    .dataframe thead th {\n",
       "        text-align: right;\n",
       "    }\n",
       "</style>\n",
       "<table border=\"1\" class=\"dataframe\">\n",
       "  <thead>\n",
       "    <tr style=\"text-align: right;\">\n",
       "      <th></th>\n",
       "      <th>tenure</th>\n",
       "      <th>monthly_charges</th>\n",
       "      <th>total_charges</th>\n",
       "      <th>did_churn</th>\n",
       "      <th>gender_Male</th>\n",
       "      <th>senior_citizen_1</th>\n",
       "      <th>partner_Yes</th>\n",
       "      <th>dependents_Yes</th>\n",
       "      <th>phone_service_Yes</th>\n",
       "      <th>multiple_lines_No phone service</th>\n",
       "      <th>...</th>\n",
       "      <th>streaming_movies_No internet service</th>\n",
       "      <th>streaming_movies_Yes</th>\n",
       "      <th>paperless_billing_Yes</th>\n",
       "      <th>contract_type_One year</th>\n",
       "      <th>contract_type_Two year</th>\n",
       "      <th>internet_service_type_Fiber optic</th>\n",
       "      <th>internet_service_type_None</th>\n",
       "      <th>payment_type_Credit card (automatic)</th>\n",
       "      <th>payment_type_Electronic check</th>\n",
       "      <th>payment_type_Mailed check</th>\n",
       "    </tr>\n",
       "    <tr>\n",
       "      <th>customer_id</th>\n",
       "      <th></th>\n",
       "      <th></th>\n",
       "      <th></th>\n",
       "      <th></th>\n",
       "      <th></th>\n",
       "      <th></th>\n",
       "      <th></th>\n",
       "      <th></th>\n",
       "      <th></th>\n",
       "      <th></th>\n",
       "      <th></th>\n",
       "      <th></th>\n",
       "      <th></th>\n",
       "      <th></th>\n",
       "      <th></th>\n",
       "      <th></th>\n",
       "      <th></th>\n",
       "      <th></th>\n",
       "      <th></th>\n",
       "      <th></th>\n",
       "      <th></th>\n",
       "    </tr>\n",
       "  </thead>\n",
       "  <tbody>\n",
       "    <tr>\n",
       "      <th>0661-KBKPA</th>\n",
       "      <td>53</td>\n",
       "      <td>78.75</td>\n",
       "      <td>3942.45</td>\n",
       "      <td>0</td>\n",
       "      <td>1</td>\n",
       "      <td>0</td>\n",
       "      <td>1</td>\n",
       "      <td>1</td>\n",
       "      <td>1</td>\n",
       "      <td>0</td>\n",
       "      <td>...</td>\n",
       "      <td>0</td>\n",
       "      <td>1</td>\n",
       "      <td>1</td>\n",
       "      <td>1</td>\n",
       "      <td>0</td>\n",
       "      <td>0</td>\n",
       "      <td>0</td>\n",
       "      <td>0</td>\n",
       "      <td>0</td>\n",
       "      <td>1</td>\n",
       "    </tr>\n",
       "    <tr>\n",
       "      <th>0269-XFESX</th>\n",
       "      <td>23</td>\n",
       "      <td>24.35</td>\n",
       "      <td>538.50</td>\n",
       "      <td>0</td>\n",
       "      <td>1</td>\n",
       "      <td>0</td>\n",
       "      <td>1</td>\n",
       "      <td>1</td>\n",
       "      <td>1</td>\n",
       "      <td>0</td>\n",
       "      <td>...</td>\n",
       "      <td>1</td>\n",
       "      <td>0</td>\n",
       "      <td>0</td>\n",
       "      <td>1</td>\n",
       "      <td>0</td>\n",
       "      <td>0</td>\n",
       "      <td>1</td>\n",
       "      <td>0</td>\n",
       "      <td>0</td>\n",
       "      <td>1</td>\n",
       "    </tr>\n",
       "    <tr>\n",
       "      <th>2506-CLAKW</th>\n",
       "      <td>6</td>\n",
       "      <td>98.15</td>\n",
       "      <td>567.45</td>\n",
       "      <td>1</td>\n",
       "      <td>0</td>\n",
       "      <td>0</td>\n",
       "      <td>0</td>\n",
       "      <td>0</td>\n",
       "      <td>1</td>\n",
       "      <td>0</td>\n",
       "      <td>...</td>\n",
       "      <td>0</td>\n",
       "      <td>1</td>\n",
       "      <td>1</td>\n",
       "      <td>0</td>\n",
       "      <td>0</td>\n",
       "      <td>1</td>\n",
       "      <td>0</td>\n",
       "      <td>0</td>\n",
       "      <td>0</td>\n",
       "      <td>0</td>\n",
       "    </tr>\n",
       "    <tr>\n",
       "      <th>9381-NDKME</th>\n",
       "      <td>24</td>\n",
       "      <td>40.65</td>\n",
       "      <td>933.30</td>\n",
       "      <td>1</td>\n",
       "      <td>0</td>\n",
       "      <td>1</td>\n",
       "      <td>1</td>\n",
       "      <td>0</td>\n",
       "      <td>0</td>\n",
       "      <td>1</td>\n",
       "      <td>...</td>\n",
       "      <td>0</td>\n",
       "      <td>1</td>\n",
       "      <td>1</td>\n",
       "      <td>0</td>\n",
       "      <td>0</td>\n",
       "      <td>0</td>\n",
       "      <td>0</td>\n",
       "      <td>1</td>\n",
       "      <td>0</td>\n",
       "      <td>0</td>\n",
       "    </tr>\n",
       "    <tr>\n",
       "      <th>5687-DKDTV</th>\n",
       "      <td>4</td>\n",
       "      <td>20.35</td>\n",
       "      <td>77.50</td>\n",
       "      <td>1</td>\n",
       "      <td>0</td>\n",
       "      <td>0</td>\n",
       "      <td>0</td>\n",
       "      <td>0</td>\n",
       "      <td>1</td>\n",
       "      <td>0</td>\n",
       "      <td>...</td>\n",
       "      <td>1</td>\n",
       "      <td>0</td>\n",
       "      <td>0</td>\n",
       "      <td>0</td>\n",
       "      <td>0</td>\n",
       "      <td>0</td>\n",
       "      <td>1</td>\n",
       "      <td>0</td>\n",
       "      <td>0</td>\n",
       "      <td>1</td>\n",
       "    </tr>\n",
       "  </tbody>\n",
       "</table>\n",
       "<p>5 rows × 31 columns</p>\n",
       "</div>"
      ],
      "text/plain": [
       "             tenure  monthly_charges  total_charges  did_churn  gender_Male  \\\n",
       "customer_id                                                                   \n",
       "0661-KBKPA       53            78.75        3942.45          0            1   \n",
       "0269-XFESX       23            24.35         538.50          0            1   \n",
       "2506-CLAKW        6            98.15         567.45          1            0   \n",
       "9381-NDKME       24            40.65         933.30          1            0   \n",
       "5687-DKDTV        4            20.35          77.50          1            0   \n",
       "\n",
       "             senior_citizen_1  partner_Yes  dependents_Yes  phone_service_Yes  \\\n",
       "customer_id                                                                     \n",
       "0661-KBKPA                  0            1               1                  1   \n",
       "0269-XFESX                  0            1               1                  1   \n",
       "2506-CLAKW                  0            0               0                  1   \n",
       "9381-NDKME                  1            1               0                  0   \n",
       "5687-DKDTV                  0            0               0                  1   \n",
       "\n",
       "             multiple_lines_No phone service  ...  \\\n",
       "customer_id                                   ...   \n",
       "0661-KBKPA                                 0  ...   \n",
       "0269-XFESX                                 0  ...   \n",
       "2506-CLAKW                                 0  ...   \n",
       "9381-NDKME                                 1  ...   \n",
       "5687-DKDTV                                 0  ...   \n",
       "\n",
       "             streaming_movies_No internet service  streaming_movies_Yes  \\\n",
       "customer_id                                                               \n",
       "0661-KBKPA                                      0                     1   \n",
       "0269-XFESX                                      1                     0   \n",
       "2506-CLAKW                                      0                     1   \n",
       "9381-NDKME                                      0                     1   \n",
       "5687-DKDTV                                      1                     0   \n",
       "\n",
       "             paperless_billing_Yes  contract_type_One year  \\\n",
       "customer_id                                                  \n",
       "0661-KBKPA                       1                       1   \n",
       "0269-XFESX                       0                       1   \n",
       "2506-CLAKW                       1                       0   \n",
       "9381-NDKME                       1                       0   \n",
       "5687-DKDTV                       0                       0   \n",
       "\n",
       "             contract_type_Two year  internet_service_type_Fiber optic  \\\n",
       "customer_id                                                              \n",
       "0661-KBKPA                        0                                  0   \n",
       "0269-XFESX                        0                                  0   \n",
       "2506-CLAKW                        0                                  1   \n",
       "9381-NDKME                        0                                  0   \n",
       "5687-DKDTV                        0                                  0   \n",
       "\n",
       "             internet_service_type_None  payment_type_Credit card (automatic)  \\\n",
       "customer_id                                                                     \n",
       "0661-KBKPA                            0                                     0   \n",
       "0269-XFESX                            1                                     0   \n",
       "2506-CLAKW                            0                                     0   \n",
       "9381-NDKME                            0                                     1   \n",
       "5687-DKDTV                            1                                     0   \n",
       "\n",
       "             payment_type_Electronic check  payment_type_Mailed check  \n",
       "customer_id                                                            \n",
       "0661-KBKPA                               0                          1  \n",
       "0269-XFESX                               0                          1  \n",
       "2506-CLAKW                               0                          0  \n",
       "9381-NDKME                               0                          0  \n",
       "5687-DKDTV                               0                          1  \n",
       "\n",
       "[5 rows x 31 columns]"
      ]
     },
     "execution_count": 10,
     "metadata": {},
     "output_type": "execute_result"
    }
   ],
   "source": [
    "train.head()"
   ]
  },
  {
   "cell_type": "code",
   "execution_count": 11,
   "id": "68096bdb-9725-4e7d-bc50-5211f1d1c9f6",
   "metadata": {
    "tags": []
   },
   "outputs": [],
   "source": [
    "# features we are looking at: payment\n",
    "# create x and y\n",
    "features = ['senior_citizen_1', 'contract_type_One year', 'contract_type_Two year', \n",
    "            'internet_service_type_Fiber optic', 'internet_service_type_None',\n",
    "           'monthly_charges',\n",
    "            'payment_type_Credit card (automatic)','payment_type_Electronic check','payment_type_Mailed check']\n",
    "X_train = train[features]\n",
    "y_train = train.did_churn\n",
    "\n",
    "X_val = val[features]\n",
    "y_val = val.did_churn\n",
    "\n",
    "X_test = test[features]\n",
    "y_test = test.did_churn"
   ]
  },
  {
   "cell_type": "code",
   "execution_count": 12,
   "id": "201b02b9-049c-43a2-b6d3-313e251b3c16",
   "metadata": {
    "tags": []
   },
   "outputs": [
    {
     "name": "stdout",
     "output_type": "stream",
     "text": [
      "X_train type: <class 'pandas.core.frame.DataFrame'>\n",
      "X_train shape: (3943, 9)\n",
      "y_train type: <class 'pandas.core.series.Series'>\n",
      "y_train shape: (3943,)\n",
      "<class 'pandas.core.frame.DataFrame'>\n",
      "<class 'pandas.core.series.Series'>\n"
     ]
    }
   ],
   "source": [
    "print(\"X_train type:\", type(X_train))\n",
    "print(\"X_train shape:\", X_train.shape)\n",
    "print(\"y_train type:\", type(y_train))\n",
    "print(\"y_train shape:\", y_train.shape)\n",
    "print(type(X_val))\n",
    "print(type(y_val))"
   ]
  },
  {
   "cell_type": "markdown",
   "id": "41acfcbd-298c-44b1-8b09-f4da0cb7272e",
   "metadata": {
    "tags": []
   },
   "source": [
    "# Decision Tree:"
   ]
  },
  {
   "cell_type": "code",
   "execution_count": 13,
   "id": "5715ca57-721a-41f2-84be-b5ca37ba5211",
   "metadata": {
    "tags": []
   },
   "outputs": [],
   "source": [
    "# create the model: \n",
    "clf = DecisionTreeClassifier(max_depth=3, random_state=123)"
   ]
  },
  {
   "cell_type": "code",
   "execution_count": 14,
   "id": "63e80180-3530-4f0f-a858-27a80f89be57",
   "metadata": {
    "tags": []
   },
   "outputs": [],
   "source": [
    "#fit the model\n",
    "clf = clf.fit(X_train, y_train)"
   ]
  },
  {
   "cell_type": "code",
   "execution_count": 15,
   "id": "0a2ccea1-c233-4b74-859c-145fd686f974",
   "metadata": {
    "tags": []
   },
   "outputs": [
    {
     "data": {
      "text/plain": [
       "array([0, 0, 0, 0, 0])"
      ]
     },
     "execution_count": 15,
     "metadata": {},
     "output_type": "execute_result"
    }
   ],
   "source": [
    "clf.predict(X_train)[:5]"
   ]
  },
  {
   "cell_type": "code",
   "execution_count": 16,
   "id": "53e67c8e-341c-424e-936f-5620343bdcbd",
   "metadata": {
    "tags": []
   },
   "outputs": [
    {
     "data": {
      "text/plain": [
       "0.7572914024854172"
      ]
     },
     "execution_count": 16,
     "metadata": {},
     "output_type": "execute_result"
    }
   ],
   "source": [
    "clf.score(X_train, y_train)"
   ]
  },
  {
   "cell_type": "markdown",
   "id": "b63ce293-5666-4676-86c8-13d02d6b714f",
   "metadata": {},
   "source": [
    "### Evaluate confusion matrix:\n",
    "postive = no churn or 0 <br>\n",
    "negative = churn or 1"
   ]
  },
  {
   "cell_type": "code",
   "execution_count": 17,
   "id": "88578bb3-2c77-4712-a566-f5e8fc815001",
   "metadata": {
    "tags": []
   },
   "outputs": [],
   "source": [
    "y_pred = clf.predict(X_train)"
   ]
  },
  {
   "cell_type": "code",
   "execution_count": 18,
   "id": "bc14eba9-d675-4275-9045-999254957f2e",
   "metadata": {
    "tags": []
   },
   "outputs": [
    {
     "data": {
      "text/plain": [
       "array([[2508,  389],\n",
       "       [ 568,  478]])"
      ]
     },
     "execution_count": 18,
     "metadata": {},
     "output_type": "execute_result"
    }
   ],
   "source": [
    "conf = confusion_matrix(y_train, y_pred)\n",
    "conf"
   ]
  },
  {
   "cell_type": "code",
   "execution_count": 19,
   "id": "356cc3cc-9fe5-47f7-849a-90cd68b1f1fe",
   "metadata": {
    "tags": []
   },
   "outputs": [
    {
     "data": {
      "text/plain": [
       "array([0, 1])"
      ]
     },
     "execution_count": 19,
     "metadata": {},
     "output_type": "execute_result"
    }
   ],
   "source": [
    "y_train_df = pd.Series(y_train)\n",
    "y_train_df.unique()"
   ]
  },
  {
   "cell_type": "code",
   "execution_count": 20,
   "id": "7de8dd23-88cd-4bb7-b5cd-923c47c4bb39",
   "metadata": {
    "tags": []
   },
   "outputs": [
    {
     "data": {
      "text/plain": [
       "[0, 1]"
      ]
     },
     "execution_count": 20,
     "metadata": {},
     "output_type": "execute_result"
    }
   ],
   "source": [
    "labels = sorted(y_train_df.unique())\n",
    "labels"
   ]
  },
  {
   "cell_type": "code",
   "execution_count": 21,
   "id": "9f4c802f-ed09-435c-ba6b-011b24314c38",
   "metadata": {
    "tags": []
   },
   "outputs": [
    {
     "data": {
      "text/html": [
       "<div>\n",
       "<style scoped>\n",
       "    .dataframe tbody tr th:only-of-type {\n",
       "        vertical-align: middle;\n",
       "    }\n",
       "\n",
       "    .dataframe tbody tr th {\n",
       "        vertical-align: top;\n",
       "    }\n",
       "\n",
       "    .dataframe thead th {\n",
       "        text-align: right;\n",
       "    }\n",
       "</style>\n",
       "<table border=\"1\" class=\"dataframe\">\n",
       "  <thead>\n",
       "    <tr style=\"text-align: right;\">\n",
       "      <th></th>\n",
       "      <th>0</th>\n",
       "      <th>1</th>\n",
       "    </tr>\n",
       "  </thead>\n",
       "  <tbody>\n",
       "    <tr>\n",
       "      <th>0</th>\n",
       "      <td>2508</td>\n",
       "      <td>389</td>\n",
       "    </tr>\n",
       "    <tr>\n",
       "      <th>1</th>\n",
       "      <td>568</td>\n",
       "      <td>478</td>\n",
       "    </tr>\n",
       "  </tbody>\n",
       "</table>\n",
       "</div>"
      ],
      "text/plain": [
       "      0    1\n",
       "0  2508  389\n",
       "1   568  478"
      ]
     },
     "execution_count": 21,
     "metadata": {},
     "output_type": "execute_result"
    }
   ],
   "source": [
    "pd.DataFrame(conf)"
   ]
  },
  {
   "cell_type": "code",
   "execution_count": 22,
   "id": "0e4029a9-aa26-45d6-921d-e7a39384f536",
   "metadata": {
    "tags": []
   },
   "outputs": [
    {
     "name": "stdout",
     "output_type": "stream",
     "text": [
      "              precision    recall  f1-score   support\n",
      "\n",
      "           0       0.82      0.87      0.84      2897\n",
      "           1       0.55      0.46      0.50      1046\n",
      "\n",
      "    accuracy                           0.76      3943\n",
      "   macro avg       0.68      0.66      0.67      3943\n",
      "weighted avg       0.75      0.76      0.75      3943\n",
      "\n"
     ]
    }
   ],
   "source": [
    "print(classification_report(y_train, y_pred))"
   ]
  },
  {
   "cell_type": "markdown",
   "id": "1f3b8b7e-cee1-4f2f-ae3c-9048668db7ee",
   "metadata": {},
   "source": [
    "Compute: Accuracy, true positive rate, false positive rate, true negative rate, false negative rate, precision, recall, f1-score, and support."
   ]
  },
  {
   "cell_type": "code",
   "execution_count": 23,
   "id": "49f1248a-cb91-43a0-91e3-12faae0b6b97",
   "metadata": {
    "tags": []
   },
   "outputs": [
    {
     "data": {
      "text/plain": [
       "array([[2508,  389],\n",
       "       [ 568,  478]])"
      ]
     },
     "execution_count": 23,
     "metadata": {},
     "output_type": "execute_result"
    }
   ],
   "source": [
    "conf"
   ]
  },
  {
   "cell_type": "code",
   "execution_count": 24,
   "id": "7572f2d3-4cbb-4b04-acca-a081d5474a7c",
   "metadata": {
    "tags": []
   },
   "outputs": [
    {
     "data": {
      "text/html": [
       "<div>\n",
       "<style scoped>\n",
       "    .dataframe tbody tr th:only-of-type {\n",
       "        vertical-align: middle;\n",
       "    }\n",
       "\n",
       "    .dataframe tbody tr th {\n",
       "        vertical-align: top;\n",
       "    }\n",
       "\n",
       "    .dataframe thead th {\n",
       "        text-align: right;\n",
       "    }\n",
       "</style>\n",
       "<table border=\"1\" class=\"dataframe\">\n",
       "  <thead>\n",
       "    <tr style=\"text-align: right;\">\n",
       "      <th></th>\n",
       "      <th>0_predict</th>\n",
       "      <th>1_predict</th>\n",
       "    </tr>\n",
       "  </thead>\n",
       "  <tbody>\n",
       "    <tr>\n",
       "      <th>0_actual</th>\n",
       "      <td>2508</td>\n",
       "      <td>389</td>\n",
       "    </tr>\n",
       "    <tr>\n",
       "      <th>1_actual</th>\n",
       "      <td>568</td>\n",
       "      <td>478</td>\n",
       "    </tr>\n",
       "  </tbody>\n",
       "</table>\n",
       "</div>"
      ],
      "text/plain": [
       "          0_predict  1_predict\n",
       "0_actual       2508        389\n",
       "1_actual        568        478"
      ]
     },
     "execution_count": 24,
     "metadata": {},
     "output_type": "execute_result"
    }
   ],
   "source": [
    "pd.DataFrame(conf,\n",
    "            index=[str(label) + '_actual'for label in labels],\n",
    "            columns=[str(label) + '_predict'for label in labels])"
   ]
  },
  {
   "cell_type": "code",
   "execution_count": 25,
   "id": "6bd97826-fb45-40b6-ab40-81b2cc0eeee9",
   "metadata": {
    "tags": []
   },
   "outputs": [
    {
     "data": {
      "text/plain": [
       "array([2508,  389,  568,  478])"
      ]
     },
     "execution_count": 25,
     "metadata": {},
     "output_type": "execute_result"
    }
   ],
   "source": [
    "conf.ravel()"
   ]
  },
  {
   "cell_type": "code",
   "execution_count": 26,
   "id": "ad728113-ca52-4956-9cef-5994df225d08",
   "metadata": {
    "tags": []
   },
   "outputs": [
    {
     "data": {
      "text/plain": [
       "(2508, 389, 568, 478)"
      ]
     },
     "execution_count": 26,
     "metadata": {},
     "output_type": "execute_result"
    }
   ],
   "source": [
    "TN, FP, FN, TP = conf.ravel()\n",
    "TN, FP, FN, TP"
   ]
  },
  {
   "cell_type": "code",
   "execution_count": 27,
   "id": "85db6e7f-2e15-42c3-91f4-ff5066d0f37f",
   "metadata": {
    "tags": []
   },
   "outputs": [],
   "source": [
    "all_ = (TP + TN + FP + FN)\n",
    "\n",
    "accuracy = (TP + TN) / all_\n",
    "\n",
    "TPR = recall = TP / (TP + FN)\n",
    "FPR = FP / (FP + TN)\n",
    "\n",
    "TNR = TN / (FP + TN)\n",
    "FNR = FN / (FN + TP)\n",
    "\n",
    "recall = TP / (TP + FN)\n",
    "precision =  TP / (TP + FP)\n",
    "f1 =  2 * ((precision * recall) / ( precision + recall))\n",
    "\n",
    "support_pos = TP + FN\n",
    "support_neg = FP + TN"
   ]
  },
  {
   "cell_type": "code",
   "execution_count": 28,
   "id": "f25ba34c-d256-4781-a191-5fbbbf53c5f7",
   "metadata": {
    "tags": []
   },
   "outputs": [
    {
     "name": "stdout",
     "output_type": "stream",
     "text": [
      "Accuracy: 0.7572914024854172\n",
      "\n",
      "True Positive Rate/Sensitivity/Recall/Power: 0.4569789674952199\n",
      "False Positive Rate/False Alarm Ratio/Fall-out: 0.13427683810838797\n",
      "True Negative Rate/Specificity/Selectivity: 0.865723161891612\n",
      "False Negative Rate/Miss Rate: 0.5430210325047801\n",
      "\n",
      "Precision/PPV: 0.5513264129181085\n",
      "Recall0.4569789674952199\n",
      "F1 Score: 0.4997386304234187\n",
      "\n",
      "Support (0): 1046\n",
      "Support (1): 2897\n"
     ]
    }
   ],
   "source": [
    "print(f\"Accuracy: {accuracy}\\n\")\n",
    "print(f\"True Positive Rate/Sensitivity/Recall/Power: {TPR}\")\n",
    "print(f\"False Positive Rate/False Alarm Ratio/Fall-out: {FPR}\")\n",
    "print(f\"True Negative Rate/Specificity/Selectivity: {TNR}\")\n",
    "print(f\"False Negative Rate/Miss Rate: {FNR}\\n\")\n",
    "print(f\"Precision/PPV: {precision}\")\n",
    "print(f'Recall{recall}')\n",
    "print(f\"F1 Score: {f1}\\n\")\n",
    "print(f\"Support (0): {support_pos}\")\n",
    "print(f\"Support (1): {support_neg}\")"
   ]
  },
  {
   "cell_type": "code",
   "execution_count": 29,
   "id": "27114519-89a1-45da-b4fe-3c534b59dd5f",
   "metadata": {
    "tags": []
   },
   "outputs": [
    {
     "name": "stdout",
     "output_type": "stream",
     "text": [
      "for depth of  1, the accuracy is 0.73\n",
      "for depth of  2, the accuracy is 0.75\n",
      "for depth of  3, the accuracy is 0.76\n",
      "for depth of  4, the accuracy is 0.77\n",
      "for depth of  5, the accuracy is 0.78\n",
      "for depth of  6, the accuracy is 0.78\n",
      "for depth of  7, the accuracy is 0.79\n",
      "for depth of  8, the accuracy is 0.8\n",
      "for depth of  9, the accuracy is 0.81\n",
      "for depth of 10, the accuracy is 0.82\n",
      "for depth of 11, the accuracy is 0.83\n",
      "for depth of 12, the accuracy is 0.84\n",
      "for depth of 13, the accuracy is 0.86\n",
      "for depth of 14, the accuracy is 0.87\n",
      "for depth of 15, the accuracy is 0.88\n",
      "for depth of 16, the accuracy is 0.89\n",
      "for depth of 17, the accuracy is 0.9\n",
      "for depth of 18, the accuracy is 0.91\n",
      "for depth of 19, the accuracy is 0.92\n"
     ]
    }
   ],
   "source": [
    "#for lots\n",
    "for x in range(1,20):\n",
    "#     print(x)\n",
    "    clf = DecisionTreeClassifier(max_depth=x)\n",
    "    clf.fit(X_train, y_train)\n",
    "    acc = clf.score(X_train, y_train)\n",
    "    print(f'for depth of {x:2}, the accuracy is {round(acc,2)}')"
   ]
  },
  {
   "cell_type": "code",
   "execution_count": 30,
   "id": "2763806e-c4b0-477d-a24d-a42887354eab",
   "metadata": {
    "tags": []
   },
   "outputs": [],
   "source": [
    "scores_all = []\n",
    "\n",
    "for x in range(1,20):\n",
    "\n",
    "    clf = DecisionTreeClassifier(max_depth=x)\n",
    "    clf.fit(X_train, y_train)\n",
    "    train_acc = clf.score(X_train, y_train)\n",
    "    \n",
    "    #evaluate on validate\n",
    "    val_acc = clf.score(X_val, y_val)\n",
    "    \n",
    "    scores_all.append([x, train_acc, val_acc])\n"
   ]
  },
  {
   "cell_type": "code",
   "execution_count": 31,
   "id": "a1c21411-e251-4e31-8d1b-bf7ab1cee3d1",
   "metadata": {
    "tags": []
   },
   "outputs": [
    {
     "data": {
      "text/html": [
       "<div>\n",
       "<style scoped>\n",
       "    .dataframe tbody tr th:only-of-type {\n",
       "        vertical-align: middle;\n",
       "    }\n",
       "\n",
       "    .dataframe tbody tr th {\n",
       "        vertical-align: top;\n",
       "    }\n",
       "\n",
       "    .dataframe thead th {\n",
       "        text-align: right;\n",
       "    }\n",
       "</style>\n",
       "<table border=\"1\" class=\"dataframe\">\n",
       "  <thead>\n",
       "    <tr style=\"text-align: right;\">\n",
       "      <th></th>\n",
       "      <th>max_depth</th>\n",
       "      <th>train_acc</th>\n",
       "      <th>val_acc</th>\n",
       "    </tr>\n",
       "  </thead>\n",
       "  <tbody>\n",
       "    <tr>\n",
       "      <th>0</th>\n",
       "      <td>1</td>\n",
       "      <td>0.734720</td>\n",
       "      <td>0.734477</td>\n",
       "    </tr>\n",
       "    <tr>\n",
       "      <th>1</th>\n",
       "      <td>2</td>\n",
       "      <td>0.747147</td>\n",
       "      <td>0.759905</td>\n",
       "    </tr>\n",
       "    <tr>\n",
       "      <th>2</th>\n",
       "      <td>3</td>\n",
       "      <td>0.757291</td>\n",
       "      <td>0.772915</td>\n",
       "    </tr>\n",
       "    <tr>\n",
       "      <th>3</th>\n",
       "      <td>4</td>\n",
       "      <td>0.770226</td>\n",
       "      <td>0.785334</td>\n",
       "    </tr>\n",
       "    <tr>\n",
       "      <th>4</th>\n",
       "      <td>5</td>\n",
       "      <td>0.775805</td>\n",
       "      <td>0.781195</td>\n",
       "    </tr>\n",
       "  </tbody>\n",
       "</table>\n",
       "</div>"
      ],
      "text/plain": [
       "   max_depth  train_acc   val_acc\n",
       "0          1   0.734720  0.734477\n",
       "1          2   0.747147  0.759905\n",
       "2          3   0.757291  0.772915\n",
       "3          4   0.770226  0.785334\n",
       "4          5   0.775805  0.781195"
      ]
     },
     "execution_count": 31,
     "metadata": {},
     "output_type": "execute_result"
    }
   ],
   "source": [
    "scores_df = pd.DataFrame(scores_all, columns=['max_depth','train_acc','val_acc'])\n",
    "scores_df.head()"
   ]
  },
  {
   "cell_type": "code",
   "execution_count": 32,
   "id": "1d9e8bdc-db2e-4785-b538-c3ec030ce33e",
   "metadata": {
    "tags": []
   },
   "outputs": [],
   "source": [
    "scores_df['diff'] = scores_df.train_acc - scores_df.val_acc"
   ]
  },
  {
   "cell_type": "code",
   "execution_count": 33,
   "id": "40ba49ad-f324-4cae-a411-dde1c7ad8d0a",
   "metadata": {
    "tags": []
   },
   "outputs": [
    {
     "data": {
      "text/html": [
       "<div>\n",
       "<style scoped>\n",
       "    .dataframe tbody tr th:only-of-type {\n",
       "        vertical-align: middle;\n",
       "    }\n",
       "\n",
       "    .dataframe tbody tr th {\n",
       "        vertical-align: top;\n",
       "    }\n",
       "\n",
       "    .dataframe thead th {\n",
       "        text-align: right;\n",
       "    }\n",
       "</style>\n",
       "<table border=\"1\" class=\"dataframe\">\n",
       "  <thead>\n",
       "    <tr style=\"text-align: right;\">\n",
       "      <th></th>\n",
       "      <th>max_depth</th>\n",
       "      <th>train_acc</th>\n",
       "      <th>val_acc</th>\n",
       "      <th>diff</th>\n",
       "    </tr>\n",
       "  </thead>\n",
       "  <tbody>\n",
       "    <tr>\n",
       "      <th>2</th>\n",
       "      <td>3</td>\n",
       "      <td>0.757291</td>\n",
       "      <td>0.772915</td>\n",
       "      <td>-0.015624</td>\n",
       "    </tr>\n",
       "    <tr>\n",
       "      <th>3</th>\n",
       "      <td>4</td>\n",
       "      <td>0.770226</td>\n",
       "      <td>0.785334</td>\n",
       "      <td>-0.015108</td>\n",
       "    </tr>\n",
       "    <tr>\n",
       "      <th>1</th>\n",
       "      <td>2</td>\n",
       "      <td>0.747147</td>\n",
       "      <td>0.759905</td>\n",
       "      <td>-0.012759</td>\n",
       "    </tr>\n",
       "    <tr>\n",
       "      <th>4</th>\n",
       "      <td>5</td>\n",
       "      <td>0.775805</td>\n",
       "      <td>0.781195</td>\n",
       "      <td>-0.005389</td>\n",
       "    </tr>\n",
       "    <tr>\n",
       "      <th>5</th>\n",
       "      <td>6</td>\n",
       "      <td>0.780624</td>\n",
       "      <td>0.781786</td>\n",
       "      <td>-0.001162</td>\n",
       "    </tr>\n",
       "    <tr>\n",
       "      <th>0</th>\n",
       "      <td>1</td>\n",
       "      <td>0.734720</td>\n",
       "      <td>0.734477</td>\n",
       "      <td>0.000243</td>\n",
       "    </tr>\n",
       "    <tr>\n",
       "      <th>6</th>\n",
       "      <td>7</td>\n",
       "      <td>0.787979</td>\n",
       "      <td>0.778238</td>\n",
       "      <td>0.009741</td>\n",
       "    </tr>\n",
       "  </tbody>\n",
       "</table>\n",
       "</div>"
      ],
      "text/plain": [
       "   max_depth  train_acc   val_acc      diff\n",
       "2          3   0.757291  0.772915 -0.015624\n",
       "3          4   0.770226  0.785334 -0.015108\n",
       "1          2   0.747147  0.759905 -0.012759\n",
       "4          5   0.775805  0.781195 -0.005389\n",
       "5          6   0.780624  0.781786 -0.001162\n",
       "0          1   0.734720  0.734477  0.000243\n",
       "6          7   0.787979  0.778238  0.009741"
      ]
     },
     "execution_count": 33,
     "metadata": {},
     "output_type": "execute_result"
    }
   ],
   "source": [
    "scores_df.sort_values('diff').head(7)"
   ]
  },
  {
   "cell_type": "code",
   "execution_count": 34,
   "id": "c840224c-1c91-4844-8a9c-eeb6745fbe12",
   "metadata": {
    "tags": []
   },
   "outputs": [
    {
     "data": {
      "image/png": "[encoded data removed]",
      "text/plain": [
       "<Figure size 1200x600 with 1 Axes>"
      ]
     },
     "metadata": {},
     "output_type": "display_data"
    }
   ],
   "source": [
    "plt.figure(figsize=(12,6))\n",
    "plt.plot(scores_df.max_depth, scores_df.train_acc, label='train', marker='o')\n",
    "plt.plot(scores_df.max_depth, scores_df.val_acc, label='validate', marker='o')\n",
    "plt.xlabel('max depth')\n",
    "plt.ylabel('accuracy')\n",
    "plt.title('how does the accuracy change with max depth on train and validate?')\n",
    "plt.legend()\n",
    "plt.show()"
   ]
  },
  {
   "cell_type": "markdown",
   "id": "61009f97-c9f1-4e86-9400-6306a723bbeb",
   "metadata": {},
   "source": [
    "## Best Decision Tree"
   ]
  },
  {
   "cell_type": "code",
   "execution_count": 35,
   "id": "0e52b263-7102-4443-96f8-517b6a7ff4c6",
   "metadata": {
    "tags": []
   },
   "outputs": [],
   "source": [
    "# make a decision tree based on max depth = 7"
   ]
  },
  {
   "cell_type": "code",
   "execution_count": 36,
   "id": "9984f38a-8053-4415-a1ab-d0f76ccc2809",
   "metadata": {
    "tags": []
   },
   "outputs": [],
   "source": [
    "metrics = []\n",
    "for d in range(1,11):\n",
    "    #base line\n",
    "    baseline_accuracy = (train.did_churn == 0).mean()\n",
    "\n",
    "    #create tree object\n",
    "    clf = DecisionTreeClassifier(max_depth=d, random_state=123)\n",
    "  \n",
    "    \n",
    "    # fit model\n",
    "    clf = clf.fit(X_train, y_train)\n",
    "    \n",
    "    # train accurecy score\n",
    "    train_score = clf.score(X_train, y_train)\n",
    "    validate_score = clf.score(X_val, y_val)\n",
    "    \n",
    "    # create a dictionary of scores\n",
    "    output = {\n",
    "        \"depth\": d,\n",
    "        \"train_score\": train_score,\n",
    "         \"validate_score\": validate_score,\n",
    "        \"difference\": train_score - validate_score,\n",
    "        \"train_baseline_diff\": baseline_accuracy - train_score,\n",
    "        \"validate_baseline_diff\": baseline_accuracy - validate_score,\n",
    "        \"baseline_accuracy\": baseline_accuracy,\n",
    "    }\n",
    "    \n",
    "    metrics.append(output)"
   ]
  },
  {
   "cell_type": "code",
   "execution_count": 37,
   "id": "1c7a1aa1-e204-4d09-a8b4-f5d127d1b655",
   "metadata": {
    "tags": []
   },
   "outputs": [
    {
     "data": {
      "text/html": [
       "<div>\n",
       "<style scoped>\n",
       "    .dataframe tbody tr th:only-of-type {\n",
       "        vertical-align: middle;\n",
       "    }\n",
       "\n",
       "    .dataframe tbody tr th {\n",
       "        vertical-align: top;\n",
       "    }\n",
       "\n",
       "    .dataframe thead th {\n",
       "        text-align: right;\n",
       "    }\n",
       "</style>\n",
       "<table border=\"1\" class=\"dataframe\">\n",
       "  <thead>\n",
       "    <tr style=\"text-align: right;\">\n",
       "      <th></th>\n",
       "      <th>depth</th>\n",
       "      <th>train_score</th>\n",
       "      <th>validate_score</th>\n",
       "      <th>difference</th>\n",
       "      <th>train_baseline_diff</th>\n",
       "      <th>validate_baseline_diff</th>\n",
       "      <th>baseline_accuracy</th>\n",
       "    </tr>\n",
       "  </thead>\n",
       "  <tbody>\n",
       "    <tr>\n",
       "      <th>0</th>\n",
       "      <td>1</td>\n",
       "      <td>0.734720</td>\n",
       "      <td>0.734477</td>\n",
       "      <td>0.000243</td>\n",
       "      <td>0.000000</td>\n",
       "      <td>0.000243</td>\n",
       "      <td>0.73472</td>\n",
       "    </tr>\n",
       "    <tr>\n",
       "      <th>1</th>\n",
       "      <td>2</td>\n",
       "      <td>0.747147</td>\n",
       "      <td>0.759905</td>\n",
       "      <td>-0.012759</td>\n",
       "      <td>-0.012427</td>\n",
       "      <td>-0.025186</td>\n",
       "      <td>0.73472</td>\n",
       "    </tr>\n",
       "    <tr>\n",
       "      <th>2</th>\n",
       "      <td>3</td>\n",
       "      <td>0.757291</td>\n",
       "      <td>0.772915</td>\n",
       "      <td>-0.015624</td>\n",
       "      <td>-0.022572</td>\n",
       "      <td>-0.038196</td>\n",
       "      <td>0.73472</td>\n",
       "    </tr>\n",
       "    <tr>\n",
       "      <th>3</th>\n",
       "      <td>4</td>\n",
       "      <td>0.770226</td>\n",
       "      <td>0.785334</td>\n",
       "      <td>-0.015108</td>\n",
       "      <td>-0.035506</td>\n",
       "      <td>-0.050614</td>\n",
       "      <td>0.73472</td>\n",
       "    </tr>\n",
       "    <tr>\n",
       "      <th>4</th>\n",
       "      <td>5</td>\n",
       "      <td>0.775805</td>\n",
       "      <td>0.781195</td>\n",
       "      <td>-0.005389</td>\n",
       "      <td>-0.041085</td>\n",
       "      <td>-0.046475</td>\n",
       "      <td>0.73472</td>\n",
       "    </tr>\n",
       "    <tr>\n",
       "      <th>5</th>\n",
       "      <td>6</td>\n",
       "      <td>0.780624</td>\n",
       "      <td>0.781786</td>\n",
       "      <td>-0.001162</td>\n",
       "      <td>-0.045904</td>\n",
       "      <td>-0.047066</td>\n",
       "      <td>0.73472</td>\n",
       "    </tr>\n",
       "    <tr>\n",
       "      <th>6</th>\n",
       "      <td>7</td>\n",
       "      <td>0.787979</td>\n",
       "      <td>0.778238</td>\n",
       "      <td>0.009741</td>\n",
       "      <td>-0.053259</td>\n",
       "      <td>-0.043518</td>\n",
       "      <td>0.73472</td>\n",
       "    </tr>\n",
       "    <tr>\n",
       "      <th>7</th>\n",
       "      <td>8</td>\n",
       "      <td>0.797362</td>\n",
       "      <td>0.769959</td>\n",
       "      <td>0.027404</td>\n",
       "      <td>-0.062643</td>\n",
       "      <td>-0.035239</td>\n",
       "      <td>0.73472</td>\n",
       "    </tr>\n",
       "    <tr>\n",
       "      <th>8</th>\n",
       "      <td>9</td>\n",
       "      <td>0.809282</td>\n",
       "      <td>0.762271</td>\n",
       "      <td>0.047011</td>\n",
       "      <td>-0.074563</td>\n",
       "      <td>-0.027551</td>\n",
       "      <td>0.73472</td>\n",
       "    </tr>\n",
       "    <tr>\n",
       "      <th>9</th>\n",
       "      <td>10</td>\n",
       "      <td>0.817398</td>\n",
       "      <td>0.764636</td>\n",
       "      <td>0.052762</td>\n",
       "      <td>-0.082678</td>\n",
       "      <td>-0.029917</td>\n",
       "      <td>0.73472</td>\n",
       "    </tr>\n",
       "  </tbody>\n",
       "</table>\n",
       "</div>"
      ],
      "text/plain": [
       "   depth  train_score  validate_score  difference  train_baseline_diff  \\\n",
       "0      1     0.734720        0.734477    0.000243             0.000000   \n",
       "1      2     0.747147        0.759905   -0.012759            -0.012427   \n",
       "2      3     0.757291        0.772915   -0.015624            -0.022572   \n",
       "3      4     0.770226        0.785334   -0.015108            -0.035506   \n",
       "4      5     0.775805        0.781195   -0.005389            -0.041085   \n",
       "5      6     0.780624        0.781786   -0.001162            -0.045904   \n",
       "6      7     0.787979        0.778238    0.009741            -0.053259   \n",
       "7      8     0.797362        0.769959    0.027404            -0.062643   \n",
       "8      9     0.809282        0.762271    0.047011            -0.074563   \n",
       "9     10     0.817398        0.764636    0.052762            -0.082678   \n",
       "\n",
       "   validate_baseline_diff  baseline_accuracy  \n",
       "0                0.000243            0.73472  \n",
       "1               -0.025186            0.73472  \n",
       "2               -0.038196            0.73472  \n",
       "3               -0.050614            0.73472  \n",
       "4               -0.046475            0.73472  \n",
       "5               -0.047066            0.73472  \n",
       "6               -0.043518            0.73472  \n",
       "7               -0.035239            0.73472  \n",
       "8               -0.027551            0.73472  \n",
       "9               -0.029917            0.73472  "
      ]
     },
     "execution_count": 37,
     "metadata": {},
     "output_type": "execute_result"
    }
   ],
   "source": [
    "# get the result as a dataframe\n",
    "model_df = pd.DataFrame(metrics)\n",
    "model_df"
   ]
  },
  {
   "cell_type": "code",
   "execution_count": 38,
   "id": "0c5cbc06-20f5-49e6-a012-19019a002ff9",
   "metadata": {
    "tags": []
   },
   "outputs": [],
   "source": [
    "clf = DecisionTreeClassifier(max_depth=7, random_state=123)"
   ]
  },
  {
   "cell_type": "code",
   "execution_count": 39,
   "id": "f5ef90f8-cf86-49b5-9dfb-72748d6b1d8e",
   "metadata": {
    "tags": []
   },
   "outputs": [],
   "source": [
    "clf = clf.fit(X_train, y_train)"
   ]
  },
  {
   "cell_type": "code",
   "execution_count": 40,
   "id": "c811dd98-dfb2-43a7-aba2-3ab8f8c12d06",
   "metadata": {
    "tags": []
   },
   "outputs": [
    {
     "data": {
      "text/plain": [
       "array([0, 0, 1, 0, 0])"
      ]
     },
     "execution_count": 40,
     "metadata": {},
     "output_type": "execute_result"
    }
   ],
   "source": [
    "clf.predict(X_train)[:5]"
   ]
  },
  {
   "cell_type": "code",
   "execution_count": 41,
   "id": "173004b2-a540-4340-a662-0cac5f322e3f",
   "metadata": {
    "tags": []
   },
   "outputs": [
    {
     "data": {
      "text/plain": [
       "0.7879786964240426"
      ]
     },
     "execution_count": 41,
     "metadata": {},
     "output_type": "execute_result"
    }
   ],
   "source": [
    "clf.score(X_train, y_train)"
   ]
  },
  {
   "cell_type": "code",
   "execution_count": 42,
   "id": "0c36f3b2-c739-49c8-817c-c4088090a5fd",
   "metadata": {
    "tags": []
   },
   "outputs": [],
   "source": [
    "y_pred = clf.predict(X_train)"
   ]
  },
  {
   "cell_type": "code",
   "execution_count": 43,
   "id": "1cb832d3-38fd-4a70-8799-42c4f786d7dd",
   "metadata": {
    "tags": []
   },
   "outputs": [
    {
     "data": {
      "text/plain": [
       "array([[2543,  354],\n",
       "       [ 482,  564]])"
      ]
     },
     "execution_count": 43,
     "metadata": {},
     "output_type": "execute_result"
    }
   ],
   "source": [
    "conf = confusion_matrix(y_train, y_pred)\n",
    "conf"
   ]
  },
  {
   "cell_type": "code",
   "execution_count": 44,
   "id": "6ff60726-584d-48d2-83ca-8358543c45ee",
   "metadata": {
    "tags": []
   },
   "outputs": [
    {
     "data": {
      "text/plain": [
       "array([2543,  354,  482,  564])"
      ]
     },
     "execution_count": 44,
     "metadata": {},
     "output_type": "execute_result"
    }
   ],
   "source": [
    "conf.ravel()"
   ]
  },
  {
   "cell_type": "code",
   "execution_count": 45,
   "id": "f4bb9271-ef1d-4380-ad9f-fb4aa79fa858",
   "metadata": {
    "tags": []
   },
   "outputs": [
    {
     "data": {
      "text/plain": [
       "(2543, 354, 482, 564)"
      ]
     },
     "execution_count": 45,
     "metadata": {},
     "output_type": "execute_result"
    }
   ],
   "source": [
    "TN, FP, FN, TP = conf.ravel()\n",
    "TN, FP, FN, TP"
   ]
  },
  {
   "cell_type": "code",
   "execution_count": 46,
   "id": "8cd159ed-a0b9-4921-8e74-1e5a721c5100",
   "metadata": {
    "tags": []
   },
   "outputs": [],
   "source": [
    "all_ = (TP + TN + FP + FN)\n",
    "\n",
    "accuracy = (TP + TN) / all_\n",
    "\n",
    "TPR = recall = TP / (TP + FN)\n",
    "FPR = FP / (FP + TN)\n",
    "\n",
    "TNR = TN / (FP + TN)\n",
    "FNR = FN / (FN + TP)\n",
    "\n",
    "precision =  TP / (TP + FP)\n",
    "f1 =  2 * ((precision * recall) / ( precision + recall))\n",
    "\n",
    "support_pos = TP + FN\n",
    "support_neg = FP + TN"
   ]
  },
  {
   "cell_type": "code",
   "execution_count": 47,
   "id": "3d879b02-a91e-4dba-a6db-1c0c4b544aa8",
   "metadata": {
    "tags": []
   },
   "outputs": [
    {
     "name": "stdout",
     "output_type": "stream",
     "text": [
      "Accuracy: 0.7879786964240426\n",
      "\n",
      "True Positive Rate/Sensitivity/Recall/Power: 0.5391969407265774\n",
      "False Positive Rate/False Alarm Ratio/Fall-out: 0.12219537452537108\n",
      "True Negative Rate/Specificity/Selectivity: 0.8778046254746289\n",
      "False Negative Rate/Miss Rate: 0.4608030592734226\n",
      "\n",
      "Precision/PPV: 0.6143790849673203\n",
      "F1 Score: 0.5743380855397148\n",
      "\n",
      "Support (0): 1046\n",
      "Support (1): 2897\n"
     ]
    }
   ],
   "source": [
    "print(f\"Accuracy: {accuracy}\\n\")\n",
    "print(f\"True Positive Rate/Sensitivity/Recall/Power: {TPR}\")\n",
    "print(f\"False Positive Rate/False Alarm Ratio/Fall-out: {FPR}\")\n",
    "print(f\"True Negative Rate/Specificity/Selectivity: {TNR}\")\n",
    "print(f\"False Negative Rate/Miss Rate: {FNR}\\n\")\n",
    "print(f\"Precision/PPV: {precision}\")\n",
    "print(f\"F1 Score: {f1}\\n\")\n",
    "print(f\"Support (0): {support_pos}\")\n",
    "print(f\"Support (1): {support_neg}\")"
   ]
  },
  {
   "cell_type": "code",
   "execution_count": 48,
   "id": "b900e91f-9b04-449a-89c6-135788d8662a",
   "metadata": {
    "tags": []
   },
   "outputs": [
    {
     "name": "stdout",
     "output_type": "stream",
     "text": [
      "              precision    recall  f1-score   support\n",
      "\n",
      "           0       0.84      0.88      0.86      2897\n",
      "           1       0.61      0.54      0.57      1046\n",
      "\n",
      "    accuracy                           0.79      3943\n",
      "   macro avg       0.73      0.71      0.72      3943\n",
      "weighted avg       0.78      0.79      0.78      3943\n",
      "\n"
     ]
    }
   ],
   "source": [
    "print(classification_report(y_train, y_pred))"
   ]
  },
  {
   "cell_type": "markdown",
   "id": "bc5f69ce-f041-41a1-8686-3cf3d1443ba5",
   "metadata": {},
   "source": [
    "# Random Forest"
   ]
  },
  {
   "cell_type": "code",
   "execution_count": 49,
   "id": "e7751caf-bf7a-4da0-a664-0431950733ed",
   "metadata": {
    "tags": []
   },
   "outputs": [
    {
     "name": "stdout",
     "output_type": "stream",
     "text": [
      "Baseline accuracy: 0.73\n"
     ]
    }
   ],
   "source": [
    "# The mode is a great baseline\n",
    "baseline = y_train.mode()\n",
    "\n",
    "# Produce a boolean array with True representing a match between the baseline prediction and reality\n",
    "matches_baseline_prediction = y_train == 0\n",
    "\n",
    "baseline_accuracy = matches_baseline_prediction.mean()\n",
    "print(f\"Baseline accuracy: {round(baseline_accuracy, 2)}\")"
   ]
  },
  {
   "cell_type": "code",
   "execution_count": 50,
   "id": "4c329c4b-9474-4dd6-bdcc-f357760efa9f",
   "metadata": {
    "tags": []
   },
   "outputs": [
    {
     "name": "stdout",
     "output_type": "stream",
     "text": [
      "Tree of 1 depth\n"
     ]
    },
    {
     "data": {
      "text/html": [
       "<div>\n",
       "<style scoped>\n",
       "    .dataframe tbody tr th:only-of-type {\n",
       "        vertical-align: middle;\n",
       "    }\n",
       "\n",
       "    .dataframe tbody tr th {\n",
       "        vertical-align: top;\n",
       "    }\n",
       "\n",
       "    .dataframe thead th {\n",
       "        text-align: right;\n",
       "    }\n",
       "</style>\n",
       "<table border=\"1\" class=\"dataframe\">\n",
       "  <thead>\n",
       "    <tr style=\"text-align: right;\">\n",
       "      <th></th>\n",
       "      <th>0</th>\n",
       "      <th>1</th>\n",
       "      <th>accuracy</th>\n",
       "      <th>macro avg</th>\n",
       "      <th>weighted avg</th>\n",
       "    </tr>\n",
       "  </thead>\n",
       "  <tbody>\n",
       "    <tr>\n",
       "      <th>precision</th>\n",
       "      <td>0.734720</td>\n",
       "      <td>0.0</td>\n",
       "      <td>0.73472</td>\n",
       "      <td>0.367360</td>\n",
       "      <td>0.539813</td>\n",
       "    </tr>\n",
       "    <tr>\n",
       "      <th>recall</th>\n",
       "      <td>1.000000</td>\n",
       "      <td>0.0</td>\n",
       "      <td>0.73472</td>\n",
       "      <td>0.500000</td>\n",
       "      <td>0.734720</td>\n",
       "    </tr>\n",
       "    <tr>\n",
       "      <th>f1-score</th>\n",
       "      <td>0.847076</td>\n",
       "      <td>0.0</td>\n",
       "      <td>0.73472</td>\n",
       "      <td>0.423538</td>\n",
       "      <td>0.622363</td>\n",
       "    </tr>\n",
       "    <tr>\n",
       "      <th>support</th>\n",
       "      <td>2897.000000</td>\n",
       "      <td>1046.0</td>\n",
       "      <td>0.73472</td>\n",
       "      <td>3943.000000</td>\n",
       "      <td>3943.000000</td>\n",
       "    </tr>\n",
       "  </tbody>\n",
       "</table>\n",
       "</div>"
      ],
      "text/plain": [
       "                     0       1  accuracy    macro avg  weighted avg\n",
       "precision     0.734720     0.0   0.73472     0.367360      0.539813\n",
       "recall        1.000000     0.0   0.73472     0.500000      0.734720\n",
       "f1-score      0.847076     0.0   0.73472     0.423538      0.622363\n",
       "support    2897.000000  1046.0   0.73472  3943.000000   3943.000000"
      ]
     },
     "execution_count": 50,
     "metadata": {},
     "output_type": "execute_result"
    }
   ],
   "source": [
    "# Make the model\n",
    "forest1 = RandomForestClassifier(max_depth=1, random_state=124)\n",
    "\n",
    "# Fit the model (on train and only train)\n",
    "forest1.fit(X_train, y_train)\n",
    "\n",
    "# Use the model\n",
    "# We'll evaluate the model's performance on train, first\n",
    "y_predictions = forest1.predict(X_train)\n",
    "\n",
    "# Produce the classification report on the actual y values and this model's predicted y values\n",
    "report = classification_report(y_train, y_predictions, output_dict=True)\n",
    "print(\"Tree of 1 depth\")\n",
    "pd.DataFrame(report)\n"
   ]
  },
  {
   "cell_type": "code",
   "execution_count": 51,
   "id": "89a7d328-e623-404f-9037-8f9a224108bf",
   "metadata": {
    "tags": []
   },
   "outputs": [
    {
     "data": {
      "text/html": [
       "<div>\n",
       "<style scoped>\n",
       "    .dataframe tbody tr th:only-of-type {\n",
       "        vertical-align: middle;\n",
       "    }\n",
       "\n",
       "    .dataframe tbody tr th {\n",
       "        vertical-align: top;\n",
       "    }\n",
       "\n",
       "    .dataframe thead th {\n",
       "        text-align: right;\n",
       "    }\n",
       "</style>\n",
       "<table border=\"1\" class=\"dataframe\">\n",
       "  <thead>\n",
       "    <tr style=\"text-align: right;\">\n",
       "      <th></th>\n",
       "      <th>0</th>\n",
       "      <th>1</th>\n",
       "    </tr>\n",
       "  </thead>\n",
       "  <tbody>\n",
       "    <tr>\n",
       "      <th>0</th>\n",
       "      <td>2897</td>\n",
       "      <td>1046</td>\n",
       "    </tr>\n",
       "    <tr>\n",
       "      <th>1</th>\n",
       "      <td>0</td>\n",
       "      <td>0</td>\n",
       "    </tr>\n",
       "  </tbody>\n",
       "</table>\n",
       "</div>"
      ],
      "text/plain": [
       "      0     1\n",
       "0  2897  1046\n",
       "1     0     0"
      ]
     },
     "execution_count": 51,
     "metadata": {},
     "output_type": "execute_result"
    }
   ],
   "source": [
    "# sklearn confusion matrix\n",
    "pd.DataFrame(confusion_matrix(y_predictions, y_train))"
   ]
  },
  {
   "cell_type": "code",
   "execution_count": 52,
   "id": "27b8da68-04e0-408d-8390-769fb647f317",
   "metadata": {
    "tags": []
   },
   "outputs": [
    {
     "data": {
      "image/png": "[encoded data removed]",
      "text/plain": [
       "<Figure size 640x480 with 2 Axes>"
      ]
     },
     "metadata": {},
     "output_type": "display_data"
    }
   ],
   "source": [
    "ConfusionMatrixDisplay.from_estimator(forest1, X_train, y_train);"
   ]
  },
  {
   "cell_type": "code",
   "execution_count": 53,
   "id": "7d132c5f-fe02-4ac6-98cf-4a2dfb49e7e1",
   "metadata": {
    "tags": []
   },
   "outputs": [
    {
     "data": {
      "text/plain": [
       "(0, 2897, 0, 1046)"
      ]
     },
     "execution_count": 53,
     "metadata": {},
     "output_type": "execute_result"
    }
   ],
   "source": [
    "TN, FP, FN, TP = confusion_matrix(y_train,y_predictions).ravel()\n",
    "ALL = TP + TN + FP + FN\n",
    "\n",
    "TP, TN, FP, FN"
   ]
  },
  {
   "cell_type": "code",
   "execution_count": 54,
   "id": "bbb305b7-294b-4d1f-b4ad-d999625ad3f6",
   "metadata": {
    "tags": []
   },
   "outputs": [
    {
     "name": "stdout",
     "output_type": "stream",
     "text": [
      "Accuracy: 0.7347197565305605\n",
      "True Positive Rate: 0.0\n",
      "False Positive Rate: 0.0\n",
      "True Negative Rate: 1.0\n",
      "False Negative Rate: 1.0\n",
      "Precision: nan\n",
      "Recall: 0.0\n",
      "F1 Score: nan\n",
      "Support (0): 1046\n",
      "Support (1): 2897\n"
     ]
    }
   ],
   "source": [
    "accuracy = (TP + TN)/ALL\n",
    "print(f\"Accuracy: {accuracy}\")\n",
    "\n",
    "true_positive_rate = TP/(TP+FN)\n",
    "print(f\"True Positive Rate: {true_positive_rate}\")\n",
    "\n",
    "false_positive_rate = FP/(FP+TN)\n",
    "print(f\"False Positive Rate: {false_positive_rate}\")\n",
    "\n",
    "true_negative_rate = TN/(TN+FP)\n",
    "print(f\"True Negative Rate: {true_negative_rate}\")\n",
    "\n",
    "false_negative_rate = FN/(FN+TP)\n",
    "print(f\"False Negative Rate: {false_negative_rate}\")\n",
    "\n",
    "precision = TP/(TP+FP)\n",
    "print(f\"Precision: {precision}\")\n",
    "\n",
    "recall = TP/(TP+FN)\n",
    "print(f\"Recall: {recall}\")\n",
    "\n",
    "f1_score = 2*(precision*recall)/(precision+recall)\n",
    "print(f\"F1 Score: {f1_score}\")\n",
    "\n",
    "support_pos = TP + FN\n",
    "print(f\"Support (0): {support_pos}\")\n",
    "\n",
    "support_neg = FP + TN\n",
    "print(f\"Support (1): {support_neg}\")"
   ]
  },
  {
   "cell_type": "code",
   "execution_count": 55,
   "id": "22ae0087-6be8-462a-8951-9a253b555656",
   "metadata": {
    "tags": []
   },
   "outputs": [
    {
     "data": {
      "text/html": [
       "<div>\n",
       "<style scoped>\n",
       "    .dataframe tbody tr th:only-of-type {\n",
       "        vertical-align: middle;\n",
       "    }\n",
       "\n",
       "    .dataframe tbody tr th {\n",
       "        vertical-align: top;\n",
       "    }\n",
       "\n",
       "    .dataframe thead th {\n",
       "        text-align: right;\n",
       "    }\n",
       "</style>\n",
       "<table border=\"1\" class=\"dataframe\">\n",
       "  <thead>\n",
       "    <tr style=\"text-align: right;\">\n",
       "      <th></th>\n",
       "      <th>max_depth</th>\n",
       "      <th>train_accuracy</th>\n",
       "      <th>validate_accuracy</th>\n",
       "      <th>difference</th>\n",
       "    </tr>\n",
       "  </thead>\n",
       "  <tbody>\n",
       "    <tr>\n",
       "      <th>0</th>\n",
       "      <td>2</td>\n",
       "      <td>0.734720</td>\n",
       "      <td>0.734477</td>\n",
       "      <td>0.000243</td>\n",
       "    </tr>\n",
       "    <tr>\n",
       "      <th>1</th>\n",
       "      <td>3</td>\n",
       "      <td>0.766422</td>\n",
       "      <td>0.770550</td>\n",
       "      <td>-0.004128</td>\n",
       "    </tr>\n",
       "    <tr>\n",
       "      <th>2</th>\n",
       "      <td>4</td>\n",
       "      <td>0.770226</td>\n",
       "      <td>0.786517</td>\n",
       "      <td>-0.016291</td>\n",
       "    </tr>\n",
       "    <tr>\n",
       "      <th>3</th>\n",
       "      <td>5</td>\n",
       "      <td>0.771747</td>\n",
       "      <td>0.787108</td>\n",
       "      <td>-0.015361</td>\n",
       "    </tr>\n",
       "    <tr>\n",
       "      <th>4</th>\n",
       "      <td>6</td>\n",
       "      <td>0.777834</td>\n",
       "      <td>0.788291</td>\n",
       "      <td>-0.010457</td>\n",
       "    </tr>\n",
       "    <tr>\n",
       "      <th>5</th>\n",
       "      <td>7</td>\n",
       "      <td>0.784682</td>\n",
       "      <td>0.791248</td>\n",
       "      <td>-0.006566</td>\n",
       "    </tr>\n",
       "    <tr>\n",
       "      <th>6</th>\n",
       "      <td>8</td>\n",
       "      <td>0.794065</td>\n",
       "      <td>0.782969</td>\n",
       "      <td>0.011097</td>\n",
       "    </tr>\n",
       "    <tr>\n",
       "      <th>7</th>\n",
       "      <td>9</td>\n",
       "      <td>0.808775</td>\n",
       "      <td>0.774690</td>\n",
       "      <td>0.034086</td>\n",
       "    </tr>\n",
       "    <tr>\n",
       "      <th>8</th>\n",
       "      <td>10</td>\n",
       "      <td>0.834644</td>\n",
       "      <td>0.762862</td>\n",
       "      <td>0.071781</td>\n",
       "    </tr>\n",
       "    <tr>\n",
       "      <th>9</th>\n",
       "      <td>11</td>\n",
       "      <td>0.855186</td>\n",
       "      <td>0.762862</td>\n",
       "      <td>0.092324</td>\n",
       "    </tr>\n",
       "    <tr>\n",
       "      <th>10</th>\n",
       "      <td>12</td>\n",
       "      <td>0.875983</td>\n",
       "      <td>0.761679</td>\n",
       "      <td>0.114303</td>\n",
       "    </tr>\n",
       "    <tr>\n",
       "      <th>11</th>\n",
       "      <td>13</td>\n",
       "      <td>0.900837</td>\n",
       "      <td>0.749261</td>\n",
       "      <td>0.151576</td>\n",
       "    </tr>\n",
       "    <tr>\n",
       "      <th>12</th>\n",
       "      <td>14</td>\n",
       "      <td>0.919097</td>\n",
       "      <td>0.739799</td>\n",
       "      <td>0.179298</td>\n",
       "    </tr>\n",
       "    <tr>\n",
       "      <th>13</th>\n",
       "      <td>15</td>\n",
       "      <td>0.927720</td>\n",
       "      <td>0.742756</td>\n",
       "      <td>0.184964</td>\n",
       "    </tr>\n",
       "    <tr>\n",
       "      <th>14</th>\n",
       "      <td>16</td>\n",
       "      <td>0.935582</td>\n",
       "      <td>0.738616</td>\n",
       "      <td>0.196966</td>\n",
       "    </tr>\n",
       "    <tr>\n",
       "      <th>15</th>\n",
       "      <td>17</td>\n",
       "      <td>0.940908</td>\n",
       "      <td>0.738616</td>\n",
       "      <td>0.202292</td>\n",
       "    </tr>\n",
       "    <tr>\n",
       "      <th>16</th>\n",
       "      <td>18</td>\n",
       "      <td>0.942937</td>\n",
       "      <td>0.736842</td>\n",
       "      <td>0.206095</td>\n",
       "    </tr>\n",
       "    <tr>\n",
       "      <th>17</th>\n",
       "      <td>19</td>\n",
       "      <td>0.945727</td>\n",
       "      <td>0.735659</td>\n",
       "      <td>0.210067</td>\n",
       "    </tr>\n",
       "    <tr>\n",
       "      <th>18</th>\n",
       "      <td>20</td>\n",
       "      <td>0.947502</td>\n",
       "      <td>0.735659</td>\n",
       "      <td>0.211843</td>\n",
       "    </tr>\n",
       "    <tr>\n",
       "      <th>19</th>\n",
       "      <td>21</td>\n",
       "      <td>0.948009</td>\n",
       "      <td>0.735659</td>\n",
       "      <td>0.212350</td>\n",
       "    </tr>\n",
       "    <tr>\n",
       "      <th>20</th>\n",
       "      <td>22</td>\n",
       "      <td>0.948263</td>\n",
       "      <td>0.735068</td>\n",
       "      <td>0.213195</td>\n",
       "    </tr>\n",
       "    <tr>\n",
       "      <th>21</th>\n",
       "      <td>23</td>\n",
       "      <td>0.948009</td>\n",
       "      <td>0.736251</td>\n",
       "      <td>0.211758</td>\n",
       "    </tr>\n",
       "    <tr>\n",
       "      <th>22</th>\n",
       "      <td>24</td>\n",
       "      <td>0.948263</td>\n",
       "      <td>0.733294</td>\n",
       "      <td>0.214969</td>\n",
       "    </tr>\n",
       "  </tbody>\n",
       "</table>\n",
       "</div>"
      ],
      "text/plain": [
       "    max_depth  train_accuracy  validate_accuracy  difference\n",
       "0           2        0.734720           0.734477    0.000243\n",
       "1           3        0.766422           0.770550   -0.004128\n",
       "2           4        0.770226           0.786517   -0.016291\n",
       "3           5        0.771747           0.787108   -0.015361\n",
       "4           6        0.777834           0.788291   -0.010457\n",
       "5           7        0.784682           0.791248   -0.006566\n",
       "6           8        0.794065           0.782969    0.011097\n",
       "7           9        0.808775           0.774690    0.034086\n",
       "8          10        0.834644           0.762862    0.071781\n",
       "9          11        0.855186           0.762862    0.092324\n",
       "10         12        0.875983           0.761679    0.114303\n",
       "11         13        0.900837           0.749261    0.151576\n",
       "12         14        0.919097           0.739799    0.179298\n",
       "13         15        0.927720           0.742756    0.184964\n",
       "14         16        0.935582           0.738616    0.196966\n",
       "15         17        0.940908           0.738616    0.202292\n",
       "16         18        0.942937           0.736842    0.206095\n",
       "17         19        0.945727           0.735659    0.210067\n",
       "18         20        0.947502           0.735659    0.211843\n",
       "19         21        0.948009           0.735659    0.212350\n",
       "20         22        0.948263           0.735068    0.213195\n",
       "21         23        0.948009           0.736251    0.211758\n",
       "22         24        0.948263           0.733294    0.214969"
      ]
     },
     "execution_count": 55,
     "metadata": {},
     "output_type": "execute_result"
    }
   ],
   "source": [
    "# Let's continue getting loopy, so we can compare in-sample to out-of-sample\n",
    "metrics = []\n",
    "\n",
    "for i in range(2, 25):\n",
    "    # Make the model\n",
    "    forest = RandomForestClassifier(max_depth=i, random_state=123)\n",
    "\n",
    "    # Fit the model (on train and only train)\n",
    "    forest = forest.fit(X_train, y_train)\n",
    "\n",
    "    # Use the model\n",
    "    # We'll evaluate the model's performance on train, first\n",
    "    in_sample_accuracy = forest.score(X_train, y_train)\n",
    "    \n",
    "    out_of_sample_accuracy = forest.score(X_val, y_val)\n",
    "\n",
    "    output = {\n",
    "        \"max_depth\": i,\n",
    "        \"train_accuracy\": in_sample_accuracy,\n",
    "        \"validate_accuracy\": out_of_sample_accuracy\n",
    "    }\n",
    "    \n",
    "    metrics.append(output)\n",
    "    \n",
    "df = pd.DataFrame(metrics)\n",
    "df[\"difference\"] = df.train_accuracy - df.validate_accuracy\n",
    "df"
   ]
  },
  {
   "cell_type": "code",
   "execution_count": 56,
   "id": "8e60f8cd-26fb-442d-9781-7dccf761ba48",
   "metadata": {
    "tags": []
   },
   "outputs": [
    {
     "data": {
      "image/png": "[encoded data removed]",
      "text/plain": [
       "<Figure size 1600x900 with 1 Axes>"
      ]
     },
     "metadata": {},
     "output_type": "display_data"
    }
   ],
   "source": [
    "df.set_index('max_depth').plot(figsize = (16,9))\n",
    "plt.ylabel('Accuracy')\n",
    "plt.xticks(np.arange(0,21,1))\n",
    "plt.grid()"
   ]
  },
  {
   "cell_type": "code",
   "execution_count": 57,
   "id": "317484bc-cb1f-404e-a855-88e66af58e7c",
   "metadata": {
    "tags": []
   },
   "outputs": [
    {
     "data": {
      "text/html": [
       "<div>\n",
       "<style scoped>\n",
       "    .dataframe tbody tr th:only-of-type {\n",
       "        vertical-align: middle;\n",
       "    }\n",
       "\n",
       "    .dataframe tbody tr th {\n",
       "        vertical-align: top;\n",
       "    }\n",
       "\n",
       "    .dataframe thead th {\n",
       "        text-align: right;\n",
       "    }\n",
       "</style>\n",
       "<table border=\"1\" class=\"dataframe\">\n",
       "  <thead>\n",
       "    <tr style=\"text-align: right;\">\n",
       "      <th></th>\n",
       "      <th>min_samples_per_leaf</th>\n",
       "      <th>max_depth</th>\n",
       "      <th>train_accuracy</th>\n",
       "      <th>validate_accuracy</th>\n",
       "      <th>difference</th>\n",
       "    </tr>\n",
       "  </thead>\n",
       "  <tbody>\n",
       "    <tr>\n",
       "      <th>0</th>\n",
       "      <td>2</td>\n",
       "      <td>2</td>\n",
       "      <td>0.734720</td>\n",
       "      <td>0.734477</td>\n",
       "      <td>0.000243</td>\n",
       "    </tr>\n",
       "    <tr>\n",
       "      <th>1</th>\n",
       "      <td>3</td>\n",
       "      <td>3</td>\n",
       "      <td>0.766422</td>\n",
       "      <td>0.770550</td>\n",
       "      <td>-0.004128</td>\n",
       "    </tr>\n",
       "    <tr>\n",
       "      <th>2</th>\n",
       "      <td>4</td>\n",
       "      <td>4</td>\n",
       "      <td>0.770226</td>\n",
       "      <td>0.786517</td>\n",
       "      <td>-0.016291</td>\n",
       "    </tr>\n",
       "    <tr>\n",
       "      <th>3</th>\n",
       "      <td>5</td>\n",
       "      <td>5</td>\n",
       "      <td>0.772508</td>\n",
       "      <td>0.787108</td>\n",
       "      <td>-0.014600</td>\n",
       "    </tr>\n",
       "    <tr>\n",
       "      <th>4</th>\n",
       "      <td>6</td>\n",
       "      <td>6</td>\n",
       "      <td>0.776059</td>\n",
       "      <td>0.787108</td>\n",
       "      <td>-0.011049</td>\n",
       "    </tr>\n",
       "    <tr>\n",
       "      <th>5</th>\n",
       "      <td>7</td>\n",
       "      <td>7</td>\n",
       "      <td>0.779863</td>\n",
       "      <td>0.790656</td>\n",
       "      <td>-0.010793</td>\n",
       "    </tr>\n",
       "  </tbody>\n",
       "</table>\n",
       "</div>"
      ],
      "text/plain": [
       "   min_samples_per_leaf  max_depth  train_accuracy  validate_accuracy  \\\n",
       "0                     2          2        0.734720           0.734477   \n",
       "1                     3          3        0.766422           0.770550   \n",
       "2                     4          4        0.770226           0.786517   \n",
       "3                     5          5        0.772508           0.787108   \n",
       "4                     6          6        0.776059           0.787108   \n",
       "5                     7          7        0.779863           0.790656   \n",
       "\n",
       "   difference  \n",
       "0    0.000243  \n",
       "1   -0.004128  \n",
       "2   -0.016291  \n",
       "3   -0.014600  \n",
       "4   -0.011049  \n",
       "5   -0.010793  "
      ]
     },
     "execution_count": 57,
     "metadata": {},
     "output_type": "execute_result"
    }
   ],
   "source": [
    "# Let's continue getting loopy, so we can compare in-sample to out-of-sample\n",
    "metrics = []\n",
    "max_depth = 8\n",
    "\n",
    "for i in range(2, max_depth):\n",
    "    # Make the model\n",
    "    depth = i\n",
    "    n_samples = i\n",
    "    forest = RandomForestClassifier(max_depth=depth, min_samples_leaf=n_samples, random_state=123)\n",
    "\n",
    "    # Fit the model (on train and only train)\n",
    "    forest = forest.fit(X_train, y_train)\n",
    "\n",
    "    # Use the model\n",
    "    # We'll evaluate the model's performance on train, first\n",
    "    in_sample_accuracy = forest.score(X_train, y_train)\n",
    "    \n",
    "    out_of_sample_accuracy = forest.score(X_val, y_val)\n",
    "\n",
    "    output = {\n",
    "        \"min_samples_per_leaf\": n_samples,\n",
    "        \"max_depth\": depth,\n",
    "        \"train_accuracy\": in_sample_accuracy,\n",
    "        \"validate_accuracy\": out_of_sample_accuracy\n",
    "    }\n",
    "    \n",
    "    metrics.append(output)\n",
    "    \n",
    "df = pd.DataFrame(metrics)\n",
    "df[\"difference\"] = df.train_accuracy - df.validate_accuracy\n",
    "df"
   ]
  },
  {
   "cell_type": "code",
   "execution_count": 58,
   "id": "1280af74-4955-456c-98df-e7802afaf7e7",
   "metadata": {
    "tags": []
   },
   "outputs": [
    {
     "data": {
      "image/png": "[encoded data removed]",
      "text/plain": [
       "<Figure size 640x480 with 1 Axes>"
      ]
     },
     "metadata": {},
     "output_type": "display_data"
    }
   ],
   "source": [
    "df[['train_accuracy', 'validate_accuracy','difference']].plot()\n",
    "plt.grid()"
   ]
  },
  {
   "cell_type": "markdown",
   "id": "83d6e0d0-90ea-4aa8-b4a5-923cd49c186c",
   "metadata": {},
   "source": [
    "## Best Random Forest Model"
   ]
  },
  {
   "cell_type": "code",
   "execution_count": 59,
   "id": "86a88706-38dc-4d63-9970-4f9ddb915cda",
   "metadata": {
    "tags": []
   },
   "outputs": [
    {
     "name": "stdout",
     "output_type": "stream",
     "text": [
      "Tree of 4 depth\n"
     ]
    },
    {
     "data": {
      "text/html": [
       "<div>\n",
       "<style scoped>\n",
       "    .dataframe tbody tr th:only-of-type {\n",
       "        vertical-align: middle;\n",
       "    }\n",
       "\n",
       "    .dataframe tbody tr th {\n",
       "        vertical-align: top;\n",
       "    }\n",
       "\n",
       "    .dataframe thead th {\n",
       "        text-align: right;\n",
       "    }\n",
       "</style>\n",
       "<table border=\"1\" class=\"dataframe\">\n",
       "  <thead>\n",
       "    <tr style=\"text-align: right;\">\n",
       "      <th></th>\n",
       "      <th>0</th>\n",
       "      <th>1</th>\n",
       "      <th>accuracy</th>\n",
       "      <th>macro avg</th>\n",
       "      <th>weighted avg</th>\n",
       "    </tr>\n",
       "  </thead>\n",
       "  <tbody>\n",
       "    <tr>\n",
       "      <th>precision</th>\n",
       "      <td>0.819296</td>\n",
       "      <td>0.618922</td>\n",
       "      <td>0.780624</td>\n",
       "      <td>0.719109</td>\n",
       "      <td>0.766141</td>\n",
       "    </tr>\n",
       "    <tr>\n",
       "      <th>recall</th>\n",
       "      <td>0.899896</td>\n",
       "      <td>0.450287</td>\n",
       "      <td>0.780624</td>\n",
       "      <td>0.675092</td>\n",
       "      <td>0.780624</td>\n",
       "    </tr>\n",
       "    <tr>\n",
       "      <th>f1-score</th>\n",
       "      <td>0.857707</td>\n",
       "      <td>0.521306</td>\n",
       "      <td>0.780624</td>\n",
       "      <td>0.689506</td>\n",
       "      <td>0.768466</td>\n",
       "    </tr>\n",
       "    <tr>\n",
       "      <th>support</th>\n",
       "      <td>2897.000000</td>\n",
       "      <td>1046.000000</td>\n",
       "      <td>0.780624</td>\n",
       "      <td>3943.000000</td>\n",
       "      <td>3943.000000</td>\n",
       "    </tr>\n",
       "  </tbody>\n",
       "</table>\n",
       "</div>"
      ],
      "text/plain": [
       "                     0            1  accuracy    macro avg  weighted avg\n",
       "precision     0.819296     0.618922  0.780624     0.719109      0.766141\n",
       "recall        0.899896     0.450287  0.780624     0.675092      0.780624\n",
       "f1-score      0.857707     0.521306  0.780624     0.689506      0.768466\n",
       "support    2897.000000  1046.000000  0.780624  3943.000000   3943.000000"
      ]
     },
     "execution_count": 59,
     "metadata": {},
     "output_type": "execute_result"
    }
   ],
   "source": [
    "#best model with info:\n",
    "# Make the model\n",
    "forest1 = RandomForestClassifier(max_depth=7, min_samples_leaf = 7, random_state=124)\n",
    "\n",
    "# Fit the model (on train and only train)\n",
    "forest1.fit(X_train, y_train)\n",
    "\n",
    "# Use the model\n",
    "# We'll evaluate the model's performance on train, first\n",
    "y_predictions = forest1.predict(X_train)\n",
    "\n",
    "# Produce the classification report on the actual y values and this model's predicted y values\n",
    "report = classification_report(y_train, y_predictions, output_dict=True)\n",
    "print(\"Tree of 4 depth\")\n",
    "pd.DataFrame(report)"
   ]
  },
  {
   "cell_type": "code",
   "execution_count": 60,
   "id": "07bede03-2199-4c17-a8b0-b7da083388b2",
   "metadata": {
    "tags": []
   },
   "outputs": [
    {
     "data": {
      "text/html": [
       "<div>\n",
       "<style scoped>\n",
       "    .dataframe tbody tr th:only-of-type {\n",
       "        vertical-align: middle;\n",
       "    }\n",
       "\n",
       "    .dataframe tbody tr th {\n",
       "        vertical-align: top;\n",
       "    }\n",
       "\n",
       "    .dataframe thead th {\n",
       "        text-align: right;\n",
       "    }\n",
       "</style>\n",
       "<table border=\"1\" class=\"dataframe\">\n",
       "  <thead>\n",
       "    <tr style=\"text-align: right;\">\n",
       "      <th></th>\n",
       "      <th>0</th>\n",
       "      <th>1</th>\n",
       "    </tr>\n",
       "  </thead>\n",
       "  <tbody>\n",
       "    <tr>\n",
       "      <th>0</th>\n",
       "      <td>2607</td>\n",
       "      <td>575</td>\n",
       "    </tr>\n",
       "    <tr>\n",
       "      <th>1</th>\n",
       "      <td>290</td>\n",
       "      <td>471</td>\n",
       "    </tr>\n",
       "  </tbody>\n",
       "</table>\n",
       "</div>"
      ],
      "text/plain": [
       "      0    1\n",
       "0  2607  575\n",
       "1   290  471"
      ]
     },
     "execution_count": 60,
     "metadata": {},
     "output_type": "execute_result"
    }
   ],
   "source": [
    "# sklearn confusion matrix\n",
    "pd.DataFrame(confusion_matrix(y_predictions, y_train))"
   ]
  },
  {
   "cell_type": "code",
   "execution_count": 61,
   "id": "85691e00-8b16-49a5-9171-e61fecb85e9a",
   "metadata": {
    "tags": []
   },
   "outputs": [
    {
     "data": {
      "image/png": "[encoded data removed]",
      "text/plain": [
       "<Figure size 640x480 with 2 Axes>"
      ]
     },
     "metadata": {},
     "output_type": "display_data"
    }
   ],
   "source": [
    "ConfusionMatrixDisplay.from_estimator(forest1, X_train, y_train);"
   ]
  },
  {
   "cell_type": "code",
   "execution_count": 62,
   "id": "5292f5cb-2431-4367-a4a7-d8733b777a83",
   "metadata": {
    "tags": []
   },
   "outputs": [
    {
     "data": {
      "text/plain": [
       "(471, 2607, 290, 575)"
      ]
     },
     "execution_count": 62,
     "metadata": {},
     "output_type": "execute_result"
    }
   ],
   "source": [
    "TN, FP, FN, TP = confusion_matrix(y_train,y_predictions).ravel()\n",
    "ALL = TP + TN + FP + FN\n",
    "\n",
    "TP, TN, FP, FN"
   ]
  },
  {
   "cell_type": "code",
   "execution_count": 63,
   "id": "d6326788-f726-4959-a773-a2648255c2f3",
   "metadata": {
    "tags": []
   },
   "outputs": [
    {
     "name": "stdout",
     "output_type": "stream",
     "text": [
      "Accuracy: 0.7806238904387522\n",
      "True Positive Rate: 0.4502868068833652\n",
      "False Positive Rate: 0.10010355540214015\n",
      "True Negative Rate: 0.8998964445978599\n",
      "False Negative Rate: 0.5497131931166348\n",
      "Precision: 0.6189224704336399\n",
      "Recall: 0.4502868068833652\n",
      "F1 Score: 0.5213060320973989\n",
      "Support (0): 1046\n",
      "Support (1): 2897\n"
     ]
    }
   ],
   "source": [
    "accuracy = (TP + TN)/ALL\n",
    "print(f\"Accuracy: {accuracy}\")\n",
    "\n",
    "true_positive_rate = TP/(TP+FN)\n",
    "print(f\"True Positive Rate: {true_positive_rate}\")\n",
    "\n",
    "false_positive_rate = FP/(FP+TN)\n",
    "print(f\"False Positive Rate: {false_positive_rate}\")\n",
    "\n",
    "true_negative_rate = TN/(TN+FP)\n",
    "print(f\"True Negative Rate: {true_negative_rate}\")\n",
    "\n",
    "false_negative_rate = FN/(FN+TP)\n",
    "print(f\"False Negative Rate: {false_negative_rate}\")\n",
    "\n",
    "precision = TP/(TP+FP)\n",
    "print(f\"Precision: {precision}\")\n",
    "\n",
    "recall = TP/(TP+FN)\n",
    "print(f\"Recall: {recall}\")\n",
    "\n",
    "f1_score = 2*(precision*recall)/(precision+recall)\n",
    "print(f\"F1 Score: {f1_score}\")\n",
    "\n",
    "support_pos = TP + FN\n",
    "print(f\"Support (0): {support_pos}\")\n",
    "\n",
    "support_neg = FP + TN\n",
    "print(f\"Support (1): {support_neg}\")"
   ]
  },
  {
   "cell_type": "markdown",
   "id": "4697a8c7-7a72-4ed4-8d2d-57901980b6c4",
   "metadata": {},
   "source": [
    "# Logistic Regression:"
   ]
  },
  {
   "cell_type": "code",
   "execution_count": 64,
   "id": "d7f5d462-793b-469d-ab1f-225a136d350a",
   "metadata": {
    "tags": []
   },
   "outputs": [
    {
     "data": {
      "text/plain": [
       "0.7347197565305605"
      ]
     },
     "execution_count": 64,
     "metadata": {},
     "output_type": "execute_result"
    }
   ],
   "source": [
    "baseline_accuracy"
   ]
  },
  {
   "cell_type": "code",
   "execution_count": 65,
   "id": "c6939638-1470-4b92-bc00-4e5b9596806d",
   "metadata": {
    "tags": []
   },
   "outputs": [],
   "source": [
    "metrics = []\n",
    "\n",
    "for c in np.arange(0.0001,0.1, 0.001):\n",
    "     # base line\n",
    "    baseline_accuracy = (train.did_churn == 0).mean()\n",
    "    \n",
    "    # create ramdom tree object\n",
    "    logReg = LogisticRegression(C=c, random_state=123, max_iter= 1000)\n",
    "    \n",
    "    # fit the model\n",
    "    randFor = logReg.fit(X_train, y_train)\n",
    "    \n",
    "    # get accuracy scores\n",
    "    train_score = randFor.score(X_train, y_train)\n",
    "    validate_score = randFor.score(X_val, y_val)\n",
    "    \n",
    "    # create a dictionary of scores\n",
    "    output = {\n",
    "        \"C\": c,\n",
    "        \"train_score\": train_score,\n",
    "         \"validate_score\": validate_score,\n",
    "        \"difference\": train_score - validate_score,\n",
    "        \"train_baseline_diff\": baseline_accuracy - train_score,\n",
    "        \"validate_baseline_diff\": baseline_accuracy - validate_score,\n",
    "        \"baseline_accuracy\": baseline_accuracy\n",
    "    }\n",
    "    \n",
    "    metrics.append(output)"
   ]
  },
  {
   "cell_type": "code",
   "execution_count": 66,
   "id": "6d0ceffb-d72c-4fc7-a48d-a6e7f264ec62",
   "metadata": {
    "tags": []
   },
   "outputs": [
    {
     "data": {
      "text/html": [
       "<div>\n",
       "<style scoped>\n",
       "    .dataframe tbody tr th:only-of-type {\n",
       "        vertical-align: middle;\n",
       "    }\n",
       "\n",
       "    .dataframe tbody tr th {\n",
       "        vertical-align: top;\n",
       "    }\n",
       "\n",
       "    .dataframe thead th {\n",
       "        text-align: right;\n",
       "    }\n",
       "</style>\n",
       "<table border=\"1\" class=\"dataframe\">\n",
       "  <thead>\n",
       "    <tr style=\"text-align: right;\">\n",
       "      <th></th>\n",
       "      <th>C</th>\n",
       "      <th>train_score</th>\n",
       "      <th>validate_score</th>\n",
       "      <th>difference</th>\n",
       "      <th>train_baseline_diff</th>\n",
       "      <th>validate_baseline_diff</th>\n",
       "      <th>baseline_accuracy</th>\n",
       "    </tr>\n",
       "  </thead>\n",
       "  <tbody>\n",
       "    <tr>\n",
       "      <th>0</th>\n",
       "      <td>0.0001</td>\n",
       "      <td>0.734720</td>\n",
       "      <td>0.734477</td>\n",
       "      <td>0.000243</td>\n",
       "      <td>0.000000</td>\n",
       "      <td>0.000243</td>\n",
       "      <td>0.73472</td>\n",
       "    </tr>\n",
       "    <tr>\n",
       "      <th>1</th>\n",
       "      <td>0.0011</td>\n",
       "      <td>0.734720</td>\n",
       "      <td>0.734477</td>\n",
       "      <td>0.000243</td>\n",
       "      <td>0.000000</td>\n",
       "      <td>0.000243</td>\n",
       "      <td>0.73472</td>\n",
       "    </tr>\n",
       "    <tr>\n",
       "      <th>2</th>\n",
       "      <td>0.0021</td>\n",
       "      <td>0.734720</td>\n",
       "      <td>0.734477</td>\n",
       "      <td>0.000243</td>\n",
       "      <td>0.000000</td>\n",
       "      <td>0.000243</td>\n",
       "      <td>0.73472</td>\n",
       "    </tr>\n",
       "    <tr>\n",
       "      <th>3</th>\n",
       "      <td>0.0031</td>\n",
       "      <td>0.734466</td>\n",
       "      <td>0.735068</td>\n",
       "      <td>-0.000602</td>\n",
       "      <td>0.000254</td>\n",
       "      <td>-0.000348</td>\n",
       "      <td>0.73472</td>\n",
       "    </tr>\n",
       "    <tr>\n",
       "      <th>4</th>\n",
       "      <td>0.0041</td>\n",
       "      <td>0.733705</td>\n",
       "      <td>0.735068</td>\n",
       "      <td>-0.001363</td>\n",
       "      <td>0.001014</td>\n",
       "      <td>-0.000348</td>\n",
       "      <td>0.73472</td>\n",
       "    </tr>\n",
       "    <tr>\n",
       "      <th>...</th>\n",
       "      <td>...</td>\n",
       "      <td>...</td>\n",
       "      <td>...</td>\n",
       "      <td>...</td>\n",
       "      <td>...</td>\n",
       "      <td>...</td>\n",
       "      <td>...</td>\n",
       "    </tr>\n",
       "    <tr>\n",
       "      <th>95</th>\n",
       "      <td>0.0951</td>\n",
       "      <td>0.771494</td>\n",
       "      <td>0.786517</td>\n",
       "      <td>-0.015023</td>\n",
       "      <td>-0.036774</td>\n",
       "      <td>-0.051797</td>\n",
       "      <td>0.73472</td>\n",
       "    </tr>\n",
       "    <tr>\n",
       "      <th>96</th>\n",
       "      <td>0.0961</td>\n",
       "      <td>0.771494</td>\n",
       "      <td>0.786517</td>\n",
       "      <td>-0.015023</td>\n",
       "      <td>-0.036774</td>\n",
       "      <td>-0.051797</td>\n",
       "      <td>0.73472</td>\n",
       "    </tr>\n",
       "    <tr>\n",
       "      <th>97</th>\n",
       "      <td>0.0971</td>\n",
       "      <td>0.771494</td>\n",
       "      <td>0.786517</td>\n",
       "      <td>-0.015023</td>\n",
       "      <td>-0.036774</td>\n",
       "      <td>-0.051797</td>\n",
       "      <td>0.73472</td>\n",
       "    </tr>\n",
       "    <tr>\n",
       "      <th>98</th>\n",
       "      <td>0.0981</td>\n",
       "      <td>0.771494</td>\n",
       "      <td>0.786517</td>\n",
       "      <td>-0.015023</td>\n",
       "      <td>-0.036774</td>\n",
       "      <td>-0.051797</td>\n",
       "      <td>0.73472</td>\n",
       "    </tr>\n",
       "    <tr>\n",
       "      <th>99</th>\n",
       "      <td>0.0991</td>\n",
       "      <td>0.771494</td>\n",
       "      <td>0.786517</td>\n",
       "      <td>-0.015023</td>\n",
       "      <td>-0.036774</td>\n",
       "      <td>-0.051797</td>\n",
       "      <td>0.73472</td>\n",
       "    </tr>\n",
       "  </tbody>\n",
       "</table>\n",
       "<p>100 rows × 7 columns</p>\n",
       "</div>"
      ],
      "text/plain": [
       "         C  train_score  validate_score  difference  train_baseline_diff  \\\n",
       "0   0.0001     0.734720        0.734477    0.000243             0.000000   \n",
       "1   0.0011     0.734720        0.734477    0.000243             0.000000   \n",
       "2   0.0021     0.734720        0.734477    0.000243             0.000000   \n",
       "3   0.0031     0.734466        0.735068   -0.000602             0.000254   \n",
       "4   0.0041     0.733705        0.735068   -0.001363             0.001014   \n",
       "..     ...          ...             ...         ...                  ...   \n",
       "95  0.0951     0.771494        0.786517   -0.015023            -0.036774   \n",
       "96  0.0961     0.771494        0.786517   -0.015023            -0.036774   \n",
       "97  0.0971     0.771494        0.786517   -0.015023            -0.036774   \n",
       "98  0.0981     0.771494        0.786517   -0.015023            -0.036774   \n",
       "99  0.0991     0.771494        0.786517   -0.015023            -0.036774   \n",
       "\n",
       "    validate_baseline_diff  baseline_accuracy  \n",
       "0                 0.000243            0.73472  \n",
       "1                 0.000243            0.73472  \n",
       "2                 0.000243            0.73472  \n",
       "3                -0.000348            0.73472  \n",
       "4                -0.000348            0.73472  \n",
       "..                     ...                ...  \n",
       "95               -0.051797            0.73472  \n",
       "96               -0.051797            0.73472  \n",
       "97               -0.051797            0.73472  \n",
       "98               -0.051797            0.73472  \n",
       "99               -0.051797            0.73472  \n",
       "\n",
       "[100 rows x 7 columns]"
      ]
     },
     "execution_count": 66,
     "metadata": {},
     "output_type": "execute_result"
    }
   ],
   "source": [
    "# get the result as a dataframe\n",
    "model_df = pd.DataFrame(metrics)\n",
    "model_df"
   ]
  },
  {
   "cell_type": "code",
   "execution_count": 67,
   "id": "60e8007e-0633-431d-a83c-1dc46d4df62a",
   "metadata": {
    "tags": []
   },
   "outputs": [
    {
     "data": {
      "image/png": "[encoded data removed]",
      "text/plain": [
       "<Figure size 640x480 with 1 Axes>"
      ]
     },
     "metadata": {},
     "output_type": "display_data"
    }
   ],
   "source": [
    "model_df[model_df.columns[:-4]].set_index(\"C\").plot()\n",
    "plt.ylabel('accuracy')\n",
    "plt.xlabel('C')\n",
    "plt.title(\"Train vs Validate Accuracy Scores\")\n",
    "plt.grid()\n",
    "plt.show()"
   ]
  },
  {
   "cell_type": "code",
   "execution_count": 68,
   "id": "88a1da2b-fe79-4866-b360-9a5c0bc1c46e",
   "metadata": {
    "tags": []
   },
   "outputs": [
    {
     "data": {
      "text/html": [
       "<div>\n",
       "<style scoped>\n",
       "    .dataframe tbody tr th:only-of-type {\n",
       "        vertical-align: middle;\n",
       "    }\n",
       "\n",
       "    .dataframe tbody tr th {\n",
       "        vertical-align: top;\n",
       "    }\n",
       "\n",
       "    .dataframe thead th {\n",
       "        text-align: right;\n",
       "    }\n",
       "</style>\n",
       "<table border=\"1\" class=\"dataframe\">\n",
       "  <thead>\n",
       "    <tr style=\"text-align: right;\">\n",
       "      <th></th>\n",
       "      <th>C</th>\n",
       "      <th>train_score</th>\n",
       "      <th>validate_score</th>\n",
       "      <th>difference</th>\n",
       "      <th>train_baseline_diff</th>\n",
       "      <th>validate_baseline_diff</th>\n",
       "      <th>baseline_accuracy</th>\n",
       "    </tr>\n",
       "  </thead>\n",
       "  <tbody>\n",
       "    <tr>\n",
       "      <th>54</th>\n",
       "      <td>0.0541</td>\n",
       "      <td>0.769972</td>\n",
       "      <td>0.786517</td>\n",
       "      <td>-0.016545</td>\n",
       "      <td>-0.035252</td>\n",
       "      <td>-0.051797</td>\n",
       "      <td>0.73472</td>\n",
       "    </tr>\n",
       "  </tbody>\n",
       "</table>\n",
       "</div>"
      ],
      "text/plain": [
       "         C  train_score  validate_score  difference  train_baseline_diff  \\\n",
       "54  0.0541     0.769972        0.786517   -0.016545            -0.035252   \n",
       "\n",
       "    validate_baseline_diff  baseline_accuracy  \n",
       "54               -0.051797            0.73472  "
      ]
     },
     "execution_count": 68,
     "metadata": {},
     "output_type": "execute_result"
    }
   ],
   "source": [
    "# find the model with smallest ifference between the train and validate\n",
    "high_models = model_df[(model_df.C > 0.045) & (model_df.C < 0.055)]\n",
    "\n",
    "high_models[high_models.difference == high_models.difference.min()]"
   ]
  },
  {
   "cell_type": "markdown",
   "id": "68a63418-d4c7-4b23-9a27-284d868bc33a",
   "metadata": {},
   "source": [
    "### Best Model:"
   ]
  },
  {
   "cell_type": "code",
   "execution_count": 69,
   "id": "7d34d000-4604-46be-9f70-27071871b5ff",
   "metadata": {
    "tags": []
   },
   "outputs": [],
   "source": [
    "logit = LogisticRegression(C = 0.0541, random_state=123)"
   ]
  },
  {
   "cell_type": "code",
   "execution_count": 70,
   "id": "13e3365d-2bfe-488d-899f-0fd39e5df00c",
   "metadata": {
    "tags": []
   },
   "outputs": [
    {
     "data": {
      "text/html": [
       "<style>#sk-container-id-1 {color: black;}#sk-container-id-1 pre{padding: 0;}#sk-container-id-1 div.sk-toggleable {background-color: white;}#sk-container-id-1 label.sk-toggleable__label {cursor: pointer;display: block;width: 100%;margin-bottom: 0;padding: 0.3em;box-sizing: border-box;text-align: center;}#sk-container-id-1 label.sk-toggleable__label-arrow:before {content: \"▸\";float: left;margin-right: 0.25em;color: #696969;}#sk-container-id-1 label.sk-toggleable__label-arrow:hover:before {color: black;}#sk-container-id-1 div.sk-estimator:hover label.sk-toggleable__label-arrow:before {color: black;}#sk-container-id-1 div.sk-toggleable__content {max-height: 0;max-width: 0;overflow: hidden;text-align: left;background-color: #f0f8ff;}#sk-container-id-1 div.sk-toggleable__content pre {margin: 0.2em;color: black;border-radius: 0.25em;background-color: #f0f8ff;}#sk-container-id-1 input.sk-toggleable__control:checked~div.sk-toggleable__content {max-height: 200px;max-width: 100%;overflow: auto;}#sk-container-id-1 input.sk-toggleable__control:checked~label.sk-toggleable__label-arrow:before {content: \"▾\";}#sk-container-id-1 div.sk-estimator input.sk-toggleable__control:checked~label.sk-toggleable__label {background-color: #d4ebff;}#sk-container-id-1 div.sk-label input.sk-toggleable__control:checked~label.sk-toggleable__label {background-color: #d4ebff;}#sk-container-id-1 input.sk-hidden--visually {border: 0;clip: rect(1px 1px 1px 1px);clip: rect(1px, 1px, 1px, 1px);height: 1px;margin: -1px;overflow: hidden;padding: 0;position: absolute;width: 1px;}#sk-container-id-1 div.sk-estimator {font-family: monospace;background-color: #f0f8ff;border: 1px dotted black;border-radius: 0.25em;box-sizing: border-box;margin-bottom: 0.5em;}#sk-container-id-1 div.sk-estimator:hover {background-color: #d4ebff;}#sk-container-id-1 div.sk-parallel-item::after {content: \"\";width: 100%;border-bottom: 1px solid gray;flex-grow: 1;}#sk-container-id-1 div.sk-label:hover label.sk-toggleable__label {background-color: #d4ebff;}#sk-container-id-1 div.sk-serial::before {content: \"\";position: absolute;border-left: 1px solid gray;box-sizing: border-box;top: 0;bottom: 0;left: 50%;z-index: 0;}#sk-container-id-1 div.sk-serial {display: flex;flex-direction: column;align-items: center;background-color: white;padding-right: 0.2em;padding-left: 0.2em;position: relative;}#sk-container-id-1 div.sk-item {position: relative;z-index: 1;}#sk-container-id-1 div.sk-parallel {display: flex;align-items: stretch;justify-content: center;background-color: white;position: relative;}#sk-container-id-1 div.sk-item::before, #sk-container-id-1 div.sk-parallel-item::before {content: \"\";position: absolute;border-left: 1px solid gray;box-sizing: border-box;top: 0;bottom: 0;left: 50%;z-index: -1;}#sk-container-id-1 div.sk-parallel-item {display: flex;flex-direction: column;z-index: 1;position: relative;background-color: white;}#sk-container-id-1 div.sk-parallel-item:first-child::after {align-self: flex-end;width: 50%;}#sk-container-id-1 div.sk-parallel-item:last-child::after {align-self: flex-start;width: 50%;}#sk-container-id-1 div.sk-parallel-item:only-child::after {width: 0;}#sk-container-id-1 div.sk-dashed-wrapped {border: 1px dashed gray;margin: 0 0.4em 0.5em 0.4em;box-sizing: border-box;padding-bottom: 0.4em;background-color: white;}#sk-container-id-1 div.sk-label label {font-family: monospace;font-weight: bold;display: inline-block;line-height: 1.2em;}#sk-container-id-1 div.sk-label-container {text-align: center;}#sk-container-id-1 div.sk-container {/* jupyter's `normalize.less` sets `[hidden] { display: none; }` but bootstrap.min.css set `[hidden] { display: none !important; }` so we also need the `!important` here to be able to override the default hidden behavior on the sphinx rendered scikit-learn.org. See: https://github.com/scikit-learn/scikit-learn/issues/21755 */display: inline-block !important;position: relative;}#sk-container-id-1 div.sk-text-repr-fallback {display: none;}</style><div id=\"sk-container-id-1\" class=\"sk-top-container\"><div class=\"sk-text-repr-fallback\"><pre>LogisticRegression(C=0.0541, random_state=123)</pre><b>In a Jupyter environment, please rerun this cell to show the HTML representation or trust the notebook. <br />On GitHub, the HTML representation is unable to render, please try loading this page with nbviewer.org.</b></div><div class=\"sk-container\" hidden><div class=\"sk-item\"><div class=\"sk-estimator sk-toggleable\"><input class=\"sk-toggleable__control sk-hidden--visually\" id=\"sk-estimator-id-1\" type=\"checkbox\" checked><label for=\"sk-estimator-id-1\" class=\"sk-toggleable__label sk-toggleable__label-arrow\">LogisticRegression</label><div class=\"sk-toggleable__content\"><pre>LogisticRegression(C=0.0541, random_state=123)</pre></div></div></div></div></div>"
      ],
      "text/plain": [
       "LogisticRegression(C=0.0541, random_state=123)"
      ]
     },
     "execution_count": 70,
     "metadata": {},
     "output_type": "execute_result"
    }
   ],
   "source": [
    "logit.fit(X_train, y_train)"
   ]
  },
  {
   "cell_type": "code",
   "execution_count": 71,
   "id": "224bd332-409a-4888-bb42-38c15443ba72",
   "metadata": {
    "tags": []
   },
   "outputs": [],
   "source": [
    "y_pred = logit.predict(X_train)"
   ]
  },
  {
   "cell_type": "code",
   "execution_count": 72,
   "id": "85ef9828-1c7c-45bf-8341-2692d4999a7e",
   "metadata": {
    "tags": []
   },
   "outputs": [
    {
     "data": {
      "text/plain": [
       "0.7699721024600558"
      ]
     },
     "execution_count": 72,
     "metadata": {},
     "output_type": "execute_result"
    }
   ],
   "source": [
    "logit.score(X_train, y_train)"
   ]
  },
  {
   "cell_type": "code",
   "execution_count": 73,
   "id": "a9ed0885-6bbe-4cd2-8dd3-d3a951f6e58f",
   "metadata": {
    "tags": []
   },
   "outputs": [
    {
     "name": "stdout",
     "output_type": "stream",
     "text": [
      "              precision    recall  f1-score   support\n",
      "\n",
      "           0       0.81      0.89      0.85      2897\n",
      "           1       0.59      0.43      0.50      1046\n",
      "\n",
      "    accuracy                           0.77      3943\n",
      "   macro avg       0.70      0.66      0.67      3943\n",
      "weighted avg       0.75      0.77      0.76      3943\n",
      "\n"
     ]
    }
   ],
   "source": [
    "print(classification_report(y_train, y_pred))"
   ]
  },
  {
   "cell_type": "code",
   "execution_count": 74,
   "id": "96476ac6-80fd-4421-8961-ecb4bdb24932",
   "metadata": {
    "tags": []
   },
   "outputs": [],
   "source": [
    "y_val_pred = logit.predict(X_val)"
   ]
  },
  {
   "cell_type": "code",
   "execution_count": 75,
   "id": "727f6441-bac4-44d3-9c10-d96a23518698",
   "metadata": {
    "tags": []
   },
   "outputs": [
    {
     "name": "stdout",
     "output_type": "stream",
     "text": [
      "              precision    recall  f1-score   support\n",
      "\n",
      "           0       0.81      0.92      0.86      1242\n",
      "           1       0.65      0.42      0.51       449\n",
      "\n",
      "    accuracy                           0.79      1691\n",
      "   macro avg       0.73      0.67      0.69      1691\n",
      "weighted avg       0.77      0.79      0.77      1691\n",
      "\n"
     ]
    }
   ],
   "source": [
    "print(classification_report(y_val,y_val_pred))"
   ]
  },
  {
   "cell_type": "code",
   "execution_count": 76,
   "id": "7cda2fba-16fb-4871-9f79-2a3001caccac",
   "metadata": {
    "tags": []
   },
   "outputs": [
    {
     "data": {
      "image/png": "[encoded data removed]",
      "text/plain": [
       "<Figure size 640x480 with 2 Axes>"
      ]
     },
     "metadata": {},
     "output_type": "display_data"
    }
   ],
   "source": [
    "ConfusionMatrixDisplay.from_estimator(logit, X_train, y_train);"
   ]
  },
  {
   "cell_type": "code",
   "execution_count": 77,
   "id": "28458ef2-af9c-4588-b96d-5a09c8457ce6",
   "metadata": {
    "tags": []
   },
   "outputs": [
    {
     "data": {
      "text/plain": [
       "(446, 2590, 307, 600)"
      ]
     },
     "execution_count": 77,
     "metadata": {},
     "output_type": "execute_result"
    }
   ],
   "source": [
    "TN, FP, FN, TP = confusion_matrix(y_train,y_pred).ravel()\n",
    "ALL = TP + TN + FP + FN\n",
    "\n",
    "TP, TN, FP, FN"
   ]
  },
  {
   "cell_type": "code",
   "execution_count": 78,
   "id": "0f0ef250-c978-45bf-946b-2cd67564cb45",
   "metadata": {
    "tags": []
   },
   "outputs": [
    {
     "name": "stdout",
     "output_type": "stream",
     "text": [
      "Accuracy: 0.7699721024600558\n",
      "True Positive Rate: 0.42638623326959846\n",
      "False Positive Rate: 0.10597169485674836\n",
      "True Negative Rate: 0.8940283051432516\n",
      "False Negative Rate: 0.5736137667304015\n",
      "Precision: 0.5922974767596282\n",
      "Recall: 0.42638623326959846\n",
      "F1 Score: 0.49583101723179535\n",
      "Support (0): 1046\n",
      "Support (1): 2897\n"
     ]
    }
   ],
   "source": [
    "accuracy = (TP + TN)/ALL\n",
    "print(f\"Accuracy: {accuracy}\")\n",
    "\n",
    "true_positive_rate = TP/(TP+FN)\n",
    "print(f\"True Positive Rate: {true_positive_rate}\")\n",
    "\n",
    "false_positive_rate = FP/(FP+TN)\n",
    "print(f\"False Positive Rate: {false_positive_rate}\")\n",
    "\n",
    "true_negative_rate = TN/(TN+FP)\n",
    "print(f\"True Negative Rate: {true_negative_rate}\")\n",
    "\n",
    "false_negative_rate = FN/(FN+TP)\n",
    "print(f\"False Negative Rate: {false_negative_rate}\")\n",
    "\n",
    "precision = TP/(TP+FP)\n",
    "print(f\"Precision: {precision}\")\n",
    "\n",
    "recall = TP/(TP+FN)\n",
    "print(f\"Recall: {recall}\")\n",
    "\n",
    "f1_score = 2*(precision*recall)/(precision+recall)\n",
    "print(f\"F1 Score: {f1_score}\")\n",
    "\n",
    "support_pos = TP + FN\n",
    "print(f\"Support (0): {support_pos}\")\n",
    "\n",
    "support_neg = FP + TN\n",
    "print(f\"Support (1): {support_neg}\")"
   ]
  },
  {
   "cell_type": "markdown",
   "id": "1a8b484a-128c-4cf2-9a9c-196e9722a22c",
   "metadata": {},
   "source": [
    "# KNN"
   ]
  },
  {
   "cell_type": "code",
   "execution_count": 79,
   "id": "69a08923-3de8-4939-bceb-547816183c52",
   "metadata": {
    "tags": []
   },
   "outputs": [
    {
     "data": {
      "text/plain": [
       "0.7347197565305605"
      ]
     },
     "execution_count": 79,
     "metadata": {},
     "output_type": "execute_result"
    }
   ],
   "source": [
    "baseline_accuracy"
   ]
  },
  {
   "cell_type": "code",
   "execution_count": 80,
   "id": "2895de88-fc72-4d40-a66b-528b81ed4d29",
   "metadata": {
    "tags": []
   },
   "outputs": [
    {
     "name": "stdout",
     "output_type": "stream",
     "text": [
      "X_train type: <class 'pandas.core.frame.DataFrame'>\n",
      "X_train shape: (3943, 9)\n",
      "y_train type: <class 'pandas.core.series.Series'>\n",
      "y_train shape: (3943,)\n"
     ]
    }
   ],
   "source": [
    "print(\"X_train type:\", type(X_train))\n",
    "print(\"X_train shape:\", X_train.shape)\n",
    "print(\"y_train type:\", type(y_train))\n",
    "print(\"y_train shape:\", y_train.shape)"
   ]
  },
  {
   "cell_type": "code",
   "execution_count": 81,
   "id": "03dc77b5-ad47-40ab-aa22-e123dd2b73fe",
   "metadata": {
    "tags": []
   },
   "outputs": [],
   "source": [
    "# Convert Pandas DataFrames to NumPy arrays\n",
    "X_train = X_train\n",
    "y_train = y_train\n",
    "\n",
    "X_val = X_val\n",
    "y_val = y_val\n",
    "\n",
    "X_test = X_test\n",
    "y_test = y_test\n",
    "\n",
    "# Make the KNN classifier\n",
    "knn = KNeighborsClassifier()\n",
    "\n",
    "# Fit the KNN classifier\n",
    "knn.fit(X_train, y_train)\n",
    "\n",
    "# Use the trained classifier\n",
    "y_train_pred = knn.predict(X_train)\n"
   ]
  },
  {
   "cell_type": "code",
   "execution_count": 82,
   "id": "4c867bba-1956-4339-b39f-9839381dcd4e",
   "metadata": {
    "tags": []
   },
   "outputs": [
    {
     "data": {
      "text/plain": [
       "0.8161298503677403"
      ]
     },
     "execution_count": 82,
     "metadata": {},
     "output_type": "execute_result"
    }
   ],
   "source": [
    "#get the accuracy score of train set\n",
    "train_score = knn.score(X_train, y_train)\n",
    "train_score"
   ]
  },
  {
   "cell_type": "code",
   "execution_count": 83,
   "id": "f42b0ba5-e8ca-47b6-9231-67c87f3c2cf4",
   "metadata": {
    "tags": []
   },
   "outputs": [
    {
     "data": {
      "text/html": [
       "<div>\n",
       "<style scoped>\n",
       "    .dataframe tbody tr th:only-of-type {\n",
       "        vertical-align: middle;\n",
       "    }\n",
       "\n",
       "    .dataframe tbody tr th {\n",
       "        vertical-align: top;\n",
       "    }\n",
       "\n",
       "    .dataframe thead th {\n",
       "        text-align: right;\n",
       "    }\n",
       "</style>\n",
       "<table border=\"1\" class=\"dataframe\">\n",
       "  <thead>\n",
       "    <tr style=\"text-align: right;\">\n",
       "      <th></th>\n",
       "      <th>Pred 0</th>\n",
       "      <th>Pred 1</th>\n",
       "    </tr>\n",
       "  </thead>\n",
       "  <tbody>\n",
       "    <tr>\n",
       "      <th>Actual 0</th>\n",
       "      <td>2619</td>\n",
       "      <td>278</td>\n",
       "    </tr>\n",
       "    <tr>\n",
       "      <th>Actual 1</th>\n",
       "      <td>447</td>\n",
       "      <td>599</td>\n",
       "    </tr>\n",
       "  </tbody>\n",
       "</table>\n",
       "</div>"
      ],
      "text/plain": [
       "          Pred 0  Pred 1\n",
       "Actual 0    2619     278\n",
       "Actual 1     447     599"
      ]
     },
     "execution_count": 83,
     "metadata": {},
     "output_type": "execute_result"
    }
   ],
   "source": [
    "#confusion matrix\n",
    "cm = confusion_matrix(y_train, y_train_pred)\n",
    "pd.DataFrame(cm, index=['Actual 0', 'Actual 1'], \n",
    "             columns=['Pred 0', 'Pred 1'])"
   ]
  },
  {
   "cell_type": "code",
   "execution_count": 84,
   "id": "a64095ea-b412-4f86-b555-feaa672ac1f5",
   "metadata": {
    "tags": []
   },
   "outputs": [
    {
     "name": "stdout",
     "output_type": "stream",
     "text": [
      "              precision    recall  f1-score   support\n",
      "\n",
      "           0       0.85      0.90      0.88      2897\n",
      "           1       0.68      0.57      0.62      1046\n",
      "\n",
      "    accuracy                           0.82      3943\n",
      "   macro avg       0.77      0.74      0.75      3943\n",
      "weighted avg       0.81      0.82      0.81      3943\n",
      "\n"
     ]
    }
   ],
   "source": [
    "#classification report\n",
    "print(classification_report(y_train, y_train_pred))"
   ]
  },
  {
   "cell_type": "code",
   "execution_count": 85,
   "id": "5945152e-8241-4cef-bd34-a4595d4bc1ca",
   "metadata": {
    "tags": []
   },
   "outputs": [
    {
     "data": {
      "text/html": [
       "<div>\n",
       "<style scoped>\n",
       "    .dataframe tbody tr th:only-of-type {\n",
       "        vertical-align: middle;\n",
       "    }\n",
       "\n",
       "    .dataframe tbody tr th {\n",
       "        vertical-align: top;\n",
       "    }\n",
       "\n",
       "    .dataframe thead th {\n",
       "        text-align: right;\n",
       "    }\n",
       "</style>\n",
       "<table border=\"1\" class=\"dataframe\">\n",
       "  <thead>\n",
       "    <tr style=\"text-align: right;\">\n",
       "      <th></th>\n",
       "      <th>precision</th>\n",
       "      <th>recall</th>\n",
       "      <th>f1-score</th>\n",
       "      <th>support</th>\n",
       "    </tr>\n",
       "  </thead>\n",
       "  <tbody>\n",
       "    <tr>\n",
       "      <th>0</th>\n",
       "      <td>0.854207</td>\n",
       "      <td>0.904039</td>\n",
       "      <td>0.878417</td>\n",
       "      <td>2897.00000</td>\n",
       "    </tr>\n",
       "    <tr>\n",
       "      <th>1</th>\n",
       "      <td>0.683010</td>\n",
       "      <td>0.572658</td>\n",
       "      <td>0.622985</td>\n",
       "      <td>1046.00000</td>\n",
       "    </tr>\n",
       "    <tr>\n",
       "      <th>accuracy</th>\n",
       "      <td>0.816130</td>\n",
       "      <td>0.816130</td>\n",
       "      <td>0.816130</td>\n",
       "      <td>0.81613</td>\n",
       "    </tr>\n",
       "    <tr>\n",
       "      <th>macro avg</th>\n",
       "      <td>0.768609</td>\n",
       "      <td>0.738348</td>\n",
       "      <td>0.750701</td>\n",
       "      <td>3943.00000</td>\n",
       "    </tr>\n",
       "    <tr>\n",
       "      <th>weighted avg</th>\n",
       "      <td>0.808792</td>\n",
       "      <td>0.816130</td>\n",
       "      <td>0.810656</td>\n",
       "      <td>3943.00000</td>\n",
       "    </tr>\n",
       "  </tbody>\n",
       "</table>\n",
       "</div>"
      ],
      "text/plain": [
       "              precision    recall  f1-score     support\n",
       "0              0.854207  0.904039  0.878417  2897.00000\n",
       "1              0.683010  0.572658  0.622985  1046.00000\n",
       "accuracy       0.816130  0.816130  0.816130     0.81613\n",
       "macro avg      0.768609  0.738348  0.750701  3943.00000\n",
       "weighted avg   0.808792  0.816130  0.810656  3943.00000"
      ]
     },
     "execution_count": 85,
     "metadata": {},
     "output_type": "execute_result"
    }
   ],
   "source": [
    "#classification report as a df\n",
    "pd.DataFrame(classification_report(y_train, \n",
    "                                   y_train_pred, \n",
    "                                   output_dict=True)).T"
   ]
  },
  {
   "cell_type": "code",
   "execution_count": 86,
   "id": "d3a54a7e-60f8-44a3-8bee-9a6039bad065",
   "metadata": {
    "tags": []
   },
   "outputs": [
    {
     "data": {
      "text/html": [
       "<div>\n",
       "<style scoped>\n",
       "    .dataframe tbody tr th:only-of-type {\n",
       "        vertical-align: middle;\n",
       "    }\n",
       "\n",
       "    .dataframe tbody tr th {\n",
       "        vertical-align: top;\n",
       "    }\n",
       "\n",
       "    .dataframe thead th {\n",
       "        text-align: right;\n",
       "    }\n",
       "</style>\n",
       "<table border=\"1\" class=\"dataframe\">\n",
       "  <thead>\n",
       "    <tr style=\"text-align: right;\">\n",
       "      <th></th>\n",
       "      <th>metric</th>\n",
       "      <th>score</th>\n",
       "    </tr>\n",
       "  </thead>\n",
       "  <tbody>\n",
       "    <tr>\n",
       "      <th>0</th>\n",
       "      <td>accuracy</td>\n",
       "      <td>0.816130</td>\n",
       "    </tr>\n",
       "    <tr>\n",
       "      <th>1</th>\n",
       "      <td>true_positive_rate</td>\n",
       "      <td>0.572658</td>\n",
       "    </tr>\n",
       "    <tr>\n",
       "      <th>2</th>\n",
       "      <td>false_positive_rate</td>\n",
       "      <td>0.095961</td>\n",
       "    </tr>\n",
       "    <tr>\n",
       "      <th>3</th>\n",
       "      <td>true_negative_rate</td>\n",
       "      <td>0.904039</td>\n",
       "    </tr>\n",
       "    <tr>\n",
       "      <th>4</th>\n",
       "      <td>false_negative_rate</td>\n",
       "      <td>0.427342</td>\n",
       "    </tr>\n",
       "    <tr>\n",
       "      <th>5</th>\n",
       "      <td>precision</td>\n",
       "      <td>0.683010</td>\n",
       "    </tr>\n",
       "    <tr>\n",
       "      <th>6</th>\n",
       "      <td>recall</td>\n",
       "      <td>0.572658</td>\n",
       "    </tr>\n",
       "    <tr>\n",
       "      <th>7</th>\n",
       "      <td>f1_score</td>\n",
       "      <td>0.622985</td>\n",
       "    </tr>\n",
       "    <tr>\n",
       "      <th>8</th>\n",
       "      <td>support_pos</td>\n",
       "      <td>1046.000000</td>\n",
       "    </tr>\n",
       "    <tr>\n",
       "      <th>9</th>\n",
       "      <td>support_neg</td>\n",
       "      <td>2897.000000</td>\n",
       "    </tr>\n",
       "  </tbody>\n",
       "</table>\n",
       "</div>"
      ],
      "text/plain": [
       "                metric        score\n",
       "0             accuracy     0.816130\n",
       "1   true_positive_rate     0.572658\n",
       "2  false_positive_rate     0.095961\n",
       "3   true_negative_rate     0.904039\n",
       "4  false_negative_rate     0.427342\n",
       "5            precision     0.683010\n",
       "6               recall     0.572658\n",
       "7             f1_score     0.622985\n",
       "8          support_pos  1046.000000\n",
       "9          support_neg  2897.000000"
      ]
     },
     "execution_count": 86,
     "metadata": {},
     "output_type": "execute_result"
    }
   ],
   "source": [
    "tn, fp, fn, tp = cm.ravel()\n",
    "\n",
    "accuracy = (tp + tn)/(tn + fp + fn + tp)\n",
    "\n",
    "true_positive_rate = tp/(tp + fn)\n",
    "false_positive_rate = fp/(fp + tn)\n",
    "true_negative_rate = tn/(tn + fp)\n",
    "false_negative_rate = fn/(fn + tp)\n",
    "\n",
    "precision = tp/(tp + fp)\n",
    "recall = tp/(tp + fn)\n",
    "f1_score = 2*(precision*recall)/(precision+recall)\n",
    "\n",
    "support_pos = tp + fn\n",
    "support_neg = fp + tn\n",
    "\n",
    "dict = {\n",
    "    'metric' : ['accuracy'\n",
    "                ,'true_positive_rate'\n",
    "                ,'false_positive_rate'\n",
    "                ,'true_negative_rate'\n",
    "                ,'false_negative_rate'\n",
    "                ,'precision'\n",
    "                ,'recall'\n",
    "                ,'f1_score'\n",
    "                ,'support_pos'\n",
    "                ,'support_neg']\n",
    "    ,'score' : [accuracy\n",
    "                ,true_positive_rate\n",
    "                ,false_positive_rate\n",
    "                ,true_negative_rate\n",
    "                ,false_negative_rate\n",
    "                ,precision\n",
    "                ,recall\n",
    "                ,f1_score\n",
    "                ,support_pos\n",
    "                ,support_neg]\n",
    "}\n",
    "\n",
    "pd.DataFrame(dict)"
   ]
  },
  {
   "cell_type": "code",
   "execution_count": 87,
   "id": "087da4bb-f60b-4ab0-b3b9-2230f045f6d9",
   "metadata": {
    "tags": []
   },
   "outputs": [],
   "source": [
    "def print_cm_metrics(cm):\n",
    "    tn, fp, fn, tp = cm.ravel()\n",
    "\n",
    "    accuracy = (tp + tn)/(tn + fp + fn + tp)\n",
    "\n",
    "    true_positive_rate = tp/(tp + fn)\n",
    "    false_positive_rate = fp/(fp + tn)\n",
    "    true_negative_rate = tn/(tn + fp)\n",
    "    false_negative_rate = fn/(fn + tp)\n",
    "\n",
    "    precision = tp/(tp + fp)\n",
    "    recall = tp/(tp + fn)\n",
    "    f1_score = 2*(precision*recall)/(precision+recall)\n",
    "\n",
    "    support_pos = tp + fn\n",
    "    support_neg = fp + tn\n",
    "\n",
    "    dict = {\n",
    "        'metric' : ['accuracy'\n",
    "                    ,'true_positive_rate'\n",
    "                    ,'false_positive_rate'\n",
    "                    ,'true_negative_rate'\n",
    "                    ,'false_negative_rate'\n",
    "                    ,'precision'\n",
    "                    ,'recall'\n",
    "                    ,'f1_score'\n",
    "                    ,'support_pos'\n",
    "                    ,'support_neg']\n",
    "        ,'score' : [accuracy\n",
    "                    ,true_positive_rate\n",
    "                    ,false_positive_rate\n",
    "                    ,true_negative_rate\n",
    "                    ,false_negative_rate\n",
    "                    ,precision\n",
    "                    ,recall\n",
    "                    ,f1_score\n",
    "                    ,support_pos\n",
    "                    ,support_neg]\n",
    "    }\n",
    "\n",
    "    return pd.DataFrame(dict)"
   ]
  },
  {
   "cell_type": "code",
   "execution_count": 88,
   "id": "77ae926d-2b26-470f-872f-676c82e33daa",
   "metadata": {
    "tags": []
   },
   "outputs": [],
   "source": [
    "def knn_fit_predict(k, X_train, y_train, X_validate):\n",
    "    '''\n",
    "    This function takes n_neighbors, X_train,  target  and X_val\n",
    "    and returns knn, predictions for train set and validate set\n",
    "    '''\n",
    "    # MAKE the thing\n",
    "    knn = KNeighborsClassifier(n_neighbors=k)\n",
    "\n",
    "    # FIT the thing\n",
    "    knn.fit(X_train, y_train)\n",
    "\n",
    "    # USE the thing\n",
    "    y_train_pred = knn.predict(X_train)\n",
    "    y_validate_pred = knn.predict(X_validate)\n",
    "    \n",
    "    return knn, y_train_pred, y_validate_pred\n"
   ]
  },
  {
   "cell_type": "code",
   "execution_count": 89,
   "id": "22fb40f6-40bd-466d-bc86-7125705023a8",
   "metadata": {
    "tags": []
   },
   "outputs": [],
   "source": [
    "#Now, let's make a function to return the \n",
    "#accuracy, confusion matrix and classification report\n",
    "\n",
    "def evaluate_clf(model, X, y, y_pred):\n",
    "    '''\n",
    "    This function can be used on any classification model\n",
    "    It takes in a model, features, target and prediction\n",
    "    and returns the accuracy, confusion matrix and classification report\n",
    "    '''\n",
    "    # model score\n",
    "    accuracy = model.score(X, y)\n",
    "\n",
    "    # confusion matrix\n",
    "    cm = confusion_matrix(y, y_pred)\n",
    "    cmdf = pd.DataFrame(cm, index=['Actual 0', 'Actual 1'], \n",
    "                       columns=['Pred 0', 'Pred 1'])\n",
    "\n",
    "    # classification report\n",
    "    crdf = pd.DataFrame(classification_report(y, y_pred, output_dict=True))\n",
    "    \n",
    "    # confusion matrix metrics\n",
    "    metrics = print_cm_metrics(cm)\n",
    "    \n",
    "    return accuracy, cmdf, crdf, metrics"
   ]
  },
  {
   "cell_type": "markdown",
   "id": "0fa968ba-3a79-49dc-9909-7541c4cb2db9",
   "metadata": {},
   "source": [
    "## Best KNN"
   ]
  },
  {
   "cell_type": "code",
   "execution_count": 90,
   "id": "ec40fdb9-7e2c-4d04-8b45-cc34c8a23228",
   "metadata": {
    "tags": []
   },
   "outputs": [],
   "source": [
    "#using the functions we created above, and store what's returned in variables:\n",
    "k = 14\n",
    "knn, y_train_pred, y_validate_pred = knn_fit_predict(k, \n",
    "                                                     X_train, \n",
    "                                                     y_train, \n",
    "                                                     X_val)\n",
    "accuracy_t, cmdf_t, crdf_t, met_t = evaluate_clf(knn, X_train, y_train, y_train_pred)\n",
    "\n",
    "accuracy_v, cmdf_v, crdf_v, met_v = evaluate_clf(knn, X_val, y_val, y_validate_pred)"
   ]
  },
  {
   "cell_type": "code",
   "execution_count": 91,
   "id": "60344df9-8441-402a-98b3-4bb2635bf970",
   "metadata": {
    "tags": []
   },
   "outputs": [
    {
     "name": "stdout",
     "output_type": "stream",
     "text": [
      "KNN where K = 14\n",
      "\n",
      "********Train Evaluation********\n",
      "\n",
      "Accuracy: 0.780877504438245\n",
      "\n",
      "Confusion Matrix:\n",
      "          Pred 0  Pred 1\n",
      "Actual 0    2645     252\n",
      "Actual 1     612     434\n",
      "\n",
      "Classification Report:\n",
      "                     0            1  accuracy    macro avg  weighted avg\n",
      "precision     0.812097     0.632653  0.780878     0.722375      0.764494\n",
      "recall        0.913013     0.414914  0.780878     0.663964      0.780878\n",
      "f1-score      0.859604     0.501155  0.780878     0.680379      0.764514\n",
      "support    2897.000000  1046.000000  0.780878  3943.000000   3943.000000\n",
      "\n",
      "Metrics: \n",
      "                metric        score\n",
      "0             accuracy     0.780878\n",
      "1   true_positive_rate     0.414914\n",
      "2  false_positive_rate     0.086987\n",
      "3   true_negative_rate     0.913013\n",
      "4  false_negative_rate     0.585086\n",
      "5            precision     0.632653\n",
      "6               recall     0.414914\n",
      "7             f1_score     0.501155\n",
      "8          support_pos  1046.000000\n",
      "9          support_neg  2897.000000\n",
      " \n",
      "________________________________________________\n",
      "\n",
      "********Validate Evaluation********\n",
      "\n",
      "Accuracy: 0.7510348905972797\n",
      "\n",
      "Confusion Matrix:\n",
      "          Pred 0  Pred 1\n",
      "Actual 0    1129     113\n",
      "Actual 1     308     141\n",
      "\n",
      "Classification Report:\n",
      "                     0           1  accuracy    macro avg  weighted avg\n",
      "precision     0.785665    0.555118  0.751035     0.670391      0.724449\n",
      "recall        0.909018    0.314031  0.751035     0.611524      0.751035\n",
      "f1-score      0.842852    0.401138  0.751035     0.621995      0.725566\n",
      "support    1242.000000  449.000000  0.751035  1691.000000   1691.000000\n",
      "\n",
      "Metrics: \n",
      "                metric        score\n",
      "0             accuracy     0.751035\n",
      "1   true_positive_rate     0.314031\n",
      "2  false_positive_rate     0.090982\n",
      "3   true_negative_rate     0.909018\n",
      "4  false_negative_rate     0.685969\n",
      "5            precision     0.555118\n",
      "6               recall     0.314031\n",
      "7             f1_score     0.401138\n",
      "8          support_pos   449.000000\n",
      "9          support_neg  1242.000000\n",
      "\n",
      "\n"
     ]
    }
   ],
   "source": [
    "print(f\"\"\"KNN where K = {k}\n",
    "\n",
    "********Train Evaluation********\n",
    "\n",
    "Accuracy: {accuracy_t}\n",
    "\n",
    "Confusion Matrix:\n",
    "{cmdf_t}\n",
    "\n",
    "Classification Report:\n",
    "{crdf_t}\n",
    "\n",
    "Metrics: \n",
    "{met_t}\n",
    " \n",
    "________________________________________________\n",
    "\n",
    "********Validate Evaluation********\n",
    "\n",
    "Accuracy: {accuracy_v}\n",
    "\n",
    "Confusion Matrix:\n",
    "{cmdf_v}\n",
    "\n",
    "Classification Report:\n",
    "{crdf_v}\n",
    "\n",
    "Metrics: \n",
    "{met_v}\n",
    "\n",
    "\"\"\")"
   ]
  },
  {
   "cell_type": "code",
   "execution_count": 92,
   "id": "8d9b70ec-3a26-482c-8b47-982604b90544",
   "metadata": {
    "tags": []
   },
   "outputs": [],
   "source": [
    "k = 20\n",
    "knn, y_train_pred, y_validate_pred = knn_fit_predict(k, \n",
    "                                                     X_train, \n",
    "                                                     y_train, \n",
    "                                                     X_val)\n",
    "accuracy_t, cmdf_t, crdf_t, met_t = evaluate_clf(knn, X_train, y_train, y_train_pred)\n",
    "\n",
    "accuracy_v, cmdf_v, crdf_v, met_v = evaluate_clf(knn, X_val, y_val, y_validate_pred)"
   ]
  },
  {
   "cell_type": "code",
   "execution_count": 93,
   "id": "575b6c54-2ea5-4c6e-bff2-8a556637a6fa",
   "metadata": {
    "tags": []
   },
   "outputs": [
    {
     "name": "stdout",
     "output_type": "stream",
     "text": [
      "KNN where K = 20\n",
      "\n",
      "********Train Evaluation********\n",
      "\n",
      "Accuracy: 0.7780877504438245\n",
      "\n",
      "Confusion Matrix:\n",
      "          Pred 0  Pred 1\n",
      "Actual 0    2630     267\n",
      "Actual 1     608     438\n",
      "\n",
      "Classification Report:\n",
      "                     0            1  accuracy    macro avg  weighted avg\n",
      "precision     0.812230     0.621277  0.778088     0.716753      0.761574\n",
      "recall        0.907836     0.418738  0.778088     0.663287      0.778088\n",
      "f1-score      0.857376     0.500286  0.778088     0.678831      0.762647\n",
      "support    2897.000000  1046.000000  0.778088  3943.000000   3943.000000\n",
      "\n",
      "Metrics: \n",
      "                metric        score\n",
      "0             accuracy     0.778088\n",
      "1   true_positive_rate     0.418738\n",
      "2  false_positive_rate     0.092164\n",
      "3   true_negative_rate     0.907836\n",
      "4  false_negative_rate     0.581262\n",
      "5            precision     0.621277\n",
      "6               recall     0.418738\n",
      "7             f1_score     0.500286\n",
      "8          support_pos  1046.000000\n",
      "9          support_neg  2897.000000\n",
      " \n",
      "________________________________________________\n",
      "\n",
      "********Validate Evaluation********\n",
      "\n",
      "Accuracy: 0.7670017740981667\n",
      "\n",
      "Confusion Matrix:\n",
      "          Pred 0  Pred 1\n",
      "Actual 0    1137     105\n",
      "Actual 1     289     160\n",
      "\n",
      "Classification Report:\n",
      "                     0           1  accuracy    macro avg  weighted avg\n",
      "precision     0.797335    0.603774  0.767002     0.700554      0.745940\n",
      "recall        0.915459    0.356347  0.767002     0.635903      0.767002\n",
      "f1-score      0.852324    0.448179  0.767002     0.650252      0.745014\n",
      "support    1242.000000  449.000000  0.767002  1691.000000   1691.000000\n",
      "\n",
      "Metrics: \n",
      "                metric        score\n",
      "0             accuracy     0.767002\n",
      "1   true_positive_rate     0.356347\n",
      "2  false_positive_rate     0.084541\n",
      "3   true_negative_rate     0.915459\n",
      "4  false_negative_rate     0.643653\n",
      "5            precision     0.603774\n",
      "6               recall     0.356347\n",
      "7             f1_score     0.448179\n",
      "8          support_pos   449.000000\n",
      "9          support_neg  1242.000000\n",
      "\n",
      "\n"
     ]
    }
   ],
   "source": [
    "print(f\"\"\"KNN where K = {k}\n",
    "\n",
    "********Train Evaluation********\n",
    "\n",
    "Accuracy: {accuracy_t}\n",
    "\n",
    "Confusion Matrix:\n",
    "{cmdf_t}\n",
    "\n",
    "Classification Report:\n",
    "{crdf_t}\n",
    "\n",
    "Metrics: \n",
    "{met_t}\n",
    " \n",
    "________________________________________________\n",
    "\n",
    "********Validate Evaluation********\n",
    "\n",
    "Accuracy: {accuracy_v}\n",
    "\n",
    "Confusion Matrix:\n",
    "{cmdf_v}\n",
    "\n",
    "Classification Report:\n",
    "{crdf_v}\n",
    "\n",
    "Metrics: \n",
    "{met_v}\n",
    "\n",
    "\"\"\")"
   ]
  },
  {
   "cell_type": "code",
   "execution_count": 94,
   "id": "7a16c8ea-2104-42f9-ad5f-c678e3067080",
   "metadata": {
    "tags": []
   },
   "outputs": [
    {
     "data": {
      "text/html": [
       "<div>\n",
       "<style scoped>\n",
       "    .dataframe tbody tr th:only-of-type {\n",
       "        vertical-align: middle;\n",
       "    }\n",
       "\n",
       "    .dataframe tbody tr th {\n",
       "        vertical-align: top;\n",
       "    }\n",
       "\n",
       "    .dataframe thead th {\n",
       "        text-align: right;\n",
       "    }\n",
       "</style>\n",
       "<table border=\"1\" class=\"dataframe\">\n",
       "  <thead>\n",
       "    <tr style=\"text-align: right;\">\n",
       "      <th></th>\n",
       "      <th>k</th>\n",
       "      <th>train_accuracy</th>\n",
       "      <th>validate_accuracy</th>\n",
       "      <th>difference</th>\n",
       "    </tr>\n",
       "  </thead>\n",
       "  <tbody>\n",
       "    <tr>\n",
       "      <th>0</th>\n",
       "      <td>1</td>\n",
       "      <td>0.942683</td>\n",
       "      <td>0.727380</td>\n",
       "      <td>0.215303</td>\n",
       "    </tr>\n",
       "    <tr>\n",
       "      <th>1</th>\n",
       "      <td>2</td>\n",
       "      <td>0.844027</td>\n",
       "      <td>0.748078</td>\n",
       "      <td>0.095949</td>\n",
       "    </tr>\n",
       "    <tr>\n",
       "      <th>2</th>\n",
       "      <td>3</td>\n",
       "      <td>0.851636</td>\n",
       "      <td>0.740982</td>\n",
       "      <td>0.110654</td>\n",
       "    </tr>\n",
       "    <tr>\n",
       "      <th>3</th>\n",
       "      <td>4</td>\n",
       "      <td>0.813847</td>\n",
       "      <td>0.755766</td>\n",
       "      <td>0.058082</td>\n",
       "    </tr>\n",
       "    <tr>\n",
       "      <th>4</th>\n",
       "      <td>5</td>\n",
       "      <td>0.816130</td>\n",
       "      <td>0.760497</td>\n",
       "      <td>0.055633</td>\n",
       "    </tr>\n",
       "    <tr>\n",
       "      <th>5</th>\n",
       "      <td>6</td>\n",
       "      <td>0.800152</td>\n",
       "      <td>0.755174</td>\n",
       "      <td>0.044978</td>\n",
       "    </tr>\n",
       "    <tr>\n",
       "      <th>6</th>\n",
       "      <td>7</td>\n",
       "      <td>0.801167</td>\n",
       "      <td>0.758723</td>\n",
       "      <td>0.042444</td>\n",
       "    </tr>\n",
       "    <tr>\n",
       "      <th>7</th>\n",
       "      <td>8</td>\n",
       "      <td>0.791022</td>\n",
       "      <td>0.762862</td>\n",
       "      <td>0.028160</td>\n",
       "    </tr>\n",
       "    <tr>\n",
       "      <th>8</th>\n",
       "      <td>9</td>\n",
       "      <td>0.792290</td>\n",
       "      <td>0.756949</td>\n",
       "      <td>0.035342</td>\n",
       "    </tr>\n",
       "    <tr>\n",
       "      <th>9</th>\n",
       "      <td>10</td>\n",
       "      <td>0.789754</td>\n",
       "      <td>0.752218</td>\n",
       "      <td>0.037536</td>\n",
       "    </tr>\n",
       "    <tr>\n",
       "      <th>10</th>\n",
       "      <td>11</td>\n",
       "      <td>0.788232</td>\n",
       "      <td>0.755174</td>\n",
       "      <td>0.033058</td>\n",
       "    </tr>\n",
       "    <tr>\n",
       "      <th>11</th>\n",
       "      <td>12</td>\n",
       "      <td>0.786964</td>\n",
       "      <td>0.755174</td>\n",
       "      <td>0.031790</td>\n",
       "    </tr>\n",
       "    <tr>\n",
       "      <th>12</th>\n",
       "      <td>13</td>\n",
       "      <td>0.781131</td>\n",
       "      <td>0.758723</td>\n",
       "      <td>0.022408</td>\n",
       "    </tr>\n",
       "    <tr>\n",
       "      <th>13</th>\n",
       "      <td>14</td>\n",
       "      <td>0.780878</td>\n",
       "      <td>0.751035</td>\n",
       "      <td>0.029843</td>\n",
       "    </tr>\n",
       "    <tr>\n",
       "      <th>14</th>\n",
       "      <td>15</td>\n",
       "      <td>0.778595</td>\n",
       "      <td>0.762862</td>\n",
       "      <td>0.015733</td>\n",
       "    </tr>\n",
       "    <tr>\n",
       "      <th>15</th>\n",
       "      <td>16</td>\n",
       "      <td>0.782906</td>\n",
       "      <td>0.760497</td>\n",
       "      <td>0.022410</td>\n",
       "    </tr>\n",
       "    <tr>\n",
       "      <th>16</th>\n",
       "      <td>17</td>\n",
       "      <td>0.777834</td>\n",
       "      <td>0.767593</td>\n",
       "      <td>0.010241</td>\n",
       "    </tr>\n",
       "    <tr>\n",
       "      <th>17</th>\n",
       "      <td>18</td>\n",
       "      <td>0.781131</td>\n",
       "      <td>0.764636</td>\n",
       "      <td>0.016495</td>\n",
       "    </tr>\n",
       "    <tr>\n",
       "      <th>18</th>\n",
       "      <td>19</td>\n",
       "      <td>0.776312</td>\n",
       "      <td>0.769959</td>\n",
       "      <td>0.006354</td>\n",
       "    </tr>\n",
       "    <tr>\n",
       "      <th>19</th>\n",
       "      <td>20</td>\n",
       "      <td>0.778088</td>\n",
       "      <td>0.767002</td>\n",
       "      <td>0.011086</td>\n",
       "    </tr>\n",
       "  </tbody>\n",
       "</table>\n",
       "</div>"
      ],
      "text/plain": [
       "     k  train_accuracy  validate_accuracy  difference\n",
       "0    1        0.942683           0.727380    0.215303\n",
       "1    2        0.844027           0.748078    0.095949\n",
       "2    3        0.851636           0.740982    0.110654\n",
       "3    4        0.813847           0.755766    0.058082\n",
       "4    5        0.816130           0.760497    0.055633\n",
       "5    6        0.800152           0.755174    0.044978\n",
       "6    7        0.801167           0.758723    0.042444\n",
       "7    8        0.791022           0.762862    0.028160\n",
       "8    9        0.792290           0.756949    0.035342\n",
       "9   10        0.789754           0.752218    0.037536\n",
       "10  11        0.788232           0.755174    0.033058\n",
       "11  12        0.786964           0.755174    0.031790\n",
       "12  13        0.781131           0.758723    0.022408\n",
       "13  14        0.780878           0.751035    0.029843\n",
       "14  15        0.778595           0.762862    0.015733\n",
       "15  16        0.782906           0.760497    0.022410\n",
       "16  17        0.777834           0.767593    0.010241\n",
       "17  18        0.781131           0.764636    0.016495\n",
       "18  19        0.776312           0.769959    0.006354\n",
       "19  20        0.778088           0.767002    0.011086"
      ]
     },
     "execution_count": 94,
     "metadata": {},
     "output_type": "execute_result"
    }
   ],
   "source": [
    "metrics = []\n",
    "\n",
    "for k in range(1,21):\n",
    "    knn, y_train_pred, y_val_pred = knn_fit_predict(k, X_train, \n",
    "                                                    y_train, \n",
    "                                                    X_val)\n",
    "    train_acc = knn.score(X_train, y_train)\n",
    "    val_acc = knn.score(X_val, y_val)\n",
    "    \n",
    "    output = {\n",
    "            \"k\": k,\n",
    "            \"train_accuracy\": train_acc,\n",
    "            \"validate_accuracy\": val_acc\n",
    "    }\n",
    "\n",
    "    metrics.append(output)\n",
    "    \n",
    "eval_df = pd.DataFrame(metrics)\n",
    "eval_df['difference'] = eval_df['train_accuracy'] - eval_df['validate_accuracy']\n",
    "\n",
    "eval_df"
   ]
  },
  {
   "cell_type": "code",
   "execution_count": 95,
   "id": "d07ead0e-059d-4b1c-9d18-d4880dba828b",
   "metadata": {
    "tags": []
   },
   "outputs": [
    {
     "data": {
      "image/png": "[encoded data removed]",
      "text/plain": [
       "<Figure size 1600x900 with 1 Axes>"
      ]
     },
     "metadata": {},
     "output_type": "display_data"
    }
   ],
   "source": [
    "# plot the data\n",
    "plt.figure(figsize=(16,9))\n",
    "plt.plot(eval_df.k, eval_df.train_accuracy, label='Train Accuracy')\n",
    "plt.plot(eval_df.k, eval_df.validate_accuracy, label='Validate Accuracy')\n",
    "plt.plot(eval_df.k, eval_df.difference, label='Accuracy Difference')\n",
    "plt.ylabel('Accuracy')\n",
    "plt.legend()\n",
    "plt.xticks(np.arange(0,21,1))\n",
    "plt.grid()\n",
    "plt.show()"
   ]
  },
  {
   "cell_type": "code",
   "execution_count": 96,
   "id": "423c7337-b315-456c-98bc-729e1beebb75",
   "metadata": {
    "tags": []
   },
   "outputs": [],
   "source": [
    "# k- 12 is the best model: "
   ]
  },
  {
   "cell_type": "markdown",
   "id": "c745cf45-202b-4928-84a8-70a61c259db4",
   "metadata": {},
   "source": [
    "# BEST MODEL"
   ]
  },
  {
   "cell_type": "code",
   "execution_count": 97,
   "id": "708ea989-81ea-4e29-8d49-0472e8fce138",
   "metadata": {
    "tags": []
   },
   "outputs": [],
   "source": [
    "# run this in the final paper"
   ]
  },
  {
   "cell_type": "code",
   "execution_count": null,
   "id": "05b9a53c-0b43-447e-9a5b-3d1b0549d580",
   "metadata": {},
   "outputs": [],
   "source": []
  }
 ],
 "metadata": {
  "kernelspec": {
   "display_name": "Python 3 (ipykernel)",
   "language": "python",
   "name": "python3"
  },
  "language_info": {
   "codemirror_mode": {
    "name": "ipython",
    "version": 3
   },
   "file_extension": ".py",
   "mimetype": "text/x-python",
   "name": "python",
   "nbconvert_exporter": "python",
   "pygments_lexer": "ipython3",
   "version": "3.11.4"
  }
 },
 "nbformat": 4,
 "nbformat_minor": 5
}
