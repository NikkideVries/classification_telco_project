{
 "cells": [
  {
   "cell_type": "markdown",
   "id": "0bccb6a1-8ab4-4218-bbcf-4a5f68d91e1f",
   "metadata": {},
   "source": [
    "# Hypothesis testing:\n",
    "- This is a sheet used for the final project to show work:"
   ]
  },
  {
   "cell_type": "code",
   "execution_count": 1,
   "id": "4868f190-2890-4766-945e-0fd77ba0d7ad",
   "metadata": {
    "tags": []
   },
   "outputs": [],
   "source": [
    "#importds \n",
    "import warnings\n",
    "warnings.filterwarnings(\"ignore\")\n",
    "\n",
    "import pandas as pd\n",
    "import numpy as np\n",
    "import matplotlib.pyplot as plt\n",
    "import seaborn as sns\n",
    "from scipy import stats\n",
    "from sklearn.model_selection import train_test_split\n",
    "\n",
    "import wrangle as wr"
   ]
  },
  {
   "cell_type": "code",
   "execution_count": 2,
   "id": "bfe5d3bb-a8af-45c8-bc1c-58bad5f2f329",
   "metadata": {
    "tags": []
   },
   "outputs": [],
   "source": [
    "telco = wr.get_telco_data()"
   ]
  },
  {
   "cell_type": "code",
   "execution_count": 3,
   "id": "20e1507b-c26a-4754-90b1-21638d216803",
   "metadata": {
    "tags": []
   },
   "outputs": [
    {
     "data": {
      "text/html": [
       "<div>\n",
       "<style scoped>\n",
       "    .dataframe tbody tr th:only-of-type {\n",
       "        vertical-align: middle;\n",
       "    }\n",
       "\n",
       "    .dataframe tbody tr th {\n",
       "        vertical-align: top;\n",
       "    }\n",
       "\n",
       "    .dataframe thead th {\n",
       "        text-align: right;\n",
       "    }\n",
       "</style>\n",
       "<table border=\"1\" class=\"dataframe\">\n",
       "  <thead>\n",
       "    <tr style=\"text-align: right;\">\n",
       "      <th></th>\n",
       "      <th>customer_id</th>\n",
       "      <th>gender</th>\n",
       "      <th>senior_citizen</th>\n",
       "      <th>partner</th>\n",
       "      <th>dependents</th>\n",
       "      <th>tenure</th>\n",
       "      <th>phone_service</th>\n",
       "      <th>multiple_lines</th>\n",
       "      <th>online_security</th>\n",
       "      <th>online_backup</th>\n",
       "      <th>...</th>\n",
       "      <th>streaming_tv</th>\n",
       "      <th>streaming_movies</th>\n",
       "      <th>paperless_billing</th>\n",
       "      <th>monthly_charges</th>\n",
       "      <th>total_charges</th>\n",
       "      <th>churn</th>\n",
       "      <th>contract_type</th>\n",
       "      <th>internet_service_type</th>\n",
       "      <th>payment_type</th>\n",
       "      <th>did_churn</th>\n",
       "    </tr>\n",
       "  </thead>\n",
       "  <tbody>\n",
       "    <tr>\n",
       "      <th>84</th>\n",
       "      <td>0135-NMXAP</td>\n",
       "      <td>Female</td>\n",
       "      <td>0</td>\n",
       "      <td>No</td>\n",
       "      <td>No</td>\n",
       "      <td>12</td>\n",
       "      <td>Yes</td>\n",
       "      <td>Yes</td>\n",
       "      <td>No</td>\n",
       "      <td>Yes</td>\n",
       "      <td>...</td>\n",
       "      <td>Yes</td>\n",
       "      <td>No</td>\n",
       "      <td>Yes</td>\n",
       "      <td>89.75</td>\n",
       "      <td>1052.40</td>\n",
       "      <td>Yes</td>\n",
       "      <td>Month-to-month</td>\n",
       "      <td>Fiber optic</td>\n",
       "      <td>Bank transfer (automatic)</td>\n",
       "      <td>1</td>\n",
       "    </tr>\n",
       "    <tr>\n",
       "      <th>5021</th>\n",
       "      <td>7055-JCGNI</td>\n",
       "      <td>Female</td>\n",
       "      <td>0</td>\n",
       "      <td>No</td>\n",
       "      <td>No</td>\n",
       "      <td>70</td>\n",
       "      <td>Yes</td>\n",
       "      <td>Yes</td>\n",
       "      <td>Yes</td>\n",
       "      <td>Yes</td>\n",
       "      <td>...</td>\n",
       "      <td>Yes</td>\n",
       "      <td>Yes</td>\n",
       "      <td>Yes</td>\n",
       "      <td>111.95</td>\n",
       "      <td>7795.95</td>\n",
       "      <td>No</td>\n",
       "      <td>Two year</td>\n",
       "      <td>Fiber optic</td>\n",
       "      <td>Credit card (automatic)</td>\n",
       "      <td>0</td>\n",
       "    </tr>\n",
       "    <tr>\n",
       "      <th>1577</th>\n",
       "      <td>2296-DKZFP</td>\n",
       "      <td>Female</td>\n",
       "      <td>0</td>\n",
       "      <td>Yes</td>\n",
       "      <td>No</td>\n",
       "      <td>65</td>\n",
       "      <td>Yes</td>\n",
       "      <td>No</td>\n",
       "      <td>Yes</td>\n",
       "      <td>Yes</td>\n",
       "      <td>...</td>\n",
       "      <td>No</td>\n",
       "      <td>Yes</td>\n",
       "      <td>No</td>\n",
       "      <td>71.00</td>\n",
       "      <td>4386.20</td>\n",
       "      <td>No</td>\n",
       "      <td>Two year</td>\n",
       "      <td>DSL</td>\n",
       "      <td>Bank transfer (automatic)</td>\n",
       "      <td>0</td>\n",
       "    </tr>\n",
       "    <tr>\n",
       "      <th>6366</th>\n",
       "      <td>9025-AOMKI</td>\n",
       "      <td>Female</td>\n",
       "      <td>0</td>\n",
       "      <td>No</td>\n",
       "      <td>No</td>\n",
       "      <td>6</td>\n",
       "      <td>Yes</td>\n",
       "      <td>Yes</td>\n",
       "      <td>No</td>\n",
       "      <td>No</td>\n",
       "      <td>...</td>\n",
       "      <td>Yes</td>\n",
       "      <td>Yes</td>\n",
       "      <td>Yes</td>\n",
       "      <td>93.55</td>\n",
       "      <td>536.40</td>\n",
       "      <td>Yes</td>\n",
       "      <td>Month-to-month</td>\n",
       "      <td>Fiber optic</td>\n",
       "      <td>Bank transfer (automatic)</td>\n",
       "      <td>1</td>\n",
       "    </tr>\n",
       "    <tr>\n",
       "      <th>3387</th>\n",
       "      <td>4817-VYYWS</td>\n",
       "      <td>Female</td>\n",
       "      <td>0</td>\n",
       "      <td>No</td>\n",
       "      <td>No</td>\n",
       "      <td>30</td>\n",
       "      <td>Yes</td>\n",
       "      <td>Yes</td>\n",
       "      <td>No</td>\n",
       "      <td>Yes</td>\n",
       "      <td>...</td>\n",
       "      <td>Yes</td>\n",
       "      <td>Yes</td>\n",
       "      <td>Yes</td>\n",
       "      <td>100.20</td>\n",
       "      <td>2983.80</td>\n",
       "      <td>Yes</td>\n",
       "      <td>Month-to-month</td>\n",
       "      <td>Fiber optic</td>\n",
       "      <td>Electronic check</td>\n",
       "      <td>1</td>\n",
       "    </tr>\n",
       "  </tbody>\n",
       "</table>\n",
       "<p>5 rows × 22 columns</p>\n",
       "</div>"
      ],
      "text/plain": [
       "     customer_id  gender  senior_citizen partner dependents  tenure  \\\n",
       "84    0135-NMXAP  Female               0      No         No      12   \n",
       "5021  7055-JCGNI  Female               0      No         No      70   \n",
       "1577  2296-DKZFP  Female               0     Yes         No      65   \n",
       "6366  9025-AOMKI  Female               0      No         No       6   \n",
       "3387  4817-VYYWS  Female               0      No         No      30   \n",
       "\n",
       "     phone_service multiple_lines online_security online_backup  ...  \\\n",
       "84             Yes            Yes              No           Yes  ...   \n",
       "5021           Yes            Yes             Yes           Yes  ...   \n",
       "1577           Yes             No             Yes           Yes  ...   \n",
       "6366           Yes            Yes              No            No  ...   \n",
       "3387           Yes            Yes              No           Yes  ...   \n",
       "\n",
       "     streaming_tv streaming_movies paperless_billing monthly_charges  \\\n",
       "84            Yes               No               Yes           89.75   \n",
       "5021          Yes              Yes               Yes          111.95   \n",
       "1577           No              Yes                No           71.00   \n",
       "6366          Yes              Yes               Yes           93.55   \n",
       "3387          Yes              Yes               Yes          100.20   \n",
       "\n",
       "     total_charges  churn   contract_type internet_service_type  \\\n",
       "84         1052.40    Yes  Month-to-month           Fiber optic   \n",
       "5021       7795.95     No        Two year           Fiber optic   \n",
       "1577       4386.20     No        Two year                   DSL   \n",
       "6366        536.40    Yes  Month-to-month           Fiber optic   \n",
       "3387       2983.80    Yes  Month-to-month           Fiber optic   \n",
       "\n",
       "                   payment_type did_churn  \n",
       "84    Bank transfer (automatic)         1  \n",
       "5021    Credit card (automatic)         0  \n",
       "1577  Bank transfer (automatic)         0  \n",
       "6366  Bank transfer (automatic)         1  \n",
       "3387           Electronic check         1  \n",
       "\n",
       "[5 rows x 22 columns]"
      ]
     },
     "execution_count": 3,
     "metadata": {},
     "output_type": "execute_result"
    }
   ],
   "source": [
    "train, val, test = wr.split_telco_data(telco)\n",
    "train.head()"
   ]
  },
  {
   "cell_type": "code",
   "execution_count": 4,
   "id": "c526bd29-9851-4a58-9799-0e1b7c6eb829",
   "metadata": {
    "tags": []
   },
   "outputs": [],
   "source": [
    "target = 'did_churn'"
   ]
  },
  {
   "cell_type": "markdown",
   "id": "458b906a-9db5-4599-96c3-548ac97b846c",
   "metadata": {},
   "source": [
    "### Hypothesis 1:\n",
    "1. Are customers more likley to churn if they are a senior citizen <br>\n",
    "$H_0$: Senior citizen and churn are independent of each other <br>\n",
    "$H_a$: Senior citizen an churn are dependent on each other <br>"
   ]
  },
  {
   "cell_type": "code",
   "execution_count": 5,
   "id": "71406c03-7123-4da6-804c-8e8164264c84",
   "metadata": {
    "tags": []
   },
   "outputs": [],
   "source": [
    "null_hypothesis = 'Senior citizen and churn are independent of each other.'\n",
    "alternative_hypothesis = 'Senior citizen an churn are dependent on each other.'"
   ]
  },
  {
   "cell_type": "code",
   "execution_count": 6,
   "id": "67b97401-4f89-4dd8-8b36-64593c65fa0e",
   "metadata": {
    "tags": []
   },
   "outputs": [],
   "source": [
    "def hypothesis_one_graph(train, target):\n",
    "        \n",
    "    print(f'senior vs if they did churn')\n",
    "    plt.figure(figsize=(8, 5))\n",
    "    sns.barplot(data=train, x=train.senior_citizen, y=target, palette='magma')\n",
    "    plt.title(f'Churn by senior citizen')\n",
    "    overall_rate = train[target].mean()\n",
    "    plt.axhline(overall_rate, ls='--', color='black')\n",
    "    plt.show()\n",
    "    "
   ]
  },
  {
   "cell_type": "code",
   "execution_count": 7,
   "id": "a98f20c6-fc39-4cdf-b6d8-df9a6432f37f",
   "metadata": {
    "tags": []
   },
   "outputs": [
    {
     "name": "stdout",
     "output_type": "stream",
     "text": [
      "senior vs if they did churn\n"
     ]
    },
    {
     "data": {
      "image/png": "[encoded data removed]",
      "text/plain": [
       "<Figure size 800x500 with 1 Axes>"
      ]
     },
     "metadata": {},
     "output_type": "display_data"
    }
   ],
   "source": [
    "hypothesis_one_graph(train, target)"
   ]
  },
  {
   "cell_type": "code",
   "execution_count": 8,
   "id": "decb53dc-3c4f-4314-b9cd-0fe0a4ff541c",
   "metadata": {
    "tags": []
   },
   "outputs": [
    {
     "data": {
      "text/html": [
       "<div>\n",
       "<style scoped>\n",
       "    .dataframe tbody tr th:only-of-type {\n",
       "        vertical-align: middle;\n",
       "    }\n",
       "\n",
       "    .dataframe tbody tr th {\n",
       "        vertical-align: top;\n",
       "    }\n",
       "\n",
       "    .dataframe thead th {\n",
       "        text-align: right;\n",
       "    }\n",
       "</style>\n",
       "<table border=\"1\" class=\"dataframe\">\n",
       "  <thead>\n",
       "    <tr style=\"text-align: right;\">\n",
       "      <th>did_churn</th>\n",
       "      <th>0</th>\n",
       "      <th>1</th>\n",
       "    </tr>\n",
       "    <tr>\n",
       "      <th>senior_citizen</th>\n",
       "      <th></th>\n",
       "      <th></th>\n",
       "    </tr>\n",
       "  </thead>\n",
       "  <tbody>\n",
       "    <tr>\n",
       "      <th>0</th>\n",
       "      <td>2522</td>\n",
       "      <td>773</td>\n",
       "    </tr>\n",
       "    <tr>\n",
       "      <th>1</th>\n",
       "      <td>375</td>\n",
       "      <td>273</td>\n",
       "    </tr>\n",
       "  </tbody>\n",
       "</table>\n",
       "</div>"
      ],
      "text/plain": [
       "did_churn          0    1\n",
       "senior_citizen           \n",
       "0               2522  773\n",
       "1                375  273"
      ]
     },
     "execution_count": 8,
     "metadata": {},
     "output_type": "execute_result"
    }
   ],
   "source": [
    "observed = pd.crosstab(train.senior_citizen, train[target])\n",
    "observed"
   ]
  },
  {
   "cell_type": "code",
   "execution_count": 9,
   "id": "de9cf0df-ffe2-40b6-8bd6-9ab296e144d3",
   "metadata": {
    "tags": []
   },
   "outputs": [
    {
     "name": "stdout",
     "output_type": "stream",
     "text": [
      "We reject the null hypothesis: Senior citizen and churn are independent of each other.\n",
      "Therefore: Senior citizen an churn are dependent on each other.\n"
     ]
    },
    {
     "data": {
      "text/plain": [
       "1.2173782413917346e-22"
      ]
     },
     "execution_count": 9,
     "metadata": {},
     "output_type": "execute_result"
    }
   ],
   "source": [
    "chi2, p, degf, expected = stats.chi2_contingency(observed)\n",
    "\n",
    "alpha = 0.05\n",
    "if p < alpha:\n",
    "    print(f\"We reject the null hypothesis: {null_hypothesis}\")\n",
    "    print(f\"Therefore: {alternative_hypothesis}\")\n",
    "else:\n",
    "    print(f\"We fail to reject the null, therefore: {null_hypothesis}\")\n",
    "p\n",
    "        "
   ]
  },
  {
   "cell_type": "markdown",
   "id": "e213240c-029a-4e5f-bd83-e05ddfe2bff7",
   "metadata": {
    "tags": []
   },
   "source": [
    "### Hyothesis 2: \n",
    "1. Are customers more likley to churn due to contract type? <br>\n",
    "$H_0$: Contract type and churn are independent of each other. <br>\n",
    "$H_a$: Contract type an churn are dependent on each other. <br>"
   ]
  },
  {
   "cell_type": "code",
   "execution_count": 10,
   "id": "2e9cba16-6694-4baf-9fc3-fe32e7286e2c",
   "metadata": {
    "tags": []
   },
   "outputs": [],
   "source": [
    "null_hypothesis = 'Contract type and churn are independent of each other.'\n",
    "alternative_hypothesis = 'Contract type an churn are dependent on each other.'"
   ]
  },
  {
   "cell_type": "code",
   "execution_count": 11,
   "id": "6077e124-f7dd-4daa-86e2-dc425624f8d6",
   "metadata": {
    "tags": []
   },
   "outputs": [],
   "source": [
    "def hypothesis_two_graph(train, target):\n",
    "        \n",
    "    print(f'contract type vs if they did churn')\n",
    "    plt.figure(figsize=(8, 5))\n",
    "    sns.barplot(data=train, x=train.contract_type, y=target, palette='viridis')\n",
    "    plt.title(f'Churn by contract type')\n",
    "    overall_rate = train[target].mean()\n",
    "    plt.axhline(overall_rate, ls='--', color='black')\n",
    "    plt.show()"
   ]
  },
  {
   "cell_type": "code",
   "execution_count": 12,
   "id": "c43cdd35-c54c-4d9e-9e82-320eade2da2c",
   "metadata": {
    "tags": []
   },
   "outputs": [
    {
     "name": "stdout",
     "output_type": "stream",
     "text": [
      "contract type vs if they did churn\n"
     ]
    },
    {
     "data": {
      "image/png": "[encoded data removed]",
      "text/plain": [
       "<Figure size 800x500 with 1 Axes>"
      ]
     },
     "metadata": {},
     "output_type": "display_data"
    }
   ],
   "source": [
    "hypothesis_two_graph(train, target)"
   ]
  },
  {
   "cell_type": "code",
   "execution_count": 13,
   "id": "529448d3-53fe-4d10-9d4e-1cbe343bfc61",
   "metadata": {
    "tags": []
   },
   "outputs": [
    {
     "data": {
      "text/html": [
       "<div>\n",
       "<style scoped>\n",
       "    .dataframe tbody tr th:only-of-type {\n",
       "        vertical-align: middle;\n",
       "    }\n",
       "\n",
       "    .dataframe tbody tr th {\n",
       "        vertical-align: top;\n",
       "    }\n",
       "\n",
       "    .dataframe thead th {\n",
       "        text-align: right;\n",
       "    }\n",
       "</style>\n",
       "<table border=\"1\" class=\"dataframe\">\n",
       "  <thead>\n",
       "    <tr style=\"text-align: right;\">\n",
       "      <th>did_churn</th>\n",
       "      <th>0</th>\n",
       "      <th>1</th>\n",
       "    </tr>\n",
       "    <tr>\n",
       "      <th>contract_type</th>\n",
       "      <th></th>\n",
       "      <th></th>\n",
       "    </tr>\n",
       "  </thead>\n",
       "  <tbody>\n",
       "    <tr>\n",
       "      <th>Month-to-month</th>\n",
       "      <td>1247</td>\n",
       "      <td>924</td>\n",
       "    </tr>\n",
       "    <tr>\n",
       "      <th>One year</th>\n",
       "      <td>735</td>\n",
       "      <td>91</td>\n",
       "    </tr>\n",
       "    <tr>\n",
       "      <th>Two year</th>\n",
       "      <td>915</td>\n",
       "      <td>31</td>\n",
       "    </tr>\n",
       "  </tbody>\n",
       "</table>\n",
       "</div>"
      ],
      "text/plain": [
       "did_churn          0    1\n",
       "contract_type            \n",
       "Month-to-month  1247  924\n",
       "One year         735   91\n",
       "Two year         915   31"
      ]
     },
     "execution_count": 13,
     "metadata": {},
     "output_type": "execute_result"
    }
   ],
   "source": [
    "observed = pd.crosstab(train.contract_type, train[target])\n",
    "observed"
   ]
  },
  {
   "cell_type": "code",
   "execution_count": 14,
   "id": "bf13c7a8-5766-448d-a4c6-69999fea2478",
   "metadata": {
    "tags": []
   },
   "outputs": [
    {
     "name": "stdout",
     "output_type": "stream",
     "text": [
      "We reject the null hypothesis: Contract type and churn are independent of each other.\n",
      "Therefore: Contract type an churn are dependent on each other.\n"
     ]
    },
    {
     "data": {
      "text/plain": [
       "5.086019119486488e-142"
      ]
     },
     "execution_count": 14,
     "metadata": {},
     "output_type": "execute_result"
    }
   ],
   "source": [
    "chi2, p, degf, expected = stats.chi2_contingency(observed)\n",
    "\n",
    "alpha = 0.05\n",
    "if p < alpha:\n",
    "    print(f\"We reject the null hypothesis: {null_hypothesis}\")\n",
    "    print(f\"Therefore: {alternative_hypothesis}\")\n",
    "else:\n",
    "    print(f\"We fail to reject the null, therefore: {null_hypothesis}\")\n",
    "p\n",
    "   "
   ]
  },
  {
   "cell_type": "markdown",
   "id": "dd45bfd6-8993-4b8e-a9b3-efa3fdcaa2da",
   "metadata": {},
   "source": [
    "### Hypothesis 3: \n",
    "2. Are customer more likley to churn due to payment type? <br>\n",
    "$H_0$: Payment type and churn are independent of each other. <br>\n",
    "$H_a$: Payment type an churn are dependent on each other. <br>"
   ]
  },
  {
   "cell_type": "code",
   "execution_count": 15,
   "id": "74b9563d-08df-42b5-8718-1576e5327b73",
   "metadata": {
    "tags": []
   },
   "outputs": [],
   "source": [
    "null_hypothesis = 'Payment type and churn are independent of each other.'\n",
    "alternative_hypothesis = 'Payment type an churn are dependent on each other.'"
   ]
  },
  {
   "cell_type": "code",
   "execution_count": 16,
   "id": "afabe4ce-7bfb-42d7-9029-f6c108eaf08e",
   "metadata": {
    "tags": []
   },
   "outputs": [],
   "source": [
    "def hypothesis_three_graph(train, target):\n",
    "        \n",
    "    print(f'contract type vs if they did churn')\n",
    "    plt.figure(figsize=(8, 5))\n",
    "    sns.barplot(data=train, x=train.payment_type, y=target, palette='flare')\n",
    "    plt.title(f'Churn by payment type')\n",
    "    overall_rate = train[target].mean()\n",
    "    plt.axhline(overall_rate, ls='--', color='black')\n",
    "    plt.show()"
   ]
  },
  {
   "cell_type": "code",
   "execution_count": 17,
   "id": "bf5508d8-d83d-43bf-853a-fcdc3612302e",
   "metadata": {
    "tags": []
   },
   "outputs": [
    {
     "name": "stdout",
     "output_type": "stream",
     "text": [
      "contract type vs if they did churn\n"
     ]
    },
    {
     "data": {
      "image/png": "[encoded data removed]",
      "text/plain": [
       "<Figure size 800x500 with 1 Axes>"
      ]
     },
     "metadata": {},
     "output_type": "display_data"
    }
   ],
   "source": [
    "hypothesis_three_graph(train, target)"
   ]
  },
  {
   "cell_type": "code",
   "execution_count": 18,
   "id": "31482188-dc0f-47ed-b8f6-f33558d309fa",
   "metadata": {
    "tags": []
   },
   "outputs": [
    {
     "data": {
      "text/html": [
       "<div>\n",
       "<style scoped>\n",
       "    .dataframe tbody tr th:only-of-type {\n",
       "        vertical-align: middle;\n",
       "    }\n",
       "\n",
       "    .dataframe tbody tr th {\n",
       "        vertical-align: top;\n",
       "    }\n",
       "\n",
       "    .dataframe thead th {\n",
       "        text-align: right;\n",
       "    }\n",
       "</style>\n",
       "<table border=\"1\" class=\"dataframe\">\n",
       "  <thead>\n",
       "    <tr style=\"text-align: right;\">\n",
       "      <th>did_churn</th>\n",
       "      <th>0</th>\n",
       "      <th>1</th>\n",
       "    </tr>\n",
       "    <tr>\n",
       "      <th>payment_type</th>\n",
       "      <th></th>\n",
       "      <th></th>\n",
       "    </tr>\n",
       "  </thead>\n",
       "  <tbody>\n",
       "    <tr>\n",
       "      <th>Bank transfer (automatic)</th>\n",
       "      <td>712</td>\n",
       "      <td>143</td>\n",
       "    </tr>\n",
       "    <tr>\n",
       "      <th>Credit card (automatic)</th>\n",
       "      <td>692</td>\n",
       "      <td>121</td>\n",
       "    </tr>\n",
       "    <tr>\n",
       "      <th>Electronic check</th>\n",
       "      <td>752</td>\n",
       "      <td>590</td>\n",
       "    </tr>\n",
       "    <tr>\n",
       "      <th>Mailed check</th>\n",
       "      <td>741</td>\n",
       "      <td>192</td>\n",
       "    </tr>\n",
       "  </tbody>\n",
       "</table>\n",
       "</div>"
      ],
      "text/plain": [
       "did_churn                    0    1\n",
       "payment_type                       \n",
       "Bank transfer (automatic)  712  143\n",
       "Credit card (automatic)    692  121\n",
       "Electronic check           752  590\n",
       "Mailed check               741  192"
      ]
     },
     "execution_count": 18,
     "metadata": {},
     "output_type": "execute_result"
    }
   ],
   "source": [
    "observed = pd.crosstab(train.payment_type, train[target])\n",
    "observed"
   ]
  },
  {
   "cell_type": "code",
   "execution_count": 19,
   "id": "e5879aeb-ea40-4e9b-8f11-215cdef0f37b",
   "metadata": {
    "tags": []
   },
   "outputs": [
    {
     "name": "stdout",
     "output_type": "stream",
     "text": [
      "We reject the null hypothesis: Payment type and churn are independent of each other.\n",
      "Therefore: Payment type an churn are dependent on each other.\n"
     ]
    },
    {
     "data": {
      "text/plain": [
       "3.877716949659107e-70"
      ]
     },
     "execution_count": 19,
     "metadata": {},
     "output_type": "execute_result"
    }
   ],
   "source": [
    "chi2, p, degf, expected = stats.chi2_contingency(observed)\n",
    "\n",
    "alpha = 0.05\n",
    "if p < alpha:\n",
    "    print(f\"We reject the null hypothesis: {null_hypothesis}\")\n",
    "    print(f\"Therefore: {alternative_hypothesis}\")\n",
    "else:\n",
    "    print(f\"We fail to reject the null, therefore: {null_hypothesis}\")\n",
    "p\n",
    "   "
   ]
  },
  {
   "cell_type": "markdown",
   "id": "a2ac515d-02c7-43d4-946e-c8593e84283b",
   "metadata": {},
   "source": [
    "### Hypothesis 4: \n",
    "2. Are customer more likley to churn due to payment type? <br>\n",
    "$H_0$: Monthly charges and churn are have no relationship. <br>\n",
    "$H_a$: Monthly charges and churn are have a monotonic relationship <br>"
   ]
  },
  {
   "cell_type": "code",
   "execution_count": 20,
   "id": "a14097bf-104b-43ce-ad95-424135ba12dd",
   "metadata": {
    "tags": []
   },
   "outputs": [
    {
     "data": {
      "image/png": "[encoded data removed]",
      "text/plain": [
       "<Figure size 640x480 with 1 Axes>"
      ]
     },
     "metadata": {},
     "output_type": "display_data"
    }
   ],
   "source": [
    "plt.title(f'Graph of montlhy charges')\n",
    "sns.barplot(x = train.did_churn, y = train.monthly_charges, data = train, palette = 'mako')\n",
    "col_mean = train.monthly_charges.mean()\n",
    "plt.axhline(col_mean, label = (f'Mean of monthly charges'), color = 'black')\n",
    "plt.legend()\n",
    "    \n",
    "plt.show()"
   ]
  },
  {
   "cell_type": "code",
   "execution_count": 21,
   "id": "ac059713-c1e8-4eb6-a6ab-af011dc4b479",
   "metadata": {
    "tags": []
   },
   "outputs": [
    {
     "name": "stdout",
     "output_type": "stream",
     "text": [
      "We can reject the null hypothesis; the means are different.\n"
     ]
    }
   ],
   "source": [
    "stat, p_val = stats.mannwhitneyu(\n",
    "    train[train.churn == 'No'].monthly_charges,\n",
    "    train[train.churn == 'Yes'].monthly_charges)\n",
    "if p_val < 0.05:\n",
    "    print('We can reject the null hypothesis; the means are different.')\n",
    "else:\n",
    "    print('We cannot reject the null hypothesis')"
   ]
  },
  {
   "cell_type": "code",
   "execution_count": 22,
   "id": "4c6e1e57-4594-47b6-8ba0-8c36ddbb7f43",
   "metadata": {
    "tags": []
   },
   "outputs": [],
   "source": [
    "def eval_Spearmanresult(r,p,α=0.05):\n",
    "    \"\"\"\n",
    "    \n",
    "    \"\"\"\n",
    "    if p < α:\n",
    "        return print(f\"\"\"We reject H₀, there appears to be a monotonic relationship.\n",
    "Spearman's rs: {r:2f}.\n",
    "P-value: {p}\"\"\")\n",
    "    else:\n",
    "        return print(f\"\"\"We fail to reject H₀: that there does not appear to be a monotonic relationship.\n",
    "Spearman’s r: {r:2f}\n",
    "P-value: {p}\"\"\")"
   ]
  },
  {
   "cell_type": "code",
   "execution_count": 23,
   "id": "fd7de6bf-fac4-447d-afaf-a08cb8c95e12",
   "metadata": {
    "tags": []
   },
   "outputs": [
    {
     "name": "stdout",
     "output_type": "stream",
     "text": [
      "We reject H₀, there appears to be a monotonic relationship.\n",
      "Spearman's rs: 0.174870.\n",
      "P-value: 1.9067207252957424e-28\n"
     ]
    }
   ],
   "source": [
    "r, p = stats.spearmanr(train.monthly_charges, train.churn)\n",
    "eval_Spearmanresult(r, p)"
   ]
  },
  {
   "cell_type": "markdown",
   "id": "20cdc510-53b9-40c9-bbbd-62c45d57da34",
   "metadata": {},
   "source": [
    "### Hypothesis 5: \n",
    "2. Are customer more likley to churn due to payment type? <br>\n",
    "$H_0$: Internet type and churn are independent of each other. <br>\n",
    "$H_a$: Internet type and churn are dependent on each other. <br>"
   ]
  },
  {
   "cell_type": "code",
   "execution_count": 24,
   "id": "cc542273-69c2-486d-9dbd-67eed956942c",
   "metadata": {},
   "outputs": [
    {
     "data": {
      "text/html": [
       "<div>\n",
       "<style scoped>\n",
       "    .dataframe tbody tr th:only-of-type {\n",
       "        vertical-align: middle;\n",
       "    }\n",
       "\n",
       "    .dataframe tbody tr th {\n",
       "        vertical-align: top;\n",
       "    }\n",
       "\n",
       "    .dataframe thead th {\n",
       "        text-align: right;\n",
       "    }\n",
       "</style>\n",
       "<table border=\"1\" class=\"dataframe\">\n",
       "  <thead>\n",
       "    <tr style=\"text-align: right;\">\n",
       "      <th>did_churn</th>\n",
       "      <th>0</th>\n",
       "      <th>1</th>\n",
       "    </tr>\n",
       "    <tr>\n",
       "      <th>payment_type</th>\n",
       "      <th></th>\n",
       "      <th></th>\n",
       "    </tr>\n",
       "  </thead>\n",
       "  <tbody>\n",
       "    <tr>\n",
       "      <th>Bank transfer (automatic)</th>\n",
       "      <td>712</td>\n",
       "      <td>143</td>\n",
       "    </tr>\n",
       "    <tr>\n",
       "      <th>Credit card (automatic)</th>\n",
       "      <td>692</td>\n",
       "      <td>121</td>\n",
       "    </tr>\n",
       "    <tr>\n",
       "      <th>Electronic check</th>\n",
       "      <td>752</td>\n",
       "      <td>590</td>\n",
       "    </tr>\n",
       "    <tr>\n",
       "      <th>Mailed check</th>\n",
       "      <td>741</td>\n",
       "      <td>192</td>\n",
       "    </tr>\n",
       "  </tbody>\n",
       "</table>\n",
       "</div>"
      ],
      "text/plain": [
       "did_churn                    0    1\n",
       "payment_type                       \n",
       "Bank transfer (automatic)  712  143\n",
       "Credit card (automatic)    692  121\n",
       "Electronic check           752  590\n",
       "Mailed check               741  192"
      ]
     },
     "execution_count": 24,
     "metadata": {},
     "output_type": "execute_result"
    }
   ],
   "source": [
    "null_hypothesis = 'Internet type and churn are independent of each other.'\n",
    "alternative_hypothesis = 'Internet type and churn are dependent on each other.'\n",
    "observed = pd.crosstab(train.payment_type, train[target])\n",
    "observed"
   ]
  },
  {
   "cell_type": "code",
   "execution_count": 25,
   "id": "38f22c31-0033-4998-a6db-2155e52f4dcf",
   "metadata": {
    "tags": []
   },
   "outputs": [
    {
     "name": "stdout",
     "output_type": "stream",
     "text": [
      "We reject the null hypothesis: Internet type and churn are independent of each other.\n",
      "Therefore: Internet type and churn are dependent on each other.\n"
     ]
    },
    {
     "data": {
      "text/plain": [
       "3.877716949659107e-70"
      ]
     },
     "execution_count": 25,
     "metadata": {},
     "output_type": "execute_result"
    }
   ],
   "source": [
    "chi2, p, degf, expected = stats.chi2_contingency(observed)\n",
    "\n",
    "alpha = 0.05\n",
    "if p < alpha:\n",
    "    print(f\"We reject the null hypothesis: {null_hypothesis}\")\n",
    "    print(f\"Therefore: {alternative_hypothesis}\")\n",
    "else:\n",
    "    print(f\"We fail to reject the null, therefore: {null_hypothesis}\")\n",
    "p\n",
    "   "
   ]
  },
  {
   "cell_type": "code",
   "execution_count": null,
   "id": "35f0ebc0-ba98-4dcc-a7a0-abd17d1c1a40",
   "metadata": {},
   "outputs": [],
   "source": []
  },
  {
   "cell_type": "code",
   "execution_count": null,
   "id": "b3ab3d62-7fa1-4251-a6de-d6054a726383",
   "metadata": {},
   "outputs": [],
   "source": []
  },
  {
   "cell_type": "code",
   "execution_count": null,
   "id": "50880e21-187e-487e-a8e0-ff17272f6f53",
   "metadata": {},
   "outputs": [],
   "source": []
  },
  {
   "cell_type": "code",
   "execution_count": null,
   "id": "20f62101-1b69-4a6a-b1fd-3529d381372d",
   "metadata": {},
   "outputs": [],
   "source": []
  }
 ],
 "metadata": {
  "kernelspec": {
   "display_name": "Python 3 (ipykernel)",
   "language": "python",
   "name": "python3"
  },
  "language_info": {
   "codemirror_mode": {
    "name": "ipython",
    "version": 3
   },
   "file_extension": ".py",
   "mimetype": "text/x-python",
   "name": "python",
   "nbconvert_exporter": "python",
   "pygments_lexer": "ipython3",
   "version": "3.11.4"
  }
 },
 "nbformat": 4,
 "nbformat_minor": 5
}
