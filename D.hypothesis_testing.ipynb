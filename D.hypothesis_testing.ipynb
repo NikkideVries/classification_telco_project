{
 "cells": [
  {
   "cell_type": "markdown",
   "id": "0bccb6a1-8ab4-4218-bbcf-4a5f68d91e1f",
   "metadata": {},
   "source": [
    "# Hypothesis testing:\n",
    "- This is a sheet used for the final project to show work:"
   ]
  },
  {
   "cell_type": "code",
   "execution_count": 1,
   "id": "4868f190-2890-4766-945e-0fd77ba0d7ad",
   "metadata": {
    "tags": []
   },
   "outputs": [],
   "source": [
    "#importds \n",
    "import warnings\n",
    "warnings.filterwarnings(\"ignore\")\n",
    "\n",
    "import pandas as pd\n",
    "import numpy as np\n",
    "import matplotlib.pyplot as plt\n",
    "import seaborn as sns\n",
    "from scipy import stats\n",
    "from sklearn.model_selection import train_test_split\n",
    "\n",
    "import wrangle as wr"
   ]
  },
  {
   "cell_type": "code",
   "execution_count": 2,
   "id": "20e1507b-c26a-4754-90b1-21638d216803",
   "metadata": {
    "tags": []
   },
   "outputs": [
    {
     "ename": "TypeError",
     "evalue": "split_telco_data() missing 1 required positional argument: 'df'",
     "output_type": "error",
     "traceback": [
      "\u001b[0;31m---------------------------------------------------------------------------\u001b[0m",
      "\u001b[0;31mTypeError\u001b[0m                                 Traceback (most recent call last)",
      "Cell \u001b[0;32mIn[2], line 1\u001b[0m\n\u001b[0;32m----> 1\u001b[0m train, val, test \u001b[38;5;241m=\u001b[39m wr\u001b[38;5;241m.\u001b[39msplit_telco_data()\n\u001b[1;32m      2\u001b[0m train\u001b[38;5;241m.\u001b[39mhead()\n",
      "\u001b[0;31mTypeError\u001b[0m: split_telco_data() missing 1 required positional argument: 'df'"
     ]
    }
   ],
   "source": [
    "train, val, test = wr.split_telco_data()\n",
    "train.head()"
   ]
  },
  {
   "cell_type": "code",
   "execution_count": null,
   "id": "c526bd29-9851-4a58-9799-0e1b7c6eb829",
   "metadata": {
    "tags": []
   },
   "outputs": [],
   "source": [
    "target = 'did_churn'"
   ]
  },
  {
   "cell_type": "markdown",
   "id": "458b906a-9db5-4599-96c3-548ac97b846c",
   "metadata": {},
   "source": [
    "### Hypothesis 1:\n",
    "1. Are customers more likley to churn if they are a senior citizen <br>\n",
    "$H_0$: Senior citizen and churn are independent of each other <br>\n",
    "$H_a$: Senior citizen an churn are dependent on each other <br>"
   ]
  },
  {
   "cell_type": "code",
   "execution_count": null,
   "id": "71406c03-7123-4da6-804c-8e8164264c84",
   "metadata": {
    "tags": []
   },
   "outputs": [],
   "source": [
    "null_hypothesis = 'Senior citizen and churn are independent of each other.'\n",
    "alternative_hypothesis = 'Senior citizen an churn are dependent on each other.'"
   ]
  },
  {
   "cell_type": "code",
   "execution_count": null,
   "id": "67b97401-4f89-4dd8-8b36-64593c65fa0e",
   "metadata": {
    "tags": []
   },
   "outputs": [],
   "source": [
    "def hypothesis_one_graph(train, target):\n",
    "        \n",
    "    print(f'senior vs if they did churn')\n",
    "    plt.figure(figsize=(8, 5))\n",
    "    sns.barplot(data=train, x=train.senior_citizen, y=target, palette='magma')\n",
    "    plt.title(f'Churn by senior citizen')\n",
    "    overall_rate = train[target].mean()\n",
    "    plt.axhline(overall_rate, ls='--', color='black')\n",
    "    plt.show()\n",
    "    "
   ]
  },
  {
   "cell_type": "code",
   "execution_count": null,
   "id": "a98f20c6-fc39-4cdf-b6d8-df9a6432f37f",
   "metadata": {
    "tags": []
   },
   "outputs": [],
   "source": [
    "hypothesis_one_graph(train, target)"
   ]
  },
  {
   "cell_type": "code",
   "execution_count": null,
   "id": "decb53dc-3c4f-4314-b9cd-0fe0a4ff541c",
   "metadata": {
    "tags": []
   },
   "outputs": [],
   "source": [
    "observed = pd.crosstab(train.senior_citizen, train[target])\n",
    "observed"
   ]
  },
  {
   "cell_type": "code",
   "execution_count": null,
   "id": "de9cf0df-ffe2-40b6-8bd6-9ab296e144d3",
   "metadata": {
    "tags": []
   },
   "outputs": [],
   "source": [
    "chi2, p, degf, expected = stats.chi2_contingency(observed)\n",
    "\n",
    "alpha = 0.05\n",
    "if p < alpha:\n",
    "    print(f\"We reject the null hypothesis: {null_hypothesis}\")\n",
    "    print(f\"Therefore: {alternative_hypothesis}\")\n",
    "else:\n",
    "    print(f\"We fail to reject the null, therefore: {null_hypothesis}\")\n",
    "p\n",
    "        "
   ]
  },
  {
   "cell_type": "markdown",
   "id": "e213240c-029a-4e5f-bd83-e05ddfe2bff7",
   "metadata": {
    "tags": []
   },
   "source": [
    "### Hyothesis 2: \n",
    "1. Are customers more likley to churn due to contract type? <br>\n",
    "$H_0$: Contract type and churn are independent of each other. <br>\n",
    "$H_a$: Contract type an churn are dependent on each other. <br>"
   ]
  },
  {
   "cell_type": "code",
   "execution_count": null,
   "id": "2e9cba16-6694-4baf-9fc3-fe32e7286e2c",
   "metadata": {
    "tags": []
   },
   "outputs": [],
   "source": [
    "null_hypothesis = 'Contract type and churn are independent of each other.'\n",
    "alternative_hypothesis = 'Contract type an churn are dependent on each other.'"
   ]
  },
  {
   "cell_type": "code",
   "execution_count": null,
   "id": "6077e124-f7dd-4daa-86e2-dc425624f8d6",
   "metadata": {
    "tags": []
   },
   "outputs": [],
   "source": [
    "def hypothesis_two_graph(train, target):\n",
    "        \n",
    "    print(f'contract type vs if they did churn')\n",
    "    plt.figure(figsize=(8, 5))\n",
    "    sns.barplot(data=train, x=train.contract_type, y=target, palette='viridis')\n",
    "    plt.title(f'Churn by contract type')\n",
    "    overall_rate = train[target].mean()\n",
    "    plt.axhline(overall_rate, ls='--', color='black')\n",
    "    plt.show()"
   ]
  },
  {
   "cell_type": "code",
   "execution_count": null,
   "id": "c43cdd35-c54c-4d9e-9e82-320eade2da2c",
   "metadata": {
    "tags": []
   },
   "outputs": [],
   "source": [
    "hypothesis_two_graph(train, target)"
   ]
  },
  {
   "cell_type": "code",
   "execution_count": null,
   "id": "529448d3-53fe-4d10-9d4e-1cbe343bfc61",
   "metadata": {
    "tags": []
   },
   "outputs": [],
   "source": [
    "observed = pd.crosstab(train.contract_type, train[target])\n",
    "observed"
   ]
  },
  {
   "cell_type": "code",
   "execution_count": null,
   "id": "bf13c7a8-5766-448d-a4c6-69999fea2478",
   "metadata": {
    "tags": []
   },
   "outputs": [],
   "source": [
    "chi2, p, degf, expected = stats.chi2_contingency(observed)\n",
    "\n",
    "alpha = 0.05\n",
    "if p < alpha:\n",
    "    print(f\"We reject the null hypothesis: {null_hypothesis}\")\n",
    "    print(f\"Therefore: {alternative_hypothesis}\")\n",
    "else:\n",
    "    print(f\"We fail to reject the null, therefore: {null_hypothesis}\")\n",
    "p\n",
    "   "
   ]
  },
  {
   "cell_type": "markdown",
   "id": "dd45bfd6-8993-4b8e-a9b3-efa3fdcaa2da",
   "metadata": {},
   "source": [
    "### Hypothesis 3: \n",
    "2. Are customer more likley to churn due to payment type? <br>\n",
    "$H_0$: Payment type and churn are independent of each other. <br>\n",
    "$H_a$: Payment type an churn are dependent on each other. <br>"
   ]
  },
  {
   "cell_type": "code",
   "execution_count": null,
   "id": "74b9563d-08df-42b5-8718-1576e5327b73",
   "metadata": {
    "tags": []
   },
   "outputs": [],
   "source": [
    "null_hypothesis = 'Payment type and churn are independent of each other.'\n",
    "alternative_hypothesis = 'Payment type an churn are dependent on each other.'"
   ]
  },
  {
   "cell_type": "code",
   "execution_count": null,
   "id": "afabe4ce-7bfb-42d7-9029-f6c108eaf08e",
   "metadata": {
    "tags": []
   },
   "outputs": [],
   "source": [
    "def hypothesis_three_graph(train, target):\n",
    "        \n",
    "    print(f'contract type vs if they did churn')\n",
    "    plt.figure(figsize=(8, 5))\n",
    "    sns.barplot(data=train, x=train.payment_type, y=target, palette='flare')\n",
    "    plt.title(f'Churn by payment type')\n",
    "    overall_rate = train[target].mean()\n",
    "    plt.axhline(overall_rate, ls='--', color='black')\n",
    "    plt.show()"
   ]
  },
  {
   "cell_type": "code",
   "execution_count": null,
   "id": "bf5508d8-d83d-43bf-853a-fcdc3612302e",
   "metadata": {
    "tags": []
   },
   "outputs": [],
   "source": [
    "hypothesis_three_graph(train, target)"
   ]
  },
  {
   "cell_type": "code",
   "execution_count": null,
   "id": "31482188-dc0f-47ed-b8f6-f33558d309fa",
   "metadata": {
    "tags": []
   },
   "outputs": [],
   "source": [
    "observed = pd.crosstab(train.payment_type, train[target])\n",
    "observed"
   ]
  },
  {
   "cell_type": "code",
   "execution_count": null,
   "id": "e5879aeb-ea40-4e9b-8f11-215cdef0f37b",
   "metadata": {
    "tags": []
   },
   "outputs": [],
   "source": [
    "chi2, p, degf, expected = stats.chi2_contingency(observed)\n",
    "\n",
    "alpha = 0.05\n",
    "if p < alpha:\n",
    "    print(f\"We reject the null hypothesis: {null_hypothesis}\")\n",
    "    print(f\"Therefore: {alternative_hypothesis}\")\n",
    "else:\n",
    "    print(f\"We fail to reject the null, therefore: {null_hypothesis}\")\n",
    "p\n",
    "   "
   ]
  },
  {
   "cell_type": "markdown",
   "id": "a2ac515d-02c7-43d4-946e-c8593e84283b",
   "metadata": {},
   "source": [
    "### Hypothesis 4: \n",
    "2. Are customer more likley to churn due to payment type? <br>\n",
    "$H_0$: Monthly charges and churn are have no relationship. <br>\n",
    "$H_a$: Monthly charges and churn are have a monotonic relationship <br>"
   ]
  },
  {
   "cell_type": "code",
   "execution_count": null,
   "id": "a14097bf-104b-43ce-ad95-424135ba12dd",
   "metadata": {
    "tags": []
   },
   "outputs": [],
   "source": [
    "plt.title(f'Graph of montlhy charges')\n",
    "sns.barplot(x = train.did_churn, y = train.monthly_charges, data = train, palette = 'mako')\n",
    "col_mean = train.monthly_charges.mean()\n",
    "plt.axhline(col_mean, label = (f'Mean of monthly charges'), color = 'black')\n",
    "plt.legend()\n",
    "    \n",
    "plt.show()"
   ]
  },
  {
   "cell_type": "code",
   "execution_count": null,
   "id": "ac059713-c1e8-4eb6-a6ab-af011dc4b479",
   "metadata": {
    "tags": []
   },
   "outputs": [],
   "source": [
    "stat, p_val = stats.mannwhitneyu(\n",
    "    train[train.churn == 'No'].monthly_charges,\n",
    "    train[train.churn == 'Yes'].monthly_charges)\n",
    "if p_val < 0.05:\n",
    "    print('We can reject the null hypothesis; the means are different.')\n",
    "else:\n",
    "    print('We cannot reject the null hypothesis')"
   ]
  },
  {
   "cell_type": "code",
   "execution_count": null,
   "id": "fd7de6bf-fac4-447d-afaf-a08cb8c95e12",
   "metadata": {
    "tags": []
   },
   "outputs": [],
   "source": [
    "r, p = stats.spearmanr(train.monthly_charges, train.churn)\n",
    "eval_Spearmanresult(r, p)"
   ]
  },
  {
   "cell_type": "code",
   "execution_count": null,
   "id": "4c6e1e57-4594-47b6-8ba0-8c36ddbb7f43",
   "metadata": {
    "tags": []
   },
   "outputs": [],
   "source": [
    "def eval_Spearmanresult(r,p,α=0.05):\n",
    "    \"\"\"\n",
    "    \n",
    "    \"\"\"\n",
    "    if p < α:\n",
    "        return print(f\"\"\"We reject H₀, there appears to be a monotonic relationship.\n",
    "Spearman's rs: {r:2f}.\n",
    "P-value: {p}\"\"\")\n",
    "    else:\n",
    "        return print(f\"\"\"We fail to reject H₀: that there does not appear to be a monotonic relationship.\n",
    "Spearman’s r: {r:2f}\n",
    "P-value: {p}\"\"\")"
   ]
  },
  {
   "cell_type": "code",
   "execution_count": null,
   "id": "07c6013e-9d67-4c1a-90bf-8b92c8f12faa",
   "metadata": {},
   "outputs": [],
   "source": [
    "### Hypothesis 5: \n",
    "2. Are customer more likley to churn due to payment type? <br>\n",
    "$H_0$: Internet type and churn are independent of each other. <br>\n",
    "$H_a$: Internet type and churn are dependent on each other. <br>"
   ]
  },
  {
   "cell_type": "code",
   "execution_count": null,
   "id": "cc542273-69c2-486d-9dbd-67eed956942c",
   "metadata": {},
   "outputs": [],
   "source": [
    "null_hypothesis = 'Internet type and churn are independent of each other.'\n",
    "alternative_hypothesis = 'Internet type and churn are dependent on each other.'\n",
    "observed = pd.crosstab(train.payment_type, train[target])\n",
    "observed"
   ]
  },
  {
   "cell_type": "code",
   "execution_count": null,
   "id": "38f22c31-0033-4998-a6db-2155e52f4dcf",
   "metadata": {
    "tags": []
   },
   "outputs": [],
   "source": [
    "chi2, p, degf, expected = stats.chi2_contingency(observed)\n",
    "\n",
    "alpha = 0.05\n",
    "if p < alpha:\n",
    "    print(f\"We reject the null hypothesis: {null_hypothesis}\")\n",
    "    print(f\"Therefore: {alternative_hypothesis}\")\n",
    "else:\n",
    "    print(f\"We fail to reject the null, therefore: {null_hypothesis}\")\n",
    "p\n",
    "   "
   ]
  },
  {
   "cell_type": "code",
   "execution_count": null,
   "id": "35f0ebc0-ba98-4dcc-a7a0-abd17d1c1a40",
   "metadata": {},
   "outputs": [],
   "source": []
  },
  {
   "cell_type": "code",
   "execution_count": null,
   "id": "b3ab3d62-7fa1-4251-a6de-d6054a726383",
   "metadata": {},
   "outputs": [],
   "source": []
  },
  {
   "cell_type": "code",
   "execution_count": null,
   "id": "50880e21-187e-487e-a8e0-ff17272f6f53",
   "metadata": {},
   "outputs": [],
   "source": []
  },
  {
   "cell_type": "code",
   "execution_count": null,
   "id": "20f62101-1b69-4a6a-b1fd-3529d381372d",
   "metadata": {},
   "outputs": [],
   "source": []
  }
 ],
 "metadata": {
  "kernelspec": {
   "display_name": "Python 3 (ipykernel)",
   "language": "python",
   "name": "python3"
  },
  "language_info": {
   "codemirror_mode": {
    "name": "ipython",
    "version": 3
   },
   "file_extension": ".py",
   "mimetype": "text/x-python",
   "name": "python",
   "nbconvert_exporter": "python",
   "pygments_lexer": "ipython3",
   "version": "3.11.4"
  }
 },
 "nbformat": 4,
 "nbformat_minor": 5
}
